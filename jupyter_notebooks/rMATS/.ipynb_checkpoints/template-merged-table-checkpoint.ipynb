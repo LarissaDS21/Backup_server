{
 "cells": [
  {
   "cell_type": "code",
   "execution_count": 1,
   "id": "d43ba7d4-9b73-464a-bc79-3615c2776fa8",
   "metadata": {
    "execution": {
     "iopub.execute_input": "2023-07-28T19:01:19.411404Z",
     "iopub.status.busy": "2023-07-28T19:01:19.406352Z",
     "iopub.status.idle": "2023-07-28T19:01:21.393654Z",
     "shell.execute_reply": "2023-07-28T19:01:21.389169Z"
    }
   },
   "outputs": [
    {
     "name": "stderr",
     "output_type": "stream",
     "text": [
      "Warning message:\n",
      "“package ‘tibble’ was built under R version 4.2.3”\n",
      "Warning message:\n",
      "“package ‘dplyr’ was built under R version 4.2.3”\n",
      "── \u001b[1mAttaching core tidyverse packages\u001b[22m ──────────────────────── tidyverse 2.0.0 ──\n",
      "\u001b[32m✔\u001b[39m \u001b[34mdplyr    \u001b[39m 1.1.1     \u001b[32m✔\u001b[39m \u001b[34mreadr    \u001b[39m 2.1.4\n",
      "\u001b[32m✔\u001b[39m \u001b[34mforcats  \u001b[39m 1.0.0     \u001b[32m✔\u001b[39m \u001b[34mstringr  \u001b[39m 1.5.0\n",
      "\u001b[32m✔\u001b[39m \u001b[34mggplot2  \u001b[39m 3.4.1     \u001b[32m✔\u001b[39m \u001b[34mtibble   \u001b[39m 3.2.1\n",
      "\u001b[32m✔\u001b[39m \u001b[34mlubridate\u001b[39m 1.9.2     \u001b[32m✔\u001b[39m \u001b[34mtidyr    \u001b[39m 1.3.0\n",
      "\u001b[32m✔\u001b[39m \u001b[34mpurrr    \u001b[39m 1.0.1     \n",
      "── \u001b[1mConflicts\u001b[22m ────────────────────────────────────────── tidyverse_conflicts() ──\n",
      "\u001b[31m✖\u001b[39m \u001b[34mdplyr\u001b[39m::\u001b[32mfilter()\u001b[39m masks \u001b[34mstats\u001b[39m::filter()\n",
      "\u001b[31m✖\u001b[39m \u001b[34mdplyr\u001b[39m::\u001b[32mlag()\u001b[39m    masks \u001b[34mstats\u001b[39m::lag()\n",
      "\u001b[36mℹ\u001b[39m Use the conflicted package (\u001b[3m\u001b[34m<http://conflicted.r-lib.org/>\u001b[39m\u001b[23m) to force all conflicts to become errors\n"
     ]
    }
   ],
   "source": [
    "library(tidyverse)"
   ]
  },
  {
   "cell_type": "code",
   "execution_count": 2,
   "id": "9b4915b6-4486-438c-8883-9dae60126650",
   "metadata": {
    "execution": {
     "iopub.execute_input": "2023-07-28T19:01:21.496404Z",
     "iopub.status.busy": "2023-07-28T19:01:21.416036Z",
     "iopub.status.idle": "2023-07-28T19:01:21.522106Z",
     "shell.execute_reply": "2023-07-28T19:01:21.518030Z"
    }
   },
   "outputs": [],
   "source": [
    "sample=\"RNAP-105\""
   ]
  },
  {
   "cell_type": "code",
   "execution_count": 3,
   "id": "2e3ed7ce-0ac6-4b73-af3e-a39b0338307a",
   "metadata": {
    "execution": {
     "iopub.execute_input": "2023-07-28T19:01:21.551842Z",
     "iopub.status.busy": "2023-07-28T19:01:21.549189Z",
     "iopub.status.idle": "2023-07-28T19:01:21.571421Z",
     "shell.execute_reply": "2023-07-28T19:01:21.569170Z"
    }
   },
   "outputs": [
    {
     "data": {
      "text/html": [
       "'/mnt/gluster01/lgbm/Larissa.Souza/PSI/rMATS/results/merged-rmats-tables/RNAP-105'"
      ],
      "text/latex": [
       "'/mnt/gluster01/lgbm/Larissa.Souza/PSI/rMATS/results/merged-rmats-tables/RNAP-105'"
      ],
      "text/markdown": [
       "'/mnt/gluster01/lgbm/Larissa.Souza/PSI/rMATS/results/merged-rmats-tables/RNAP-105'"
      ],
      "text/plain": [
       "[1] \"/mnt/gluster01/lgbm/Larissa.Souza/PSI/rMATS/results/merged-rmats-tables/RNAP-105\""
      ]
     },
     "metadata": {},
     "output_type": "display_data"
    }
   ],
   "source": [
    "getwd() #pasta em que estou"
   ]
  },
  {
   "cell_type": "code",
   "execution_count": 4,
   "id": "ef3025fc-6a67-481a-8273-79f19cbeaef7",
   "metadata": {
    "execution": {
     "iopub.execute_input": "2023-07-28T19:01:21.584609Z",
     "iopub.status.busy": "2023-07-28T19:01:21.582721Z",
     "iopub.status.idle": "2023-07-28T19:01:21.603242Z",
     "shell.execute_reply": "2023-07-28T19:01:21.600979Z"
    }
   },
   "outputs": [],
   "source": [
    "setwd (\"../../RNAP-105\")"
   ]
  },
  {
   "cell_type": "code",
   "execution_count": 5,
   "id": "5708332f-a0b8-4620-8b02-131fc9e11e58",
   "metadata": {
    "execution": {
     "iopub.execute_input": "2023-07-28T19:01:21.608382Z",
     "iopub.status.busy": "2023-07-28T19:01:21.606531Z",
     "iopub.status.idle": "2023-07-28T19:01:22.317210Z",
     "shell.execute_reply": "2023-07-28T19:01:22.312774Z"
    }
   },
   "outputs": [
    {
     "data": {
      "text/html": [
       "<style>\n",
       ".list-inline {list-style: none; margin:0; padding: 0}\n",
       ".list-inline>li {display: inline-block}\n",
       ".list-inline>li:not(:last-child)::after {content: \"\\00b7\"; padding: 0 .5ex}\n",
       "</style>\n",
       "<ol class=list-inline><li>'./A3SS.MATS.JC.txt'</li><li>'./A5SS.MATS.JC.txt'</li><li>'./MXE.MATS.JC.txt'</li><li>'./RI.MATS.JC.txt'</li><li>'./SE.MATS.JC.txt'</li></ol>\n"
      ],
      "text/latex": [
       "\\begin{enumerate*}\n",
       "\\item './A3SS.MATS.JC.txt'\n",
       "\\item './A5SS.MATS.JC.txt'\n",
       "\\item './MXE.MATS.JC.txt'\n",
       "\\item './RI.MATS.JC.txt'\n",
       "\\item './SE.MATS.JC.txt'\n",
       "\\end{enumerate*}\n"
      ],
      "text/markdown": [
       "1. './A3SS.MATS.JC.txt'\n",
       "2. './A5SS.MATS.JC.txt'\n",
       "3. './MXE.MATS.JC.txt'\n",
       "4. './RI.MATS.JC.txt'\n",
       "5. './SE.MATS.JC.txt'\n",
       "\n",
       "\n"
      ],
      "text/plain": [
       "[1] \"./A3SS.MATS.JC.txt\" \"./A5SS.MATS.JC.txt\" \"./MXE.MATS.JC.txt\" \n",
       "[4] \"./RI.MATS.JC.txt\"   \"./SE.MATS.JC.txt\"  "
      ]
     },
     "metadata": {},
     "output_type": "display_data"
    }
   ],
   "source": [
    "fls <- list.files(pattern = \"*.JC.txt\", full.names = T)\n",
    "fls"
   ]
  },
  {
   "cell_type": "code",
   "execution_count": 6,
   "id": "8cb35a80-09fe-4be0-ab54-9097dfe71ad7",
   "metadata": {
    "execution": {
     "iopub.execute_input": "2023-07-28T19:01:22.327367Z",
     "iopub.status.busy": "2023-07-28T19:01:22.323711Z",
     "iopub.status.idle": "2023-07-28T19:01:22.378375Z",
     "shell.execute_reply": "2023-07-28T19:01:22.374773Z"
    }
   },
   "outputs": [
    {
     "data": {
      "text/html": [
       "'A3SS'"
      ],
      "text/latex": [
       "'A3SS'"
      ],
      "text/markdown": [
       "'A3SS'"
      ],
      "text/plain": [
       "[1] \"A3SS\""
      ]
     },
     "metadata": {},
     "output_type": "display_data"
    }
   ],
   "source": [
    "a <- str_split(fls[1],pattern = \"/\",simplify = T) \n",
    "event1 <- str_split(a[ncol(a)],\"[.]\", simplify = T)[1] # Salvando o nome do evento nessa variável\n",
    "event1 "
   ]
  },
  {
   "cell_type": "code",
   "execution_count": 7,
   "id": "601afe74-596d-4bd1-9d6c-2b239530aaf6",
   "metadata": {
    "execution": {
     "iopub.execute_input": "2023-07-28T19:01:22.387526Z",
     "iopub.status.busy": "2023-07-28T19:01:22.384546Z",
     "iopub.status.idle": "2023-07-28T19:01:23.301994Z",
     "shell.execute_reply": "2023-07-28T19:01:23.299355Z"
    }
   },
   "outputs": [
    {
     "name": "stderr",
     "output_type": "stream",
     "text": [
      "\u001b[1m\u001b[22mNew names:\n",
      "\u001b[36m•\u001b[39m `ID` -> `ID...1`\n",
      "\u001b[36m•\u001b[39m `ID` -> `ID...12`\n",
      "\u001b[1mRows: \u001b[22m\u001b[34m1138\u001b[39m \u001b[1mColumns: \u001b[22m\u001b[34m23\u001b[39m\n",
      "\u001b[36m──\u001b[39m \u001b[1mColumn specification\u001b[22m \u001b[36m────────────────────────────────────────────────────────\u001b[39m\n",
      "\u001b[1mDelimiter:\u001b[22m \"\\t\"\n",
      "\u001b[31mchr\u001b[39m  (7): GeneID, geneSymbol, chr, strand, IJC_SAMPLE_1, SJC_SAMPLE_1, IncLe...\n",
      "\u001b[32mdbl\u001b[39m (16): ID...1, longExonStart_0base, longExonEnd, shortES, shortEE, flanki...\n",
      "\n",
      "\u001b[36mℹ\u001b[39m Use `spec()` to retrieve the full column specification for this data.\n",
      "\u001b[36mℹ\u001b[39m Specify the column types or set `show_col_types = FALSE` to quiet this message.\n"
     ]
    },
    {
     "data": {
      "text/html": [
       "<table class=\"dataframe\">\n",
       "<caption>A tibble: 6 × 24</caption>\n",
       "<thead>\n",
       "\t<tr><th scope=col>ID...1</th><th scope=col>GeneID</th><th scope=col>geneSymbol</th><th scope=col>chr</th><th scope=col>strand</th><th scope=col>longExonStart_0base</th><th scope=col>longExonEnd</th><th scope=col>shortES</th><th scope=col>shortEE</th><th scope=col>flankingES</th><th scope=col>⋯</th><th scope=col>IJC_SAMPLE_2</th><th scope=col>SJC_SAMPLE_2</th><th scope=col>IncFormLen</th><th scope=col>SkipFormLen</th><th scope=col>PValue</th><th scope=col>FDR</th><th scope=col>IncLevel1</th><th scope=col>IncLevel2</th><th scope=col>IncLevelDifference</th><th scope=col>Event</th></tr>\n",
       "\t<tr><th scope=col>&lt;dbl&gt;</th><th scope=col>&lt;chr&gt;</th><th scope=col>&lt;chr&gt;</th><th scope=col>&lt;chr&gt;</th><th scope=col>&lt;chr&gt;</th><th scope=col>&lt;dbl&gt;</th><th scope=col>&lt;dbl&gt;</th><th scope=col>&lt;dbl&gt;</th><th scope=col>&lt;dbl&gt;</th><th scope=col>&lt;dbl&gt;</th><th scope=col>⋯</th><th scope=col>&lt;dbl&gt;</th><th scope=col>&lt;dbl&gt;</th><th scope=col>&lt;dbl&gt;</th><th scope=col>&lt;dbl&gt;</th><th scope=col>&lt;dbl&gt;</th><th scope=col>&lt;dbl&gt;</th><th scope=col>&lt;chr&gt;</th><th scope=col>&lt;dbl&gt;</th><th scope=col>&lt;dbl&gt;</th><th scope=col>&lt;chr&gt;</th></tr>\n",
       "</thead>\n",
       "<tbody>\n",
       "\t<tr><td> 89</td><td>ENSG00000183765</td><td>CHEK2  </td><td>chr22</td><td>-</td><td>28695126</td><td>28695242</td><td>28695126</td><td>28695209</td><td>28695709</td><td>⋯</td><td>1350</td><td>  0</td><td>183</td><td>150</td><td>1.0000000</td><td>1.0000000</td><td>0.956,1.0,0.953,0.959,0.962,1.0,1.0,1.0,1.0,1.0,1.0,1.0,1.0,1.0,1.0,1.0,1.0,0.953,1.0,1.0,1.0,0.989,1.0,1.0,1.0,1.0,0.936,1.0,1.0,1.0,1.0,1.0,1.0,1.0,0.281,1.0,1.0,1.0,1.0,1.0,1.0,1.0,1.0,0.949,1.0,0.897,1.0,0.827,0.994,1.0,1.0,NA,1.0,0.486,0.833,1.0                                                                        </td><td>1.000</td><td>-0.037</td><td>A3SS</td></tr>\n",
       "\t<tr><td> 90</td><td>ENSG00000183765</td><td>CHEK2  </td><td>chr22</td><td>-</td><td>28695126</td><td>28695242</td><td>28695126</td><td>28695209</td><td>28696900</td><td>⋯</td><td> 473</td><td>  0</td><td>183</td><td>150</td><td>1.0000000</td><td>1.0000000</td><td>1.0,1.0,1.0,0.873,1.0,0.891,1.0,1.0,1.0,1.0,1.0,NA,1.0,1.0,1.0,1.0,1.0,1.0,1.0,1.0,1.0,1.0,1.0,1.0,NA,1.0,1.0,1.0,NA,1.0,NA,1.0,1.0,1.0,1.0,1.0,1.0,1.0,1.0,1.0,1.0,1.0,1.0,1.0,1.0,1.0,1.0,1.0,1.0,1.0,1.0,NA,NA,NA,1.0,1.0                                                                                                      </td><td>1.000</td><td>-0.005</td><td>A3SS</td></tr>\n",
       "\t<tr><td>196</td><td>ENSG00000127616</td><td>SMARCA4</td><td>chr19</td><td>+</td><td>10984120</td><td>10984373</td><td>10984123</td><td>10984373</td><td>10961029</td><td>⋯</td><td>  77</td><td> 46</td><td>153</td><td>150</td><td>0.4485598</td><td>1.0000000</td><td>0.666,0.64,0.682,0.686,0.61,0.634,0.685,0.579,0.531,0.662,0.827,0.611,0.79,0.68,0.678,0.538,0.71,0.798,0.558,0.685,0.728,0.63,0.715,0.727,0.752,0.697,0.715,0.708,0.575,0.693,0.704,0.598,0.715,0.643,0.774,0.696,0.499,0.527,0.66,0.681,0.623,0.732,0.7,0.654,0.751,0.623,0.524,0.76,0.758,0.055,0.636,0.495,0.376,0.701,0.8,0.72</td><td>0.621</td><td> 0.032</td><td>A3SS</td></tr>\n",
       "\t<tr><td>198</td><td>ENSG00000127616</td><td>SMARCA4</td><td>chr19</td><td>+</td><td>10984120</td><td>10984373</td><td>10984123</td><td>10984373</td><td>10980776</td><td>⋯</td><td>  24</td><td>  0</td><td>153</td><td>150</td><td>1.0000000</td><td>1.0000000</td><td>0.931,0.765,0.899,0.838,0.668,0.882,0.329,1.0,1.0,0.837,1.0,NA,0.602,NA,NA,NA,1.0,0.301,0.404,0.458,0.482,0.695,0.632,0.662,1.0,0.301,0.697,0.536,0.0,1.0,1.0,0.826,NA,0.876,1.0,0.383,1.0,1.0,0.689,0.773,1.0,1.0,0.068,1.0,0.29,0.705,0.575,NA,0.652,0.0,0.813,NA,NA,NA,1.0,NA                                                  </td><td>1.000</td><td>-0.292</td><td>A3SS</td></tr>\n",
       "\t<tr><td>199</td><td>ENSG00000127616</td><td>SMARCA4</td><td>chr19</td><td>+</td><td>10984120</td><td>10984373</td><td>10984123</td><td>10984373</td><td>10983479</td><td>⋯</td><td>   0</td><td> 23</td><td>153</td><td>150</td><td>1.0000000</td><td>1.0000000</td><td>0.975,0.95,0.99,0.995,0.953,0.954,1.0,0.959,NA,1.0,1.0,NA,1.0,NA,NA,NA,1.0,1.0,NA,1.0,0.395,1.0,0.774,1.0,1.0,1.0,1.0,1.0,NA,NA,0.776,NA,NA,0.826,1.0,1.0,1.0,1.0,0.832,1.0,1.0,1.0,1.0,1.0,0.521,1.0,1.0,NA,1.0,NA,1.0,NA,NA,NA,1.0,NA                                                                                           </td><td>0.000</td><td> 0.948</td><td>A3SS</td></tr>\n",
       "\t<tr><td>200</td><td>ENSG00000127616</td><td>SMARCA4</td><td>chr19</td><td>+</td><td>10996493</td><td>10996544</td><td>10996496</td><td>10996544</td><td>10996212</td><td>⋯</td><td>4435</td><td>131</td><td>153</td><td>150</td><td>0.1182004</td><td>0.8252271</td><td>0.97,0.965,0.964,0.955,0.961,0.956,0.984,0.959,0.97,0.993,0.988,1.0,0.954,1.0,1.0,0.999,1.0,0.996,0.999,0.964,1.0,0.975,0.978,1.0,1.0,0.968,0.975,0.998,0.999,0.956,0.96,0.976,0.968,0.97,0.999,1.0,0.981,0.98,0.955,0.985,0.961,1.0,0.993,0.992,0.984,0.999,0.973,0.847,0.993,0.97,0.93,1.0,1.0,1.0,1.0,0.936                    </td><td>0.971</td><td> 0.007</td><td>A3SS</td></tr>\n",
       "</tbody>\n",
       "</table>\n"
      ],
      "text/latex": [
       "A tibble: 6 × 24\n",
       "\\begin{tabular}{lllllllllllllllllllll}\n",
       " ID...1 & GeneID & geneSymbol & chr & strand & longExonStart\\_0base & longExonEnd & shortES & shortEE & flankingES & ⋯ & IJC\\_SAMPLE\\_2 & SJC\\_SAMPLE\\_2 & IncFormLen & SkipFormLen & PValue & FDR & IncLevel1 & IncLevel2 & IncLevelDifference & Event\\\\\n",
       " <dbl> & <chr> & <chr> & <chr> & <chr> & <dbl> & <dbl> & <dbl> & <dbl> & <dbl> & ⋯ & <dbl> & <dbl> & <dbl> & <dbl> & <dbl> & <dbl> & <chr> & <dbl> & <dbl> & <chr>\\\\\n",
       "\\hline\n",
       "\t  89 & ENSG00000183765 & CHEK2   & chr22 & - & 28695126 & 28695242 & 28695126 & 28695209 & 28695709 & ⋯ & 1350 &   0 & 183 & 150 & 1.0000000 & 1.0000000 & 0.956,1.0,0.953,0.959,0.962,1.0,1.0,1.0,1.0,1.0,1.0,1.0,1.0,1.0,1.0,1.0,1.0,0.953,1.0,1.0,1.0,0.989,1.0,1.0,1.0,1.0,0.936,1.0,1.0,1.0,1.0,1.0,1.0,1.0,0.281,1.0,1.0,1.0,1.0,1.0,1.0,1.0,1.0,0.949,1.0,0.897,1.0,0.827,0.994,1.0,1.0,NA,1.0,0.486,0.833,1.0                                                                         & 1.000 & -0.037 & A3SS\\\\\n",
       "\t  90 & ENSG00000183765 & CHEK2   & chr22 & - & 28695126 & 28695242 & 28695126 & 28695209 & 28696900 & ⋯ &  473 &   0 & 183 & 150 & 1.0000000 & 1.0000000 & 1.0,1.0,1.0,0.873,1.0,0.891,1.0,1.0,1.0,1.0,1.0,NA,1.0,1.0,1.0,1.0,1.0,1.0,1.0,1.0,1.0,1.0,1.0,1.0,NA,1.0,1.0,1.0,NA,1.0,NA,1.0,1.0,1.0,1.0,1.0,1.0,1.0,1.0,1.0,1.0,1.0,1.0,1.0,1.0,1.0,1.0,1.0,1.0,1.0,1.0,NA,NA,NA,1.0,1.0                                                                                                       & 1.000 & -0.005 & A3SS\\\\\n",
       "\t 196 & ENSG00000127616 & SMARCA4 & chr19 & + & 10984120 & 10984373 & 10984123 & 10984373 & 10961029 & ⋯ &   77 &  46 & 153 & 150 & 0.4485598 & 1.0000000 & 0.666,0.64,0.682,0.686,0.61,0.634,0.685,0.579,0.531,0.662,0.827,0.611,0.79,0.68,0.678,0.538,0.71,0.798,0.558,0.685,0.728,0.63,0.715,0.727,0.752,0.697,0.715,0.708,0.575,0.693,0.704,0.598,0.715,0.643,0.774,0.696,0.499,0.527,0.66,0.681,0.623,0.732,0.7,0.654,0.751,0.623,0.524,0.76,0.758,0.055,0.636,0.495,0.376,0.701,0.8,0.72 & 0.621 &  0.032 & A3SS\\\\\n",
       "\t 198 & ENSG00000127616 & SMARCA4 & chr19 & + & 10984120 & 10984373 & 10984123 & 10984373 & 10980776 & ⋯ &   24 &   0 & 153 & 150 & 1.0000000 & 1.0000000 & 0.931,0.765,0.899,0.838,0.668,0.882,0.329,1.0,1.0,0.837,1.0,NA,0.602,NA,NA,NA,1.0,0.301,0.404,0.458,0.482,0.695,0.632,0.662,1.0,0.301,0.697,0.536,0.0,1.0,1.0,0.826,NA,0.876,1.0,0.383,1.0,1.0,0.689,0.773,1.0,1.0,0.068,1.0,0.29,0.705,0.575,NA,0.652,0.0,0.813,NA,NA,NA,1.0,NA                                                   & 1.000 & -0.292 & A3SS\\\\\n",
       "\t 199 & ENSG00000127616 & SMARCA4 & chr19 & + & 10984120 & 10984373 & 10984123 & 10984373 & 10983479 & ⋯ &    0 &  23 & 153 & 150 & 1.0000000 & 1.0000000 & 0.975,0.95,0.99,0.995,0.953,0.954,1.0,0.959,NA,1.0,1.0,NA,1.0,NA,NA,NA,1.0,1.0,NA,1.0,0.395,1.0,0.774,1.0,1.0,1.0,1.0,1.0,NA,NA,0.776,NA,NA,0.826,1.0,1.0,1.0,1.0,0.832,1.0,1.0,1.0,1.0,1.0,0.521,1.0,1.0,NA,1.0,NA,1.0,NA,NA,NA,1.0,NA                                                                                            & 0.000 &  0.948 & A3SS\\\\\n",
       "\t 200 & ENSG00000127616 & SMARCA4 & chr19 & + & 10996493 & 10996544 & 10996496 & 10996544 & 10996212 & ⋯ & 4435 & 131 & 153 & 150 & 0.1182004 & 0.8252271 & 0.97,0.965,0.964,0.955,0.961,0.956,0.984,0.959,0.97,0.993,0.988,1.0,0.954,1.0,1.0,0.999,1.0,0.996,0.999,0.964,1.0,0.975,0.978,1.0,1.0,0.968,0.975,0.998,0.999,0.956,0.96,0.976,0.968,0.97,0.999,1.0,0.981,0.98,0.955,0.985,0.961,1.0,0.993,0.992,0.984,0.999,0.973,0.847,0.993,0.97,0.93,1.0,1.0,1.0,1.0,0.936                     & 0.971 &  0.007 & A3SS\\\\\n",
       "\\end{tabular}\n"
      ],
      "text/markdown": [
       "\n",
       "A tibble: 6 × 24\n",
       "\n",
       "| ID...1 &lt;dbl&gt; | GeneID &lt;chr&gt; | geneSymbol &lt;chr&gt; | chr &lt;chr&gt; | strand &lt;chr&gt; | longExonStart_0base &lt;dbl&gt; | longExonEnd &lt;dbl&gt; | shortES &lt;dbl&gt; | shortEE &lt;dbl&gt; | flankingES &lt;dbl&gt; | ⋯ ⋯ | IJC_SAMPLE_2 &lt;dbl&gt; | SJC_SAMPLE_2 &lt;dbl&gt; | IncFormLen &lt;dbl&gt; | SkipFormLen &lt;dbl&gt; | PValue &lt;dbl&gt; | FDR &lt;dbl&gt; | IncLevel1 &lt;chr&gt; | IncLevel2 &lt;dbl&gt; | IncLevelDifference &lt;dbl&gt; | Event &lt;chr&gt; |\n",
       "|---|---|---|---|---|---|---|---|---|---|---|---|---|---|---|---|---|---|---|---|---|\n",
       "|  89 | ENSG00000183765 | CHEK2   | chr22 | - | 28695126 | 28695242 | 28695126 | 28695209 | 28695709 | ⋯ | 1350 |   0 | 183 | 150 | 1.0000000 | 1.0000000 | 0.956,1.0,0.953,0.959,0.962,1.0,1.0,1.0,1.0,1.0,1.0,1.0,1.0,1.0,1.0,1.0,1.0,0.953,1.0,1.0,1.0,0.989,1.0,1.0,1.0,1.0,0.936,1.0,1.0,1.0,1.0,1.0,1.0,1.0,0.281,1.0,1.0,1.0,1.0,1.0,1.0,1.0,1.0,0.949,1.0,0.897,1.0,0.827,0.994,1.0,1.0,NA,1.0,0.486,0.833,1.0                                                                         | 1.000 | -0.037 | A3SS |\n",
       "|  90 | ENSG00000183765 | CHEK2   | chr22 | - | 28695126 | 28695242 | 28695126 | 28695209 | 28696900 | ⋯ |  473 |   0 | 183 | 150 | 1.0000000 | 1.0000000 | 1.0,1.0,1.0,0.873,1.0,0.891,1.0,1.0,1.0,1.0,1.0,NA,1.0,1.0,1.0,1.0,1.0,1.0,1.0,1.0,1.0,1.0,1.0,1.0,NA,1.0,1.0,1.0,NA,1.0,NA,1.0,1.0,1.0,1.0,1.0,1.0,1.0,1.0,1.0,1.0,1.0,1.0,1.0,1.0,1.0,1.0,1.0,1.0,1.0,1.0,NA,NA,NA,1.0,1.0                                                                                                       | 1.000 | -0.005 | A3SS |\n",
       "| 196 | ENSG00000127616 | SMARCA4 | chr19 | + | 10984120 | 10984373 | 10984123 | 10984373 | 10961029 | ⋯ |   77 |  46 | 153 | 150 | 0.4485598 | 1.0000000 | 0.666,0.64,0.682,0.686,0.61,0.634,0.685,0.579,0.531,0.662,0.827,0.611,0.79,0.68,0.678,0.538,0.71,0.798,0.558,0.685,0.728,0.63,0.715,0.727,0.752,0.697,0.715,0.708,0.575,0.693,0.704,0.598,0.715,0.643,0.774,0.696,0.499,0.527,0.66,0.681,0.623,0.732,0.7,0.654,0.751,0.623,0.524,0.76,0.758,0.055,0.636,0.495,0.376,0.701,0.8,0.72 | 0.621 |  0.032 | A3SS |\n",
       "| 198 | ENSG00000127616 | SMARCA4 | chr19 | + | 10984120 | 10984373 | 10984123 | 10984373 | 10980776 | ⋯ |   24 |   0 | 153 | 150 | 1.0000000 | 1.0000000 | 0.931,0.765,0.899,0.838,0.668,0.882,0.329,1.0,1.0,0.837,1.0,NA,0.602,NA,NA,NA,1.0,0.301,0.404,0.458,0.482,0.695,0.632,0.662,1.0,0.301,0.697,0.536,0.0,1.0,1.0,0.826,NA,0.876,1.0,0.383,1.0,1.0,0.689,0.773,1.0,1.0,0.068,1.0,0.29,0.705,0.575,NA,0.652,0.0,0.813,NA,NA,NA,1.0,NA                                                   | 1.000 | -0.292 | A3SS |\n",
       "| 199 | ENSG00000127616 | SMARCA4 | chr19 | + | 10984120 | 10984373 | 10984123 | 10984373 | 10983479 | ⋯ |    0 |  23 | 153 | 150 | 1.0000000 | 1.0000000 | 0.975,0.95,0.99,0.995,0.953,0.954,1.0,0.959,NA,1.0,1.0,NA,1.0,NA,NA,NA,1.0,1.0,NA,1.0,0.395,1.0,0.774,1.0,1.0,1.0,1.0,1.0,NA,NA,0.776,NA,NA,0.826,1.0,1.0,1.0,1.0,0.832,1.0,1.0,1.0,1.0,1.0,0.521,1.0,1.0,NA,1.0,NA,1.0,NA,NA,NA,1.0,NA                                                                                            | 0.000 |  0.948 | A3SS |\n",
       "| 200 | ENSG00000127616 | SMARCA4 | chr19 | + | 10996493 | 10996544 | 10996496 | 10996544 | 10996212 | ⋯ | 4435 | 131 | 153 | 150 | 0.1182004 | 0.8252271 | 0.97,0.965,0.964,0.955,0.961,0.956,0.984,0.959,0.97,0.993,0.988,1.0,0.954,1.0,1.0,0.999,1.0,0.996,0.999,0.964,1.0,0.975,0.978,1.0,1.0,0.968,0.975,0.998,0.999,0.956,0.96,0.976,0.968,0.97,0.999,1.0,0.981,0.98,0.955,0.985,0.961,1.0,0.993,0.992,0.984,0.999,0.973,0.847,0.993,0.97,0.93,1.0,1.0,1.0,1.0,0.936                     | 0.971 |  0.007 | A3SS |\n",
       "\n"
      ],
      "text/plain": [
       "  ID...1 GeneID          geneSymbol chr   strand longExonStart_0base\n",
       "1  89    ENSG00000183765 CHEK2      chr22 -      28695126           \n",
       "2  90    ENSG00000183765 CHEK2      chr22 -      28695126           \n",
       "3 196    ENSG00000127616 SMARCA4    chr19 +      10984120           \n",
       "4 198    ENSG00000127616 SMARCA4    chr19 +      10984120           \n",
       "5 199    ENSG00000127616 SMARCA4    chr19 +      10984120           \n",
       "6 200    ENSG00000127616 SMARCA4    chr19 +      10996493           \n",
       "  longExonEnd shortES  shortEE  flankingES ⋯ IJC_SAMPLE_2 SJC_SAMPLE_2\n",
       "1 28695242    28695126 28695209 28695709   ⋯ 1350           0         \n",
       "2 28695242    28695126 28695209 28696900   ⋯  473           0         \n",
       "3 10984373    10984123 10984373 10961029   ⋯   77          46         \n",
       "4 10984373    10984123 10984373 10980776   ⋯   24           0         \n",
       "5 10984373    10984123 10984373 10983479   ⋯    0          23         \n",
       "6 10996544    10996496 10996544 10996212   ⋯ 4435         131         \n",
       "  IncFormLen SkipFormLen PValue    FDR      \n",
       "1 183        150         1.0000000 1.0000000\n",
       "2 183        150         1.0000000 1.0000000\n",
       "3 153        150         0.4485598 1.0000000\n",
       "4 153        150         1.0000000 1.0000000\n",
       "5 153        150         1.0000000 1.0000000\n",
       "6 153        150         0.1182004 0.8252271\n",
       "  IncLevel1                                                                                                                                                                                                                                                                                                                         \n",
       "1 0.956,1.0,0.953,0.959,0.962,1.0,1.0,1.0,1.0,1.0,1.0,1.0,1.0,1.0,1.0,1.0,1.0,0.953,1.0,1.0,1.0,0.989,1.0,1.0,1.0,1.0,0.936,1.0,1.0,1.0,1.0,1.0,1.0,1.0,0.281,1.0,1.0,1.0,1.0,1.0,1.0,1.0,1.0,0.949,1.0,0.897,1.0,0.827,0.994,1.0,1.0,NA,1.0,0.486,0.833,1.0                                                                        \n",
       "2 1.0,1.0,1.0,0.873,1.0,0.891,1.0,1.0,1.0,1.0,1.0,NA,1.0,1.0,1.0,1.0,1.0,1.0,1.0,1.0,1.0,1.0,1.0,1.0,NA,1.0,1.0,1.0,NA,1.0,NA,1.0,1.0,1.0,1.0,1.0,1.0,1.0,1.0,1.0,1.0,1.0,1.0,1.0,1.0,1.0,1.0,1.0,1.0,1.0,1.0,NA,NA,NA,1.0,1.0                                                                                                      \n",
       "3 0.666,0.64,0.682,0.686,0.61,0.634,0.685,0.579,0.531,0.662,0.827,0.611,0.79,0.68,0.678,0.538,0.71,0.798,0.558,0.685,0.728,0.63,0.715,0.727,0.752,0.697,0.715,0.708,0.575,0.693,0.704,0.598,0.715,0.643,0.774,0.696,0.499,0.527,0.66,0.681,0.623,0.732,0.7,0.654,0.751,0.623,0.524,0.76,0.758,0.055,0.636,0.495,0.376,0.701,0.8,0.72\n",
       "4 0.931,0.765,0.899,0.838,0.668,0.882,0.329,1.0,1.0,0.837,1.0,NA,0.602,NA,NA,NA,1.0,0.301,0.404,0.458,0.482,0.695,0.632,0.662,1.0,0.301,0.697,0.536,0.0,1.0,1.0,0.826,NA,0.876,1.0,0.383,1.0,1.0,0.689,0.773,1.0,1.0,0.068,1.0,0.29,0.705,0.575,NA,0.652,0.0,0.813,NA,NA,NA,1.0,NA                                                  \n",
       "5 0.975,0.95,0.99,0.995,0.953,0.954,1.0,0.959,NA,1.0,1.0,NA,1.0,NA,NA,NA,1.0,1.0,NA,1.0,0.395,1.0,0.774,1.0,1.0,1.0,1.0,1.0,NA,NA,0.776,NA,NA,0.826,1.0,1.0,1.0,1.0,0.832,1.0,1.0,1.0,1.0,1.0,0.521,1.0,1.0,NA,1.0,NA,1.0,NA,NA,NA,1.0,NA                                                                                           \n",
       "6 0.97,0.965,0.964,0.955,0.961,0.956,0.984,0.959,0.97,0.993,0.988,1.0,0.954,1.0,1.0,0.999,1.0,0.996,0.999,0.964,1.0,0.975,0.978,1.0,1.0,0.968,0.975,0.998,0.999,0.956,0.96,0.976,0.968,0.97,0.999,1.0,0.981,0.98,0.955,0.985,0.961,1.0,0.993,0.992,0.984,0.999,0.973,0.847,0.993,0.97,0.93,1.0,1.0,1.0,1.0,0.936                    \n",
       "  IncLevel2 IncLevelDifference Event\n",
       "1 1.000     -0.037             A3SS \n",
       "2 1.000     -0.005             A3SS \n",
       "3 0.621      0.032             A3SS \n",
       "4 1.000     -0.292             A3SS \n",
       "5 0.000      0.948             A3SS \n",
       "6 0.971      0.007             A3SS "
      ]
     },
     "metadata": {},
     "output_type": "display_data"
    }
   ],
   "source": [
    "df_a <- read_tsv(fls[1])  # Guarda a tabela 'A3SS.MATS.JC.txt' na variável 'df_a'\n",
    "df_a$Event <- event1 #Cria uma última coluna 'Event' com a string 'A3SS'\n",
    "df_a %>% head #Ver as primeiras linhas para ver se está certo"
   ]
  },
  {
   "cell_type": "code",
   "execution_count": 8,
   "id": "bf566e69-5bff-491c-a4c2-120f1b1725ae",
   "metadata": {
    "execution": {
     "iopub.execute_input": "2023-07-28T19:01:23.307215Z",
     "iopub.status.busy": "2023-07-28T19:01:23.305362Z",
     "iopub.status.idle": "2023-07-28T19:01:23.329495Z",
     "shell.execute_reply": "2023-07-28T19:01:23.327303Z"
    }
   },
   "outputs": [
    {
     "data": {
      "text/html": [
       "'A5SS'"
      ],
      "text/latex": [
       "'A5SS'"
      ],
      "text/markdown": [
       "'A5SS'"
      ],
      "text/plain": [
       "[1] \"A5SS\""
      ]
     },
     "metadata": {},
     "output_type": "display_data"
    }
   ],
   "source": [
    "b <- str_split(fls[2],pattern = \"/\",simplify = T)\n",
    "event2 <-  str_split(b[ncol(b)],\"[.]\", simplify = T)[1]\n",
    "event2"
   ]
  },
  {
   "cell_type": "code",
   "execution_count": 9,
   "id": "5de79439-9820-4ee7-a1b2-47e2d59a9936",
   "metadata": {
    "execution": {
     "iopub.execute_input": "2023-07-28T19:01:23.334648Z",
     "iopub.status.busy": "2023-07-28T19:01:23.332819Z",
     "iopub.status.idle": "2023-07-28T19:01:23.719798Z",
     "shell.execute_reply": "2023-07-28T19:01:23.717412Z"
    }
   },
   "outputs": [
    {
     "name": "stderr",
     "output_type": "stream",
     "text": [
      "\u001b[1m\u001b[22mNew names:\n",
      "\u001b[36m•\u001b[39m `ID` -> `ID...1`\n",
      "\u001b[36m•\u001b[39m `ID` -> `ID...12`\n",
      "\u001b[1mRows: \u001b[22m\u001b[34m648\u001b[39m \u001b[1mColumns: \u001b[22m\u001b[34m23\u001b[39m\n",
      "\u001b[36m──\u001b[39m \u001b[1mColumn specification\u001b[22m \u001b[36m────────────────────────────────────────────────────────\u001b[39m\n",
      "\u001b[1mDelimiter:\u001b[22m \"\\t\"\n",
      "\u001b[31mchr\u001b[39m  (7): GeneID, geneSymbol, chr, strand, IJC_SAMPLE_1, SJC_SAMPLE_1, IncLe...\n",
      "\u001b[32mdbl\u001b[39m (16): ID...1, longExonStart_0base, longExonEnd, shortES, shortEE, flanki...\n",
      "\n",
      "\u001b[36mℹ\u001b[39m Use `spec()` to retrieve the full column specification for this data.\n",
      "\u001b[36mℹ\u001b[39m Specify the column types or set `show_col_types = FALSE` to quiet this message.\n"
     ]
    },
    {
     "data": {
      "text/html": [
       "<table class=\"dataframe\">\n",
       "<caption>A tibble: 6 × 24</caption>\n",
       "<thead>\n",
       "\t<tr><th scope=col>ID...1</th><th scope=col>GeneID</th><th scope=col>geneSymbol</th><th scope=col>chr</th><th scope=col>strand</th><th scope=col>longExonStart_0base</th><th scope=col>longExonEnd</th><th scope=col>shortES</th><th scope=col>shortEE</th><th scope=col>flankingES</th><th scope=col>⋯</th><th scope=col>IJC_SAMPLE_2</th><th scope=col>SJC_SAMPLE_2</th><th scope=col>IncFormLen</th><th scope=col>SkipFormLen</th><th scope=col>PValue</th><th scope=col>FDR</th><th scope=col>IncLevel1</th><th scope=col>IncLevel2</th><th scope=col>IncLevelDifference</th><th scope=col>Event</th></tr>\n",
       "\t<tr><th scope=col>&lt;dbl&gt;</th><th scope=col>&lt;chr&gt;</th><th scope=col>&lt;chr&gt;</th><th scope=col>&lt;chr&gt;</th><th scope=col>&lt;chr&gt;</th><th scope=col>&lt;dbl&gt;</th><th scope=col>&lt;dbl&gt;</th><th scope=col>&lt;dbl&gt;</th><th scope=col>&lt;dbl&gt;</th><th scope=col>&lt;dbl&gt;</th><th scope=col>⋯</th><th scope=col>&lt;dbl&gt;</th><th scope=col>&lt;dbl&gt;</th><th scope=col>&lt;dbl&gt;</th><th scope=col>&lt;dbl&gt;</th><th scope=col>&lt;dbl&gt;</th><th scope=col>&lt;dbl&gt;</th><th scope=col>&lt;chr&gt;</th><th scope=col>&lt;dbl&gt;</th><th scope=col>&lt;dbl&gt;</th><th scope=col>&lt;chr&gt;</th></tr>\n",
       "</thead>\n",
       "<tbody>\n",
       "\t<tr><td> 66</td><td>ENSG00000183765</td><td>CHEK2  </td><td>chr22</td><td>-</td><td>28724564</td><td>28724923</td><td>28724885</td><td>28724923</td><td>28711908</td><td>⋯</td><td>155</td><td> 18</td><td>300</td><td>150</td><td>1.0000000</td><td>1</td><td>0.548,0.708,0.72,0.744,1.0,0.812,1.0,NA,NA,1.0,1.0,1.0,NA,1.0,NA,NA,1.0,1.0,NA,1.0,0.85,NA,1.0,1.0,NA,NA,1.0,NA,NA,NA,NA,1.0,1.0,1.0,1.0,1.0,1.0,1.0,NA,1.0,1.0,NA,1.0,1.0,1.0,1.0,1.0,1.0,1.0,NA,1.0,NA,1.0,NA,NA,NA                                                                                                              </td><td>0.812</td><td> 0.143</td><td>A5SS</td></tr>\n",
       "\t<tr><td> 67</td><td>ENSG00000183765</td><td>CHEK2  </td><td>chr22</td><td>-</td><td>28724564</td><td>28724923</td><td>28724885</td><td>28724923</td><td>28719394</td><td>⋯</td><td>156</td><td>  0</td><td>300</td><td>150</td><td>1.0000000</td><td>1</td><td>0.673,1.0,0.521,0.475,0.718,0.752,1.0,NA,NA,0.938,1.0,1.0,0.0,0.091,1.0,0.0,1.0,1.0,NA,1.0,1.0,0.0,1.0,0.971,NA,1.0,1.0,NA,NA,NA,NA,1.0,1.0,1.0,1.0,1.0,0.824,1.0,NA,1.0,1.0,NA,0.893,1.0,1.0,1.0,1.0,0.55,1.0,NA,1.0,NA,1.0,NA,NA,0.0                                                                                             </td><td>1.000</td><td>-0.181</td><td>A5SS</td></tr>\n",
       "\t<tr><td> 68</td><td>ENSG00000183765</td><td>CHEK2  </td><td>chr22</td><td>-</td><td>28724564</td><td>28724923</td><td>28724885</td><td>28724923</td><td>28721517</td><td>⋯</td><td>155</td><td>  0</td><td>300</td><td>150</td><td>1.0000000</td><td>1</td><td>1.0,1.0,1.0,1.0,1.0,1.0,1.0,NA,NA,1.0,1.0,1.0,NA,1.0,NA,0.0,1.0,1.0,NA,1.0,0.654,NA,1.0,1.0,NA,NA,1.0,NA,NA,NA,NA,1.0,1.0,1.0,1.0,1.0,1.0,1.0,NA,1.0,1.0,NA,1.0,1.0,1.0,1.0,1.0,1.0,1.0,NA,1.0,NA,1.0,NA,NA,NA                                                                                                                     </td><td>1.000</td><td>-0.036</td><td>A5SS</td></tr>\n",
       "\t<tr><td> 69</td><td>ENSG00000183765</td><td>CHEK2  </td><td>chr22</td><td>-</td><td>28730419</td><td>28730548</td><td>28730455</td><td>28730548</td><td>28725242</td><td>⋯</td><td>  0</td><td> 22</td><td>186</td><td>150</td><td>1.0000000</td><td>1</td><td>0.594,0.481,0.656,0.421,1.0,0.581,0.0,0.0,1.0,1.0,0.446,NA,0.845,NA,1.0,NA,1.0,0.421,1.0,1.0,0.866,1.0,1.0,0.924,0.0,1.0,0.806,NA,1.0,0.15,NA,NA,1.0,0.0,1.0,1.0,0.446,NA,NA,0.446,1.0,1.0,1.0,0.35,NA,0.886,1.0,NA,0.816,0.0,1.0,NA,NA,NA,1.0,1.0                                                                                 </td><td>0.000</td><td> 0.724</td><td>A5SS</td></tr>\n",
       "\t<tr><td> 70</td><td>ENSG00000183765</td><td>CHEK2  </td><td>chr22</td><td>-</td><td>28741768</td><td>28741820</td><td>28741781</td><td>28741820</td><td>28734402</td><td>⋯</td><td>241</td><td> 18</td><td>163</td><td>150</td><td>1.0000000</td><td>1</td><td>0.99,0.994,0.9,0.98,0.896,0.939,1.0,1.0,1.0,0.74,NA,1.0,1.0,NA,1.0,NA,1.0,1.0,1.0,1.0,1.0,0.924,0.824,1.0,1.0,1.0,1.0,1.0,1.0,1.0,1.0,1.0,1.0,1.0,1.0,1.0,1.0,1.0,1.0,1.0,1.0,NA,0.583,1.0,1.0,1.0,NA,1.0,0.509,1.0,1.0,NA,NA,NA,1.0,NA                                                                                            </td><td>0.925</td><td> 0.038</td><td>A5SS</td></tr>\n",
       "\t<tr><td>126</td><td>ENSG00000127616</td><td>SMARCA4</td><td>chr19</td><td>+</td><td>11025421</td><td>11025619</td><td>11025421</td><td>11025508</td><td>11026299</td><td>⋯</td><td>110</td><td>569</td><td>261</td><td>150</td><td>0.3960434</td><td>1</td><td>0.052,0.065,0.079,0.06,0.181,0.15,0.078,0.141,0.081,0.11,0.106,0.092,0.042,0.146,0.122,0.205,0.162,0.076,0.064,0.05,0.072,0.065,0.097,0.112,0.069,0.016,0.051,0.091,0.0,0.165,0.1,0.076,0.074,0.175,0.045,0.046,0.085,0.12,0.153,0.174,0.057,0.036,0.1,0.081,0.126,0.175,0.116,0.241,0.046,0.166,0.024,0.09,0.224,0.088,0.128,0.087</td><td>0.100</td><td> 0.001</td><td>A5SS</td></tr>\n",
       "</tbody>\n",
       "</table>\n"
      ],
      "text/latex": [
       "A tibble: 6 × 24\n",
       "\\begin{tabular}{lllllllllllllllllllll}\n",
       " ID...1 & GeneID & geneSymbol & chr & strand & longExonStart\\_0base & longExonEnd & shortES & shortEE & flankingES & ⋯ & IJC\\_SAMPLE\\_2 & SJC\\_SAMPLE\\_2 & IncFormLen & SkipFormLen & PValue & FDR & IncLevel1 & IncLevel2 & IncLevelDifference & Event\\\\\n",
       " <dbl> & <chr> & <chr> & <chr> & <chr> & <dbl> & <dbl> & <dbl> & <dbl> & <dbl> & ⋯ & <dbl> & <dbl> & <dbl> & <dbl> & <dbl> & <dbl> & <chr> & <dbl> & <dbl> & <chr>\\\\\n",
       "\\hline\n",
       "\t  66 & ENSG00000183765 & CHEK2   & chr22 & - & 28724564 & 28724923 & 28724885 & 28724923 & 28711908 & ⋯ & 155 &  18 & 300 & 150 & 1.0000000 & 1 & 0.548,0.708,0.72,0.744,1.0,0.812,1.0,NA,NA,1.0,1.0,1.0,NA,1.0,NA,NA,1.0,1.0,NA,1.0,0.85,NA,1.0,1.0,NA,NA,1.0,NA,NA,NA,NA,1.0,1.0,1.0,1.0,1.0,1.0,1.0,NA,1.0,1.0,NA,1.0,1.0,1.0,1.0,1.0,1.0,1.0,NA,1.0,NA,1.0,NA,NA,NA                                                                                                               & 0.812 &  0.143 & A5SS\\\\\n",
       "\t  67 & ENSG00000183765 & CHEK2   & chr22 & - & 28724564 & 28724923 & 28724885 & 28724923 & 28719394 & ⋯ & 156 &   0 & 300 & 150 & 1.0000000 & 1 & 0.673,1.0,0.521,0.475,0.718,0.752,1.0,NA,NA,0.938,1.0,1.0,0.0,0.091,1.0,0.0,1.0,1.0,NA,1.0,1.0,0.0,1.0,0.971,NA,1.0,1.0,NA,NA,NA,NA,1.0,1.0,1.0,1.0,1.0,0.824,1.0,NA,1.0,1.0,NA,0.893,1.0,1.0,1.0,1.0,0.55,1.0,NA,1.0,NA,1.0,NA,NA,0.0                                                                                              & 1.000 & -0.181 & A5SS\\\\\n",
       "\t  68 & ENSG00000183765 & CHEK2   & chr22 & - & 28724564 & 28724923 & 28724885 & 28724923 & 28721517 & ⋯ & 155 &   0 & 300 & 150 & 1.0000000 & 1 & 1.0,1.0,1.0,1.0,1.0,1.0,1.0,NA,NA,1.0,1.0,1.0,NA,1.0,NA,0.0,1.0,1.0,NA,1.0,0.654,NA,1.0,1.0,NA,NA,1.0,NA,NA,NA,NA,1.0,1.0,1.0,1.0,1.0,1.0,1.0,NA,1.0,1.0,NA,1.0,1.0,1.0,1.0,1.0,1.0,1.0,NA,1.0,NA,1.0,NA,NA,NA                                                                                                                      & 1.000 & -0.036 & A5SS\\\\\n",
       "\t  69 & ENSG00000183765 & CHEK2   & chr22 & - & 28730419 & 28730548 & 28730455 & 28730548 & 28725242 & ⋯ &   0 &  22 & 186 & 150 & 1.0000000 & 1 & 0.594,0.481,0.656,0.421,1.0,0.581,0.0,0.0,1.0,1.0,0.446,NA,0.845,NA,1.0,NA,1.0,0.421,1.0,1.0,0.866,1.0,1.0,0.924,0.0,1.0,0.806,NA,1.0,0.15,NA,NA,1.0,0.0,1.0,1.0,0.446,NA,NA,0.446,1.0,1.0,1.0,0.35,NA,0.886,1.0,NA,0.816,0.0,1.0,NA,NA,NA,1.0,1.0                                                                                  & 0.000 &  0.724 & A5SS\\\\\n",
       "\t  70 & ENSG00000183765 & CHEK2   & chr22 & - & 28741768 & 28741820 & 28741781 & 28741820 & 28734402 & ⋯ & 241 &  18 & 163 & 150 & 1.0000000 & 1 & 0.99,0.994,0.9,0.98,0.896,0.939,1.0,1.0,1.0,0.74,NA,1.0,1.0,NA,1.0,NA,1.0,1.0,1.0,1.0,1.0,0.924,0.824,1.0,1.0,1.0,1.0,1.0,1.0,1.0,1.0,1.0,1.0,1.0,1.0,1.0,1.0,1.0,1.0,1.0,1.0,NA,0.583,1.0,1.0,1.0,NA,1.0,0.509,1.0,1.0,NA,NA,NA,1.0,NA                                                                                             & 0.925 &  0.038 & A5SS\\\\\n",
       "\t 126 & ENSG00000127616 & SMARCA4 & chr19 & + & 11025421 & 11025619 & 11025421 & 11025508 & 11026299 & ⋯ & 110 & 569 & 261 & 150 & 0.3960434 & 1 & 0.052,0.065,0.079,0.06,0.181,0.15,0.078,0.141,0.081,0.11,0.106,0.092,0.042,0.146,0.122,0.205,0.162,0.076,0.064,0.05,0.072,0.065,0.097,0.112,0.069,0.016,0.051,0.091,0.0,0.165,0.1,0.076,0.074,0.175,0.045,0.046,0.085,0.12,0.153,0.174,0.057,0.036,0.1,0.081,0.126,0.175,0.116,0.241,0.046,0.166,0.024,0.09,0.224,0.088,0.128,0.087 & 0.100 &  0.001 & A5SS\\\\\n",
       "\\end{tabular}\n"
      ],
      "text/markdown": [
       "\n",
       "A tibble: 6 × 24\n",
       "\n",
       "| ID...1 &lt;dbl&gt; | GeneID &lt;chr&gt; | geneSymbol &lt;chr&gt; | chr &lt;chr&gt; | strand &lt;chr&gt; | longExonStart_0base &lt;dbl&gt; | longExonEnd &lt;dbl&gt; | shortES &lt;dbl&gt; | shortEE &lt;dbl&gt; | flankingES &lt;dbl&gt; | ⋯ ⋯ | IJC_SAMPLE_2 &lt;dbl&gt; | SJC_SAMPLE_2 &lt;dbl&gt; | IncFormLen &lt;dbl&gt; | SkipFormLen &lt;dbl&gt; | PValue &lt;dbl&gt; | FDR &lt;dbl&gt; | IncLevel1 &lt;chr&gt; | IncLevel2 &lt;dbl&gt; | IncLevelDifference &lt;dbl&gt; | Event &lt;chr&gt; |\n",
       "|---|---|---|---|---|---|---|---|---|---|---|---|---|---|---|---|---|---|---|---|---|\n",
       "|  66 | ENSG00000183765 | CHEK2   | chr22 | - | 28724564 | 28724923 | 28724885 | 28724923 | 28711908 | ⋯ | 155 |  18 | 300 | 150 | 1.0000000 | 1 | 0.548,0.708,0.72,0.744,1.0,0.812,1.0,NA,NA,1.0,1.0,1.0,NA,1.0,NA,NA,1.0,1.0,NA,1.0,0.85,NA,1.0,1.0,NA,NA,1.0,NA,NA,NA,NA,1.0,1.0,1.0,1.0,1.0,1.0,1.0,NA,1.0,1.0,NA,1.0,1.0,1.0,1.0,1.0,1.0,1.0,NA,1.0,NA,1.0,NA,NA,NA                                                                                                               | 0.812 |  0.143 | A5SS |\n",
       "|  67 | ENSG00000183765 | CHEK2   | chr22 | - | 28724564 | 28724923 | 28724885 | 28724923 | 28719394 | ⋯ | 156 |   0 | 300 | 150 | 1.0000000 | 1 | 0.673,1.0,0.521,0.475,0.718,0.752,1.0,NA,NA,0.938,1.0,1.0,0.0,0.091,1.0,0.0,1.0,1.0,NA,1.0,1.0,0.0,1.0,0.971,NA,1.0,1.0,NA,NA,NA,NA,1.0,1.0,1.0,1.0,1.0,0.824,1.0,NA,1.0,1.0,NA,0.893,1.0,1.0,1.0,1.0,0.55,1.0,NA,1.0,NA,1.0,NA,NA,0.0                                                                                              | 1.000 | -0.181 | A5SS |\n",
       "|  68 | ENSG00000183765 | CHEK2   | chr22 | - | 28724564 | 28724923 | 28724885 | 28724923 | 28721517 | ⋯ | 155 |   0 | 300 | 150 | 1.0000000 | 1 | 1.0,1.0,1.0,1.0,1.0,1.0,1.0,NA,NA,1.0,1.0,1.0,NA,1.0,NA,0.0,1.0,1.0,NA,1.0,0.654,NA,1.0,1.0,NA,NA,1.0,NA,NA,NA,NA,1.0,1.0,1.0,1.0,1.0,1.0,1.0,NA,1.0,1.0,NA,1.0,1.0,1.0,1.0,1.0,1.0,1.0,NA,1.0,NA,1.0,NA,NA,NA                                                                                                                      | 1.000 | -0.036 | A5SS |\n",
       "|  69 | ENSG00000183765 | CHEK2   | chr22 | - | 28730419 | 28730548 | 28730455 | 28730548 | 28725242 | ⋯ |   0 |  22 | 186 | 150 | 1.0000000 | 1 | 0.594,0.481,0.656,0.421,1.0,0.581,0.0,0.0,1.0,1.0,0.446,NA,0.845,NA,1.0,NA,1.0,0.421,1.0,1.0,0.866,1.0,1.0,0.924,0.0,1.0,0.806,NA,1.0,0.15,NA,NA,1.0,0.0,1.0,1.0,0.446,NA,NA,0.446,1.0,1.0,1.0,0.35,NA,0.886,1.0,NA,0.816,0.0,1.0,NA,NA,NA,1.0,1.0                                                                                  | 0.000 |  0.724 | A5SS |\n",
       "|  70 | ENSG00000183765 | CHEK2   | chr22 | - | 28741768 | 28741820 | 28741781 | 28741820 | 28734402 | ⋯ | 241 |  18 | 163 | 150 | 1.0000000 | 1 | 0.99,0.994,0.9,0.98,0.896,0.939,1.0,1.0,1.0,0.74,NA,1.0,1.0,NA,1.0,NA,1.0,1.0,1.0,1.0,1.0,0.924,0.824,1.0,1.0,1.0,1.0,1.0,1.0,1.0,1.0,1.0,1.0,1.0,1.0,1.0,1.0,1.0,1.0,1.0,1.0,NA,0.583,1.0,1.0,1.0,NA,1.0,0.509,1.0,1.0,NA,NA,NA,1.0,NA                                                                                             | 0.925 |  0.038 | A5SS |\n",
       "| 126 | ENSG00000127616 | SMARCA4 | chr19 | + | 11025421 | 11025619 | 11025421 | 11025508 | 11026299 | ⋯ | 110 | 569 | 261 | 150 | 0.3960434 | 1 | 0.052,0.065,0.079,0.06,0.181,0.15,0.078,0.141,0.081,0.11,0.106,0.092,0.042,0.146,0.122,0.205,0.162,0.076,0.064,0.05,0.072,0.065,0.097,0.112,0.069,0.016,0.051,0.091,0.0,0.165,0.1,0.076,0.074,0.175,0.045,0.046,0.085,0.12,0.153,0.174,0.057,0.036,0.1,0.081,0.126,0.175,0.116,0.241,0.046,0.166,0.024,0.09,0.224,0.088,0.128,0.087 | 0.100 |  0.001 | A5SS |\n",
       "\n"
      ],
      "text/plain": [
       "  ID...1 GeneID          geneSymbol chr   strand longExonStart_0base\n",
       "1  66    ENSG00000183765 CHEK2      chr22 -      28724564           \n",
       "2  67    ENSG00000183765 CHEK2      chr22 -      28724564           \n",
       "3  68    ENSG00000183765 CHEK2      chr22 -      28724564           \n",
       "4  69    ENSG00000183765 CHEK2      chr22 -      28730419           \n",
       "5  70    ENSG00000183765 CHEK2      chr22 -      28741768           \n",
       "6 126    ENSG00000127616 SMARCA4    chr19 +      11025421           \n",
       "  longExonEnd shortES  shortEE  flankingES ⋯ IJC_SAMPLE_2 SJC_SAMPLE_2\n",
       "1 28724923    28724885 28724923 28711908   ⋯ 155           18         \n",
       "2 28724923    28724885 28724923 28719394   ⋯ 156            0         \n",
       "3 28724923    28724885 28724923 28721517   ⋯ 155            0         \n",
       "4 28730548    28730455 28730548 28725242   ⋯   0           22         \n",
       "5 28741820    28741781 28741820 28734402   ⋯ 241           18         \n",
       "6 11025619    11025421 11025508 11026299   ⋯ 110          569         \n",
       "  IncFormLen SkipFormLen PValue    FDR\n",
       "1 300        150         1.0000000 1  \n",
       "2 300        150         1.0000000 1  \n",
       "3 300        150         1.0000000 1  \n",
       "4 186        150         1.0000000 1  \n",
       "5 163        150         1.0000000 1  \n",
       "6 261        150         0.3960434 1  \n",
       "  IncLevel1                                                                                                                                                                                                                                                                                                                          \n",
       "1 0.548,0.708,0.72,0.744,1.0,0.812,1.0,NA,NA,1.0,1.0,1.0,NA,1.0,NA,NA,1.0,1.0,NA,1.0,0.85,NA,1.0,1.0,NA,NA,1.0,NA,NA,NA,NA,1.0,1.0,1.0,1.0,1.0,1.0,1.0,NA,1.0,1.0,NA,1.0,1.0,1.0,1.0,1.0,1.0,1.0,NA,1.0,NA,1.0,NA,NA,NA                                                                                                              \n",
       "2 0.673,1.0,0.521,0.475,0.718,0.752,1.0,NA,NA,0.938,1.0,1.0,0.0,0.091,1.0,0.0,1.0,1.0,NA,1.0,1.0,0.0,1.0,0.971,NA,1.0,1.0,NA,NA,NA,NA,1.0,1.0,1.0,1.0,1.0,0.824,1.0,NA,1.0,1.0,NA,0.893,1.0,1.0,1.0,1.0,0.55,1.0,NA,1.0,NA,1.0,NA,NA,0.0                                                                                             \n",
       "3 1.0,1.0,1.0,1.0,1.0,1.0,1.0,NA,NA,1.0,1.0,1.0,NA,1.0,NA,0.0,1.0,1.0,NA,1.0,0.654,NA,1.0,1.0,NA,NA,1.0,NA,NA,NA,NA,1.0,1.0,1.0,1.0,1.0,1.0,1.0,NA,1.0,1.0,NA,1.0,1.0,1.0,1.0,1.0,1.0,1.0,NA,1.0,NA,1.0,NA,NA,NA                                                                                                                     \n",
       "4 0.594,0.481,0.656,0.421,1.0,0.581,0.0,0.0,1.0,1.0,0.446,NA,0.845,NA,1.0,NA,1.0,0.421,1.0,1.0,0.866,1.0,1.0,0.924,0.0,1.0,0.806,NA,1.0,0.15,NA,NA,1.0,0.0,1.0,1.0,0.446,NA,NA,0.446,1.0,1.0,1.0,0.35,NA,0.886,1.0,NA,0.816,0.0,1.0,NA,NA,NA,1.0,1.0                                                                                 \n",
       "5 0.99,0.994,0.9,0.98,0.896,0.939,1.0,1.0,1.0,0.74,NA,1.0,1.0,NA,1.0,NA,1.0,1.0,1.0,1.0,1.0,0.924,0.824,1.0,1.0,1.0,1.0,1.0,1.0,1.0,1.0,1.0,1.0,1.0,1.0,1.0,1.0,1.0,1.0,1.0,1.0,NA,0.583,1.0,1.0,1.0,NA,1.0,0.509,1.0,1.0,NA,NA,NA,1.0,NA                                                                                            \n",
       "6 0.052,0.065,0.079,0.06,0.181,0.15,0.078,0.141,0.081,0.11,0.106,0.092,0.042,0.146,0.122,0.205,0.162,0.076,0.064,0.05,0.072,0.065,0.097,0.112,0.069,0.016,0.051,0.091,0.0,0.165,0.1,0.076,0.074,0.175,0.045,0.046,0.085,0.12,0.153,0.174,0.057,0.036,0.1,0.081,0.126,0.175,0.116,0.241,0.046,0.166,0.024,0.09,0.224,0.088,0.128,0.087\n",
       "  IncLevel2 IncLevelDifference Event\n",
       "1 0.812      0.143             A5SS \n",
       "2 1.000     -0.181             A5SS \n",
       "3 1.000     -0.036             A5SS \n",
       "4 0.000      0.724             A5SS \n",
       "5 0.925      0.038             A5SS \n",
       "6 0.100      0.001             A5SS "
      ]
     },
     "metadata": {},
     "output_type": "display_data"
    }
   ],
   "source": [
    "df_b <- read_tsv(fls[2]) \n",
    "df_b$Event <- event2\n",
    "df_b %>% head"
   ]
  },
  {
   "cell_type": "code",
   "execution_count": 10,
   "id": "da9036c4-95c4-4139-a564-ba0acb2758f2",
   "metadata": {
    "execution": {
     "iopub.execute_input": "2023-07-28T19:01:23.725295Z",
     "iopub.status.busy": "2023-07-28T19:01:23.723340Z",
     "iopub.status.idle": "2023-07-28T19:01:23.748228Z",
     "shell.execute_reply": "2023-07-28T19:01:23.745893Z"
    }
   },
   "outputs": [
    {
     "data": {
      "text/html": [
       "'MXE'"
      ],
      "text/latex": [
       "'MXE'"
      ],
      "text/markdown": [
       "'MXE'"
      ],
      "text/plain": [
       "[1] \"MXE\""
      ]
     },
     "metadata": {},
     "output_type": "display_data"
    }
   ],
   "source": [
    "c <- str_split(fls[3],pattern = \"/\",simplify = T)\n",
    "event3 <-  str_split(c[ncol(c)],\"[.]\", simplify = T)[1]\n",
    "event3"
   ]
  },
  {
   "cell_type": "code",
   "execution_count": 11,
   "id": "fd4074bd-c04d-47c3-b621-6b36f1743db7",
   "metadata": {
    "execution": {
     "iopub.execute_input": "2023-07-28T19:01:23.753650Z",
     "iopub.status.busy": "2023-07-28T19:01:23.751708Z",
     "iopub.status.idle": "2023-07-28T19:01:24.206089Z",
     "shell.execute_reply": "2023-07-28T19:01:24.203749Z"
    }
   },
   "outputs": [
    {
     "name": "stderr",
     "output_type": "stream",
     "text": [
      "\u001b[1m\u001b[22mNew names:\n",
      "\u001b[36m•\u001b[39m `ID` -> `ID...1`\n",
      "\u001b[36m•\u001b[39m `ID` -> `ID...14`\n",
      "\u001b[1mRows: \u001b[22m\u001b[34m2118\u001b[39m \u001b[1mColumns: \u001b[22m\u001b[34m25\u001b[39m\n",
      "\u001b[36m──\u001b[39m \u001b[1mColumn specification\u001b[22m \u001b[36m────────────────────────────────────────────────────────\u001b[39m\n",
      "\u001b[1mDelimiter:\u001b[22m \"\\t\"\n",
      "\u001b[31mchr\u001b[39m  (7): GeneID, geneSymbol, chr, strand, IJC_SAMPLE_1, SJC_SAMPLE_1, IncLe...\n",
      "\u001b[32mdbl\u001b[39m (18): ID...1, 1stExonStart_0base, 1stExonEnd, 2ndExonStart_0base, 2ndExo...\n",
      "\n",
      "\u001b[36mℹ\u001b[39m Use `spec()` to retrieve the full column specification for this data.\n",
      "\u001b[36mℹ\u001b[39m Specify the column types or set `show_col_types = FALSE` to quiet this message.\n"
     ]
    },
    {
     "data": {
      "text/html": [
       "<table class=\"dataframe\">\n",
       "<caption>A tibble: 6 × 26</caption>\n",
       "<thead>\n",
       "\t<tr><th scope=col>ID...1</th><th scope=col>GeneID</th><th scope=col>geneSymbol</th><th scope=col>chr</th><th scope=col>strand</th><th scope=col>1stExonStart_0base</th><th scope=col>1stExonEnd</th><th scope=col>2ndExonStart_0base</th><th scope=col>2ndExonEnd</th><th scope=col>upstreamES</th><th scope=col>⋯</th><th scope=col>IJC_SAMPLE_2</th><th scope=col>SJC_SAMPLE_2</th><th scope=col>IncFormLen</th><th scope=col>SkipFormLen</th><th scope=col>PValue</th><th scope=col>FDR</th><th scope=col>IncLevel1</th><th scope=col>IncLevel2</th><th scope=col>IncLevelDifference</th><th scope=col>Event</th></tr>\n",
       "\t<tr><th scope=col>&lt;dbl&gt;</th><th scope=col>&lt;chr&gt;</th><th scope=col>&lt;chr&gt;</th><th scope=col>&lt;chr&gt;</th><th scope=col>&lt;chr&gt;</th><th scope=col>&lt;dbl&gt;</th><th scope=col>&lt;dbl&gt;</th><th scope=col>&lt;dbl&gt;</th><th scope=col>&lt;dbl&gt;</th><th scope=col>&lt;dbl&gt;</th><th scope=col>⋯</th><th scope=col>&lt;dbl&gt;</th><th scope=col>&lt;dbl&gt;</th><th scope=col>&lt;dbl&gt;</th><th scope=col>&lt;dbl&gt;</th><th scope=col>&lt;dbl&gt;</th><th scope=col>&lt;dbl&gt;</th><th scope=col>&lt;chr&gt;</th><th scope=col>&lt;dbl&gt;</th><th scope=col>&lt;dbl&gt;</th><th scope=col>&lt;chr&gt;</th></tr>\n",
       "</thead>\n",
       "<tbody>\n",
       "\t<tr><td>51</td><td>ENSG00000183765</td><td>CHEK2</td><td>chr22</td><td>-</td><td>28695709</td><td>28695873</td><td>28696900</td><td>28696987</td><td>28695126</td><td>⋯</td><td>264</td><td>822</td><td>237</td><td>300</td><td>0.3167049</td><td>1</td><td>0.502,0.539,0.365,0.524,0.415,0.568,0.062,0.125,0.108,0.146,0.032,0.268,0.28,0.051,0.247,0.02,0.275,0.33,0.285,0.064,0.301,0.362,0.427,0.414,0.637,0.125,0.245,0.3,0.0,0.592,0.578,0.296,0.93,0.332,0.0,0.216,0.131,0.293,0.264,0.109,0.1,0.073,0.228,0.011,0.235,0.287,0.239,0.533,0.2,0.517,0.345,1.0,0.91,0.53,0.281,0.0  </td><td>0.289</td><td> 0.019</td><td>MXE</td></tr>\n",
       "\t<tr><td>52</td><td>ENSG00000183765</td><td>CHEK2</td><td>chr22</td><td>-</td><td>28696900</td><td>28696987</td><td>28699837</td><td>28699937</td><td>28695709</td><td>⋯</td><td>430</td><td>138</td><td>250</td><td>237</td><td>1.0000000</td><td>1</td><td>0.806,0.806,0.835,0.803,0.829,0.914,0.031,0.148,0.147,0.081,0.053,0.04,0.041,0.068,0.0,0.26,0.451,0.054,0.176,0.202,0.208,0.117,0.108,0.213,0.547,0.027,0.105,0.147,NA,0.044,0.0,0.346,0.214,0.1,1.0,0.219,0.036,0.281,0.023,0.23,0.056,0.618,0.167,0.012,0.021,0.073,0.068,0.028,0.008,0.472,0.014,1.0,0.051,0.0,0.169,0.138</td><td>0.747</td><td>-0.500</td><td>MXE</td></tr>\n",
       "\t<tr><td>53</td><td>ENSG00000183765</td><td>CHEK2</td><td>chr22</td><td>-</td><td>28699837</td><td>28699937</td><td>28703504</td><td>28703566</td><td>28696900</td><td>⋯</td><td>500</td><td>462</td><td>212</td><td>250</td><td>0.0000000</td><td>0</td><td>0.705,0.687,0.679,0.768,0.634,0.669,0.0,0.0,0.081,0.016,0.414,0.0,0.129,0.084,0.488,0.663,0.0,0.0,0.019,0.0,0.112,0.037,0.167,0.041,0.0,0.024,0.045,0.0,0.0,0.0,0.014,0.036,0.0,0.082,0.0,0.14,0.0,0.0,0.032,0.156,0.0,0.0,0.232,0.173,0.0,0.109,0.097,0.007,0.091,0.135,0.098,0.0,0.061,0.0,0.295,0.0                       </td><td>0.561</td><td>-0.414</td><td>MXE</td></tr>\n",
       "\t<tr><td>54</td><td>ENSG00000183765</td><td>CHEK2</td><td>chr22</td><td>-</td><td>28699837</td><td>28699937</td><td>28710005</td><td>28710059</td><td>28696900</td><td>⋯</td><td>366</td><td>294</td><td>204</td><td>250</td><td>1.0000000</td><td>1</td><td>0.755,0.75,0.78,0.878,0.755,0.715,0.105,0.415,0.0,0.268,0.495,0.049,0.116,0.264,0.032,1.0,0.0,0.066,0.133,0.567,0.055,0.262,0.024,0.122,0.865,0.093,0.344,0.053,1.0,0.446,0.065,0.16,0.105,0.044,1.0,0.06,0.414,0.0,0.311,0.27,0.177,0.307,0.078,0.107,0.048,0.075,0.214,0.04,0.027,0.0,0.092,0.0,NA,0.0,0.16,0.129          </td><td>0.604</td><td>-0.326</td><td>MXE</td></tr>\n",
       "\t<tr><td>55</td><td>ENSG00000183765</td><td>CHEK2</td><td>chr22</td><td>-</td><td>28719394</td><td>28719485</td><td>28724564</td><td>28724923</td><td>28711908</td><td>⋯</td><td>145</td><td>994</td><td>300</td><td>241</td><td>1.0000000</td><td>1</td><td>0.029,0.026,0.029,0.017,0.032,0.056,0.163,0.0,0.0,0.063,0.901,0.0,0.0,0.0,0.0,0.0,0.374,0.0,0.0,0.082,0.082,0.0,0.0,0.287,0.0,0.0,0.0,0.0,0.0,0.0,0.0,0.0,0.0,0.243,NA,0.517,0.56,0.0,0.0,0.013,0.0,0.0,0.267,0.0,0.0,0.0,0.0,0.488,0.063,0.0,0.186,0.0,NA,0.0,0.0,0.0                                                       </td><td>0.105</td><td>-0.022</td><td>MXE</td></tr>\n",
       "\t<tr><td>56</td><td>ENSG00000183765</td><td>CHEK2</td><td>chr22</td><td>-</td><td>28719394</td><td>28719485</td><td>28724885</td><td>28724923</td><td>28711908</td><td>⋯</td><td> 71</td><td>994</td><td>188</td><td>241</td><td>1.0000000</td><td>1</td><td>0.041,0.026,0.027,0.015,0.008,0.02,0.0,0.0,0.0,0.0,0.0,0.0,0.0,0.0,0.0,0.0,0.0,0.0,0.0,0.0,0.222,0.0,0.0,0.342,0.0,0.0,0.0,0.0,0.0,0.0,0.0,0.0,0.0,0.204,NA,0.0,0.097,0.0,0.0,0.0,0.0,0.0,0.0,0.0,0.0,0.0,0.0,0.604,0.0,0.0,0.0,0.0,NA,0.0,0.0,0.0                                                                           </td><td>0.084</td><td>-0.054</td><td>MXE</td></tr>\n",
       "</tbody>\n",
       "</table>\n"
      ],
      "text/latex": [
       "A tibble: 6 × 26\n",
       "\\begin{tabular}{lllllllllllllllllllll}\n",
       " ID...1 & GeneID & geneSymbol & chr & strand & 1stExonStart\\_0base & 1stExonEnd & 2ndExonStart\\_0base & 2ndExonEnd & upstreamES & ⋯ & IJC\\_SAMPLE\\_2 & SJC\\_SAMPLE\\_2 & IncFormLen & SkipFormLen & PValue & FDR & IncLevel1 & IncLevel2 & IncLevelDifference & Event\\\\\n",
       " <dbl> & <chr> & <chr> & <chr> & <chr> & <dbl> & <dbl> & <dbl> & <dbl> & <dbl> & ⋯ & <dbl> & <dbl> & <dbl> & <dbl> & <dbl> & <dbl> & <chr> & <dbl> & <dbl> & <chr>\\\\\n",
       "\\hline\n",
       "\t 51 & ENSG00000183765 & CHEK2 & chr22 & - & 28695709 & 28695873 & 28696900 & 28696987 & 28695126 & ⋯ & 264 & 822 & 237 & 300 & 0.3167049 & 1 & 0.502,0.539,0.365,0.524,0.415,0.568,0.062,0.125,0.108,0.146,0.032,0.268,0.28,0.051,0.247,0.02,0.275,0.33,0.285,0.064,0.301,0.362,0.427,0.414,0.637,0.125,0.245,0.3,0.0,0.592,0.578,0.296,0.93,0.332,0.0,0.216,0.131,0.293,0.264,0.109,0.1,0.073,0.228,0.011,0.235,0.287,0.239,0.533,0.2,0.517,0.345,1.0,0.91,0.53,0.281,0.0   & 0.289 &  0.019 & MXE\\\\\n",
       "\t 52 & ENSG00000183765 & CHEK2 & chr22 & - & 28696900 & 28696987 & 28699837 & 28699937 & 28695709 & ⋯ & 430 & 138 & 250 & 237 & 1.0000000 & 1 & 0.806,0.806,0.835,0.803,0.829,0.914,0.031,0.148,0.147,0.081,0.053,0.04,0.041,0.068,0.0,0.26,0.451,0.054,0.176,0.202,0.208,0.117,0.108,0.213,0.547,0.027,0.105,0.147,NA,0.044,0.0,0.346,0.214,0.1,1.0,0.219,0.036,0.281,0.023,0.23,0.056,0.618,0.167,0.012,0.021,0.073,0.068,0.028,0.008,0.472,0.014,1.0,0.051,0.0,0.169,0.138 & 0.747 & -0.500 & MXE\\\\\n",
       "\t 53 & ENSG00000183765 & CHEK2 & chr22 & - & 28699837 & 28699937 & 28703504 & 28703566 & 28696900 & ⋯ & 500 & 462 & 212 & 250 & 0.0000000 & 0 & 0.705,0.687,0.679,0.768,0.634,0.669,0.0,0.0,0.081,0.016,0.414,0.0,0.129,0.084,0.488,0.663,0.0,0.0,0.019,0.0,0.112,0.037,0.167,0.041,0.0,0.024,0.045,0.0,0.0,0.0,0.014,0.036,0.0,0.082,0.0,0.14,0.0,0.0,0.032,0.156,0.0,0.0,0.232,0.173,0.0,0.109,0.097,0.007,0.091,0.135,0.098,0.0,0.061,0.0,0.295,0.0                        & 0.561 & -0.414 & MXE\\\\\n",
       "\t 54 & ENSG00000183765 & CHEK2 & chr22 & - & 28699837 & 28699937 & 28710005 & 28710059 & 28696900 & ⋯ & 366 & 294 & 204 & 250 & 1.0000000 & 1 & 0.755,0.75,0.78,0.878,0.755,0.715,0.105,0.415,0.0,0.268,0.495,0.049,0.116,0.264,0.032,1.0,0.0,0.066,0.133,0.567,0.055,0.262,0.024,0.122,0.865,0.093,0.344,0.053,1.0,0.446,0.065,0.16,0.105,0.044,1.0,0.06,0.414,0.0,0.311,0.27,0.177,0.307,0.078,0.107,0.048,0.075,0.214,0.04,0.027,0.0,0.092,0.0,NA,0.0,0.16,0.129           & 0.604 & -0.326 & MXE\\\\\n",
       "\t 55 & ENSG00000183765 & CHEK2 & chr22 & - & 28719394 & 28719485 & 28724564 & 28724923 & 28711908 & ⋯ & 145 & 994 & 300 & 241 & 1.0000000 & 1 & 0.029,0.026,0.029,0.017,0.032,0.056,0.163,0.0,0.0,0.063,0.901,0.0,0.0,0.0,0.0,0.0,0.374,0.0,0.0,0.082,0.082,0.0,0.0,0.287,0.0,0.0,0.0,0.0,0.0,0.0,0.0,0.0,0.0,0.243,NA,0.517,0.56,0.0,0.0,0.013,0.0,0.0,0.267,0.0,0.0,0.0,0.0,0.488,0.063,0.0,0.186,0.0,NA,0.0,0.0,0.0                                                        & 0.105 & -0.022 & MXE\\\\\n",
       "\t 56 & ENSG00000183765 & CHEK2 & chr22 & - & 28719394 & 28719485 & 28724885 & 28724923 & 28711908 & ⋯ &  71 & 994 & 188 & 241 & 1.0000000 & 1 & 0.041,0.026,0.027,0.015,0.008,0.02,0.0,0.0,0.0,0.0,0.0,0.0,0.0,0.0,0.0,0.0,0.0,0.0,0.0,0.0,0.222,0.0,0.0,0.342,0.0,0.0,0.0,0.0,0.0,0.0,0.0,0.0,0.0,0.204,NA,0.0,0.097,0.0,0.0,0.0,0.0,0.0,0.0,0.0,0.0,0.0,0.0,0.604,0.0,0.0,0.0,0.0,NA,0.0,0.0,0.0                                                                            & 0.084 & -0.054 & MXE\\\\\n",
       "\\end{tabular}\n"
      ],
      "text/markdown": [
       "\n",
       "A tibble: 6 × 26\n",
       "\n",
       "| ID...1 &lt;dbl&gt; | GeneID &lt;chr&gt; | geneSymbol &lt;chr&gt; | chr &lt;chr&gt; | strand &lt;chr&gt; | 1stExonStart_0base &lt;dbl&gt; | 1stExonEnd &lt;dbl&gt; | 2ndExonStart_0base &lt;dbl&gt; | 2ndExonEnd &lt;dbl&gt; | upstreamES &lt;dbl&gt; | ⋯ ⋯ | IJC_SAMPLE_2 &lt;dbl&gt; | SJC_SAMPLE_2 &lt;dbl&gt; | IncFormLen &lt;dbl&gt; | SkipFormLen &lt;dbl&gt; | PValue &lt;dbl&gt; | FDR &lt;dbl&gt; | IncLevel1 &lt;chr&gt; | IncLevel2 &lt;dbl&gt; | IncLevelDifference &lt;dbl&gt; | Event &lt;chr&gt; |\n",
       "|---|---|---|---|---|---|---|---|---|---|---|---|---|---|---|---|---|---|---|---|---|\n",
       "| 51 | ENSG00000183765 | CHEK2 | chr22 | - | 28695709 | 28695873 | 28696900 | 28696987 | 28695126 | ⋯ | 264 | 822 | 237 | 300 | 0.3167049 | 1 | 0.502,0.539,0.365,0.524,0.415,0.568,0.062,0.125,0.108,0.146,0.032,0.268,0.28,0.051,0.247,0.02,0.275,0.33,0.285,0.064,0.301,0.362,0.427,0.414,0.637,0.125,0.245,0.3,0.0,0.592,0.578,0.296,0.93,0.332,0.0,0.216,0.131,0.293,0.264,0.109,0.1,0.073,0.228,0.011,0.235,0.287,0.239,0.533,0.2,0.517,0.345,1.0,0.91,0.53,0.281,0.0   | 0.289 |  0.019 | MXE |\n",
       "| 52 | ENSG00000183765 | CHEK2 | chr22 | - | 28696900 | 28696987 | 28699837 | 28699937 | 28695709 | ⋯ | 430 | 138 | 250 | 237 | 1.0000000 | 1 | 0.806,0.806,0.835,0.803,0.829,0.914,0.031,0.148,0.147,0.081,0.053,0.04,0.041,0.068,0.0,0.26,0.451,0.054,0.176,0.202,0.208,0.117,0.108,0.213,0.547,0.027,0.105,0.147,NA,0.044,0.0,0.346,0.214,0.1,1.0,0.219,0.036,0.281,0.023,0.23,0.056,0.618,0.167,0.012,0.021,0.073,0.068,0.028,0.008,0.472,0.014,1.0,0.051,0.0,0.169,0.138 | 0.747 | -0.500 | MXE |\n",
       "| 53 | ENSG00000183765 | CHEK2 | chr22 | - | 28699837 | 28699937 | 28703504 | 28703566 | 28696900 | ⋯ | 500 | 462 | 212 | 250 | 0.0000000 | 0 | 0.705,0.687,0.679,0.768,0.634,0.669,0.0,0.0,0.081,0.016,0.414,0.0,0.129,0.084,0.488,0.663,0.0,0.0,0.019,0.0,0.112,0.037,0.167,0.041,0.0,0.024,0.045,0.0,0.0,0.0,0.014,0.036,0.0,0.082,0.0,0.14,0.0,0.0,0.032,0.156,0.0,0.0,0.232,0.173,0.0,0.109,0.097,0.007,0.091,0.135,0.098,0.0,0.061,0.0,0.295,0.0                        | 0.561 | -0.414 | MXE |\n",
       "| 54 | ENSG00000183765 | CHEK2 | chr22 | - | 28699837 | 28699937 | 28710005 | 28710059 | 28696900 | ⋯ | 366 | 294 | 204 | 250 | 1.0000000 | 1 | 0.755,0.75,0.78,0.878,0.755,0.715,0.105,0.415,0.0,0.268,0.495,0.049,0.116,0.264,0.032,1.0,0.0,0.066,0.133,0.567,0.055,0.262,0.024,0.122,0.865,0.093,0.344,0.053,1.0,0.446,0.065,0.16,0.105,0.044,1.0,0.06,0.414,0.0,0.311,0.27,0.177,0.307,0.078,0.107,0.048,0.075,0.214,0.04,0.027,0.0,0.092,0.0,NA,0.0,0.16,0.129           | 0.604 | -0.326 | MXE |\n",
       "| 55 | ENSG00000183765 | CHEK2 | chr22 | - | 28719394 | 28719485 | 28724564 | 28724923 | 28711908 | ⋯ | 145 | 994 | 300 | 241 | 1.0000000 | 1 | 0.029,0.026,0.029,0.017,0.032,0.056,0.163,0.0,0.0,0.063,0.901,0.0,0.0,0.0,0.0,0.0,0.374,0.0,0.0,0.082,0.082,0.0,0.0,0.287,0.0,0.0,0.0,0.0,0.0,0.0,0.0,0.0,0.0,0.243,NA,0.517,0.56,0.0,0.0,0.013,0.0,0.0,0.267,0.0,0.0,0.0,0.0,0.488,0.063,0.0,0.186,0.0,NA,0.0,0.0,0.0                                                        | 0.105 | -0.022 | MXE |\n",
       "| 56 | ENSG00000183765 | CHEK2 | chr22 | - | 28719394 | 28719485 | 28724885 | 28724923 | 28711908 | ⋯ |  71 | 994 | 188 | 241 | 1.0000000 | 1 | 0.041,0.026,0.027,0.015,0.008,0.02,0.0,0.0,0.0,0.0,0.0,0.0,0.0,0.0,0.0,0.0,0.0,0.0,0.0,0.0,0.222,0.0,0.0,0.342,0.0,0.0,0.0,0.0,0.0,0.0,0.0,0.0,0.0,0.204,NA,0.0,0.097,0.0,0.0,0.0,0.0,0.0,0.0,0.0,0.0,0.0,0.0,0.604,0.0,0.0,0.0,0.0,NA,0.0,0.0,0.0                                                                            | 0.084 | -0.054 | MXE |\n",
       "\n"
      ],
      "text/plain": [
       "  ID...1 GeneID          geneSymbol chr   strand 1stExonStart_0base 1stExonEnd\n",
       "1 51     ENSG00000183765 CHEK2      chr22 -      28695709           28695873  \n",
       "2 52     ENSG00000183765 CHEK2      chr22 -      28696900           28696987  \n",
       "3 53     ENSG00000183765 CHEK2      chr22 -      28699837           28699937  \n",
       "4 54     ENSG00000183765 CHEK2      chr22 -      28699837           28699937  \n",
       "5 55     ENSG00000183765 CHEK2      chr22 -      28719394           28719485  \n",
       "6 56     ENSG00000183765 CHEK2      chr22 -      28719394           28719485  \n",
       "  2ndExonStart_0base 2ndExonEnd upstreamES ⋯ IJC_SAMPLE_2 SJC_SAMPLE_2\n",
       "1 28696900           28696987   28695126   ⋯ 264          822         \n",
       "2 28699837           28699937   28695709   ⋯ 430          138         \n",
       "3 28703504           28703566   28696900   ⋯ 500          462         \n",
       "4 28710005           28710059   28696900   ⋯ 366          294         \n",
       "5 28724564           28724923   28711908   ⋯ 145          994         \n",
       "6 28724885           28724923   28711908   ⋯  71          994         \n",
       "  IncFormLen SkipFormLen PValue    FDR\n",
       "1 237        300         0.3167049 1  \n",
       "2 250        237         1.0000000 1  \n",
       "3 212        250         0.0000000 0  \n",
       "4 204        250         1.0000000 1  \n",
       "5 300        241         1.0000000 1  \n",
       "6 188        241         1.0000000 1  \n",
       "  IncLevel1                                                                                                                                                                                                                                                                                                                    \n",
       "1 0.502,0.539,0.365,0.524,0.415,0.568,0.062,0.125,0.108,0.146,0.032,0.268,0.28,0.051,0.247,0.02,0.275,0.33,0.285,0.064,0.301,0.362,0.427,0.414,0.637,0.125,0.245,0.3,0.0,0.592,0.578,0.296,0.93,0.332,0.0,0.216,0.131,0.293,0.264,0.109,0.1,0.073,0.228,0.011,0.235,0.287,0.239,0.533,0.2,0.517,0.345,1.0,0.91,0.53,0.281,0.0  \n",
       "2 0.806,0.806,0.835,0.803,0.829,0.914,0.031,0.148,0.147,0.081,0.053,0.04,0.041,0.068,0.0,0.26,0.451,0.054,0.176,0.202,0.208,0.117,0.108,0.213,0.547,0.027,0.105,0.147,NA,0.044,0.0,0.346,0.214,0.1,1.0,0.219,0.036,0.281,0.023,0.23,0.056,0.618,0.167,0.012,0.021,0.073,0.068,0.028,0.008,0.472,0.014,1.0,0.051,0.0,0.169,0.138\n",
       "3 0.705,0.687,0.679,0.768,0.634,0.669,0.0,0.0,0.081,0.016,0.414,0.0,0.129,0.084,0.488,0.663,0.0,0.0,0.019,0.0,0.112,0.037,0.167,0.041,0.0,0.024,0.045,0.0,0.0,0.0,0.014,0.036,0.0,0.082,0.0,0.14,0.0,0.0,0.032,0.156,0.0,0.0,0.232,0.173,0.0,0.109,0.097,0.007,0.091,0.135,0.098,0.0,0.061,0.0,0.295,0.0                       \n",
       "4 0.755,0.75,0.78,0.878,0.755,0.715,0.105,0.415,0.0,0.268,0.495,0.049,0.116,0.264,0.032,1.0,0.0,0.066,0.133,0.567,0.055,0.262,0.024,0.122,0.865,0.093,0.344,0.053,1.0,0.446,0.065,0.16,0.105,0.044,1.0,0.06,0.414,0.0,0.311,0.27,0.177,0.307,0.078,0.107,0.048,0.075,0.214,0.04,0.027,0.0,0.092,0.0,NA,0.0,0.16,0.129          \n",
       "5 0.029,0.026,0.029,0.017,0.032,0.056,0.163,0.0,0.0,0.063,0.901,0.0,0.0,0.0,0.0,0.0,0.374,0.0,0.0,0.082,0.082,0.0,0.0,0.287,0.0,0.0,0.0,0.0,0.0,0.0,0.0,0.0,0.0,0.243,NA,0.517,0.56,0.0,0.0,0.013,0.0,0.0,0.267,0.0,0.0,0.0,0.0,0.488,0.063,0.0,0.186,0.0,NA,0.0,0.0,0.0                                                       \n",
       "6 0.041,0.026,0.027,0.015,0.008,0.02,0.0,0.0,0.0,0.0,0.0,0.0,0.0,0.0,0.0,0.0,0.0,0.0,0.0,0.0,0.222,0.0,0.0,0.342,0.0,0.0,0.0,0.0,0.0,0.0,0.0,0.0,0.0,0.204,NA,0.0,0.097,0.0,0.0,0.0,0.0,0.0,0.0,0.0,0.0,0.0,0.0,0.604,0.0,0.0,0.0,0.0,NA,0.0,0.0,0.0                                                                           \n",
       "  IncLevel2 IncLevelDifference Event\n",
       "1 0.289      0.019             MXE  \n",
       "2 0.747     -0.500             MXE  \n",
       "3 0.561     -0.414             MXE  \n",
       "4 0.604     -0.326             MXE  \n",
       "5 0.105     -0.022             MXE  \n",
       "6 0.084     -0.054             MXE  "
      ]
     },
     "metadata": {},
     "output_type": "display_data"
    }
   ],
   "source": [
    "df_c <- read_tsv(fls[3])\n",
    "df_c$Event <- event3\n",
    "df_c %>% head"
   ]
  },
  {
   "cell_type": "code",
   "execution_count": 12,
   "id": "ca3ffe84-af97-41be-be8a-ea547f339d5d",
   "metadata": {
    "execution": {
     "iopub.execute_input": "2023-07-28T19:01:24.211566Z",
     "iopub.status.busy": "2023-07-28T19:01:24.209588Z",
     "iopub.status.idle": "2023-07-28T19:01:24.234930Z",
     "shell.execute_reply": "2023-07-28T19:01:24.232643Z"
    }
   },
   "outputs": [
    {
     "data": {
      "text/html": [
       "'RI'"
      ],
      "text/latex": [
       "'RI'"
      ],
      "text/markdown": [
       "'RI'"
      ],
      "text/plain": [
       "[1] \"RI\""
      ]
     },
     "metadata": {},
     "output_type": "display_data"
    }
   ],
   "source": [
    "d <- str_split(fls[4],pattern = \"/\",simplify = T)\n",
    "event4 <-  str_split(d[ncol(d)],\"[.]\", simplify = T)[1]\n",
    "event4"
   ]
  },
  {
   "cell_type": "code",
   "execution_count": 13,
   "id": "aee825e5-55f3-432f-9cd5-e63141e9ddb2",
   "metadata": {
    "execution": {
     "iopub.execute_input": "2023-07-28T19:01:24.240329Z",
     "iopub.status.busy": "2023-07-28T19:01:24.238378Z",
     "iopub.status.idle": "2023-07-28T19:01:24.640609Z",
     "shell.execute_reply": "2023-07-28T19:01:24.638328Z"
    }
   },
   "outputs": [
    {
     "name": "stderr",
     "output_type": "stream",
     "text": [
      "\u001b[1m\u001b[22mNew names:\n",
      "\u001b[36m•\u001b[39m `ID` -> `ID...1`\n",
      "\u001b[36m•\u001b[39m `ID` -> `ID...12`\n",
      "\u001b[1mRows: \u001b[22m\u001b[34m239\u001b[39m \u001b[1mColumns: \u001b[22m\u001b[34m23\u001b[39m\n",
      "\u001b[36m──\u001b[39m \u001b[1mColumn specification\u001b[22m \u001b[36m────────────────────────────────────────────────────────\u001b[39m\n",
      "\u001b[1mDelimiter:\u001b[22m \"\\t\"\n",
      "\u001b[31mchr\u001b[39m  (7): GeneID, geneSymbol, chr, strand, IJC_SAMPLE_1, SJC_SAMPLE_1, IncLe...\n",
      "\u001b[32mdbl\u001b[39m (16): ID...1, riExonStart_0base, riExonEnd, upstreamES, upstreamEE, down...\n",
      "\n",
      "\u001b[36mℹ\u001b[39m Use `spec()` to retrieve the full column specification for this data.\n",
      "\u001b[36mℹ\u001b[39m Specify the column types or set `show_col_types = FALSE` to quiet this message.\n"
     ]
    },
    {
     "data": {
      "text/html": [
       "<table class=\"dataframe\">\n",
       "<caption>A tibble: 6 × 24</caption>\n",
       "<thead>\n",
       "\t<tr><th scope=col>ID...1</th><th scope=col>GeneID</th><th scope=col>geneSymbol</th><th scope=col>chr</th><th scope=col>strand</th><th scope=col>riExonStart_0base</th><th scope=col>riExonEnd</th><th scope=col>upstreamES</th><th scope=col>upstreamEE</th><th scope=col>downstreamES</th><th scope=col>⋯</th><th scope=col>IJC_SAMPLE_2</th><th scope=col>SJC_SAMPLE_2</th><th scope=col>IncFormLen</th><th scope=col>SkipFormLen</th><th scope=col>PValue</th><th scope=col>FDR</th><th scope=col>IncLevel1</th><th scope=col>IncLevel2</th><th scope=col>IncLevelDifference</th><th scope=col>Event</th></tr>\n",
       "\t<tr><th scope=col>&lt;dbl&gt;</th><th scope=col>&lt;chr&gt;</th><th scope=col>&lt;chr&gt;</th><th scope=col>&lt;chr&gt;</th><th scope=col>&lt;chr&gt;</th><th scope=col>&lt;dbl&gt;</th><th scope=col>&lt;dbl&gt;</th><th scope=col>&lt;dbl&gt;</th><th scope=col>&lt;dbl&gt;</th><th scope=col>&lt;dbl&gt;</th><th scope=col>⋯</th><th scope=col>&lt;dbl&gt;</th><th scope=col>&lt;dbl&gt;</th><th scope=col>&lt;dbl&gt;</th><th scope=col>&lt;dbl&gt;</th><th scope=col>&lt;dbl&gt;</th><th scope=col>&lt;dbl&gt;</th><th scope=col>&lt;chr&gt;</th><th scope=col>&lt;dbl&gt;</th><th scope=col>&lt;dbl&gt;</th><th scope=col>&lt;chr&gt;</th></tr>\n",
       "</thead>\n",
       "<tbody>\n",
       "\t<tr><td> 262</td><td>ENSG00000142541</td><td>RPL13A</td><td>chr19</td><td>+</td><td>49490778</td><td>49491099</td><td>49490778</td><td>49490864</td><td>49491039</td><td>⋯</td><td>  0</td><td>  5</td><td>300</td><td>150</td><td>1.00000e+00</td><td>1.000000e+00</td><td>0.0,0.0,NA,0.6,0.0,1.0,0.0,0.083,0.105,0.04,0.058,0.067,0.057,0.143,0.111,0.0,0.111,0.048,0.0,0.053,0.0,0.043,0.0,0.0,0.0,0.143,0.043,0.04,1.0,0.143,0.0,0.0,0.067,0.0,0.0,0.0,0.102,NA,0.0,0.0,0.04,0.057,0.2,0.0,NA,0.0,0.0,0.091,0.091,0.111,0.082,0.0,NA,0.0,0.0,0.0                                                                 </td><td>0.000</td><td> 0.091</td><td>RI</td></tr>\n",
       "\t<tr><td> 264</td><td>ENSG00000142541</td><td>RPL13A</td><td>chr19</td><td>+</td><td>49490778</td><td>49491547</td><td>49490778</td><td>49491099</td><td>49491424</td><td>⋯</td><td>  2</td><td> 12</td><td>300</td><td>150</td><td>1.00000e+00</td><td>1.000000e+00</td><td>0.0,0.0,NA,0.0,0.0,0.0,0.0,0.059,0.0,0.0,0.021,0.0,0.0,0.0,0.0,0.0,0.037,0.0,0.0,0.0,0.0,0.0,0.0,0.0,0.0,0.0,0.0,0.048,0.0,0.0,0.0,NA,0.0,0.0,0.0,0.0,0.0,0.0,0.0,0.0,0.02,0.021,0.0,0.0,NA,0.0,0.0,0.0,0.0,0.0,0.0,0.0,NA,0.111,0.0,0.0                                                                                                 </td><td>0.077</td><td>-0.071</td><td>RI</td></tr>\n",
       "\t<tr><td> 730</td><td>ENSG00000136492</td><td>BRIP1 </td><td>chr17</td><td>-</td><td>61776400</td><td>61781005</td><td>61776400</td><td>61776562</td><td>61780839</td><td>⋯</td><td>273</td><td>  0</td><td>300</td><td>150</td><td>1.00000e+00</td><td>1.000000e+00</td><td>0.841,1.0,1.0,1.0,0.863,1.0,0.79,0.0,NA,1.0,1.0,1.0,1.0,0.826,1.0,1.0,1.0,1.0,0.66,1.0,1.0,0.361,1.0,0.969,1.0,NA,1.0,NA,NA,0.0,NA,1.0,1.0,0.215,1.0,1.0,1.0,NA,1.0,1.0,1.0,1.0,1.0,1.0,1.0,1.0,1.0,1.0,1.0,1.0,NA,NA,NA,NA,1.0,NA                                                                                                       </td><td>1.000</td><td>-0.099</td><td>RI</td></tr>\n",
       "\t<tr><td> 846</td><td>ENSG00000108298</td><td>RPL19 </td><td>chr17</td><td>+</td><td>39202316</td><td>39203109</td><td>39202316</td><td>39202439</td><td>39202988</td><td>⋯</td><td>  0</td><td>  2</td><td>300</td><td>150</td><td>1.00000e+00</td><td>1.000000e+00</td><td>0.0,NA,NA,NA,NA,NA,0.04,0.0,0.061,0.0,0.093,0.048,NA,0.0,0.0,0.182,0.048,0.032,0.0,0.0,0.091,0.0,0.0,0.0,0.0,0.0,0.0,0.034,0.053,0.0,0.0,0.0,0.0,0.0,0.0,NA,0.046,0.143,0.091,0.0,0.0,0.05,0.2,0.0,0.0,0.077,0.0,0.0,0.0,0.0,0.048,0.333,0.0,0.0,0.0,0.167                                                                               </td><td>0.000</td><td> 0.037</td><td>RI</td></tr>\n",
       "\t<tr><td>1082</td><td>ENSG00000118046</td><td>STK11 </td><td>chr19</td><td>+</td><td> 1220372</td><td> 1220717</td><td> 1220372</td><td> 1220505</td><td> 1220580</td><td>⋯</td><td>130</td><td>440</td><td>225</td><td>150</td><td>8.70963e-01</td><td>1.000000e+00</td><td>0.199,0.304,0.218,0.235,0.348,0.384,0.16,0.218,0.12,0.171,0.151,0.179,0.16,0.189,0.159,0.083,0.144,0.176,0.126,0.148,0.15,0.155,0.142,0.135,0.149,0.137,0.149,0.187,0.129,0.216,0.148,0.127,0.182,0.153,0.134,0.16,0.138,0.136,0.192,0.132,0.114,0.148,0.138,0.13,0.156,0.144,0.126,0.157,0.103,0.171,0.181,0.328,0.208,0.096,0.117,0.117</td><td>0.165</td><td> 0.002</td><td>RI</td></tr>\n",
       "\t<tr><td>1083</td><td>ENSG00000118046</td><td>STK11 </td><td>chr19</td><td>+</td><td> 1221212</td><td> 1222006</td><td> 1221212</td><td> 1221340</td><td> 1221948</td><td>⋯</td><td> 64</td><td>760</td><td>300</td><td>150</td><td>9.63255e-09</td><td>9.592415e-08</td><td>0.053,0.056,0.063,0.061,0.104,0.151,0.14,0.148,0.084,0.1,0.132,0.099,0.104,0.11,0.187,0.103,0.152,0.074,0.068,0.122,0.07,0.085,0.082,0.097,0.116,0.08,0.087,0.098,0.059,0.138,0.039,0.11,0.1,0.085,0.12,0.093,0.113,0.09,0.086,0.095,0.103,0.092,0.117,0.071,0.154,0.092,0.085,0.072,0.075,0.085,0.095,0.155,0.052,0.106,0.062,0.059     </td><td>0.040</td><td> 0.057</td><td>RI</td></tr>\n",
       "</tbody>\n",
       "</table>\n"
      ],
      "text/latex": [
       "A tibble: 6 × 24\n",
       "\\begin{tabular}{lllllllllllllllllllll}\n",
       " ID...1 & GeneID & geneSymbol & chr & strand & riExonStart\\_0base & riExonEnd & upstreamES & upstreamEE & downstreamES & ⋯ & IJC\\_SAMPLE\\_2 & SJC\\_SAMPLE\\_2 & IncFormLen & SkipFormLen & PValue & FDR & IncLevel1 & IncLevel2 & IncLevelDifference & Event\\\\\n",
       " <dbl> & <chr> & <chr> & <chr> & <chr> & <dbl> & <dbl> & <dbl> & <dbl> & <dbl> & ⋯ & <dbl> & <dbl> & <dbl> & <dbl> & <dbl> & <dbl> & <chr> & <dbl> & <dbl> & <chr>\\\\\n",
       "\\hline\n",
       "\t  262 & ENSG00000142541 & RPL13A & chr19 & + & 49490778 & 49491099 & 49490778 & 49490864 & 49491039 & ⋯ &   0 &   5 & 300 & 150 & 1.00000e+00 & 1.000000e+00 & 0.0,0.0,NA,0.6,0.0,1.0,0.0,0.083,0.105,0.04,0.058,0.067,0.057,0.143,0.111,0.0,0.111,0.048,0.0,0.053,0.0,0.043,0.0,0.0,0.0,0.143,0.043,0.04,1.0,0.143,0.0,0.0,0.067,0.0,0.0,0.0,0.102,NA,0.0,0.0,0.04,0.057,0.2,0.0,NA,0.0,0.0,0.091,0.091,0.111,0.082,0.0,NA,0.0,0.0,0.0                                                                  & 0.000 &  0.091 & RI\\\\\n",
       "\t  264 & ENSG00000142541 & RPL13A & chr19 & + & 49490778 & 49491547 & 49490778 & 49491099 & 49491424 & ⋯ &   2 &  12 & 300 & 150 & 1.00000e+00 & 1.000000e+00 & 0.0,0.0,NA,0.0,0.0,0.0,0.0,0.059,0.0,0.0,0.021,0.0,0.0,0.0,0.0,0.0,0.037,0.0,0.0,0.0,0.0,0.0,0.0,0.0,0.0,0.0,0.0,0.048,0.0,0.0,0.0,NA,0.0,0.0,0.0,0.0,0.0,0.0,0.0,0.0,0.02,0.021,0.0,0.0,NA,0.0,0.0,0.0,0.0,0.0,0.0,0.0,NA,0.111,0.0,0.0                                                                                                  & 0.077 & -0.071 & RI\\\\\n",
       "\t  730 & ENSG00000136492 & BRIP1  & chr17 & - & 61776400 & 61781005 & 61776400 & 61776562 & 61780839 & ⋯ & 273 &   0 & 300 & 150 & 1.00000e+00 & 1.000000e+00 & 0.841,1.0,1.0,1.0,0.863,1.0,0.79,0.0,NA,1.0,1.0,1.0,1.0,0.826,1.0,1.0,1.0,1.0,0.66,1.0,1.0,0.361,1.0,0.969,1.0,NA,1.0,NA,NA,0.0,NA,1.0,1.0,0.215,1.0,1.0,1.0,NA,1.0,1.0,1.0,1.0,1.0,1.0,1.0,1.0,1.0,1.0,1.0,1.0,NA,NA,NA,NA,1.0,NA                                                                                                        & 1.000 & -0.099 & RI\\\\\n",
       "\t  846 & ENSG00000108298 & RPL19  & chr17 & + & 39202316 & 39203109 & 39202316 & 39202439 & 39202988 & ⋯ &   0 &   2 & 300 & 150 & 1.00000e+00 & 1.000000e+00 & 0.0,NA,NA,NA,NA,NA,0.04,0.0,0.061,0.0,0.093,0.048,NA,0.0,0.0,0.182,0.048,0.032,0.0,0.0,0.091,0.0,0.0,0.0,0.0,0.0,0.0,0.034,0.053,0.0,0.0,0.0,0.0,0.0,0.0,NA,0.046,0.143,0.091,0.0,0.0,0.05,0.2,0.0,0.0,0.077,0.0,0.0,0.0,0.0,0.048,0.333,0.0,0.0,0.0,0.167                                                                                & 0.000 &  0.037 & RI\\\\\n",
       "\t 1082 & ENSG00000118046 & STK11  & chr19 & + &  1220372 &  1220717 &  1220372 &  1220505 &  1220580 & ⋯ & 130 & 440 & 225 & 150 & 8.70963e-01 & 1.000000e+00 & 0.199,0.304,0.218,0.235,0.348,0.384,0.16,0.218,0.12,0.171,0.151,0.179,0.16,0.189,0.159,0.083,0.144,0.176,0.126,0.148,0.15,0.155,0.142,0.135,0.149,0.137,0.149,0.187,0.129,0.216,0.148,0.127,0.182,0.153,0.134,0.16,0.138,0.136,0.192,0.132,0.114,0.148,0.138,0.13,0.156,0.144,0.126,0.157,0.103,0.171,0.181,0.328,0.208,0.096,0.117,0.117 & 0.165 &  0.002 & RI\\\\\n",
       "\t 1083 & ENSG00000118046 & STK11  & chr19 & + &  1221212 &  1222006 &  1221212 &  1221340 &  1221948 & ⋯ &  64 & 760 & 300 & 150 & 9.63255e-09 & 9.592415e-08 & 0.053,0.056,0.063,0.061,0.104,0.151,0.14,0.148,0.084,0.1,0.132,0.099,0.104,0.11,0.187,0.103,0.152,0.074,0.068,0.122,0.07,0.085,0.082,0.097,0.116,0.08,0.087,0.098,0.059,0.138,0.039,0.11,0.1,0.085,0.12,0.093,0.113,0.09,0.086,0.095,0.103,0.092,0.117,0.071,0.154,0.092,0.085,0.072,0.075,0.085,0.095,0.155,0.052,0.106,0.062,0.059      & 0.040 &  0.057 & RI\\\\\n",
       "\\end{tabular}\n"
      ],
      "text/markdown": [
       "\n",
       "A tibble: 6 × 24\n",
       "\n",
       "| ID...1 &lt;dbl&gt; | GeneID &lt;chr&gt; | geneSymbol &lt;chr&gt; | chr &lt;chr&gt; | strand &lt;chr&gt; | riExonStart_0base &lt;dbl&gt; | riExonEnd &lt;dbl&gt; | upstreamES &lt;dbl&gt; | upstreamEE &lt;dbl&gt; | downstreamES &lt;dbl&gt; | ⋯ ⋯ | IJC_SAMPLE_2 &lt;dbl&gt; | SJC_SAMPLE_2 &lt;dbl&gt; | IncFormLen &lt;dbl&gt; | SkipFormLen &lt;dbl&gt; | PValue &lt;dbl&gt; | FDR &lt;dbl&gt; | IncLevel1 &lt;chr&gt; | IncLevel2 &lt;dbl&gt; | IncLevelDifference &lt;dbl&gt; | Event &lt;chr&gt; |\n",
       "|---|---|---|---|---|---|---|---|---|---|---|---|---|---|---|---|---|---|---|---|---|\n",
       "|  262 | ENSG00000142541 | RPL13A | chr19 | + | 49490778 | 49491099 | 49490778 | 49490864 | 49491039 | ⋯ |   0 |   5 | 300 | 150 | 1.00000e+00 | 1.000000e+00 | 0.0,0.0,NA,0.6,0.0,1.0,0.0,0.083,0.105,0.04,0.058,0.067,0.057,0.143,0.111,0.0,0.111,0.048,0.0,0.053,0.0,0.043,0.0,0.0,0.0,0.143,0.043,0.04,1.0,0.143,0.0,0.0,0.067,0.0,0.0,0.0,0.102,NA,0.0,0.0,0.04,0.057,0.2,0.0,NA,0.0,0.0,0.091,0.091,0.111,0.082,0.0,NA,0.0,0.0,0.0                                                                  | 0.000 |  0.091 | RI |\n",
       "|  264 | ENSG00000142541 | RPL13A | chr19 | + | 49490778 | 49491547 | 49490778 | 49491099 | 49491424 | ⋯ |   2 |  12 | 300 | 150 | 1.00000e+00 | 1.000000e+00 | 0.0,0.0,NA,0.0,0.0,0.0,0.0,0.059,0.0,0.0,0.021,0.0,0.0,0.0,0.0,0.0,0.037,0.0,0.0,0.0,0.0,0.0,0.0,0.0,0.0,0.0,0.0,0.048,0.0,0.0,0.0,NA,0.0,0.0,0.0,0.0,0.0,0.0,0.0,0.0,0.02,0.021,0.0,0.0,NA,0.0,0.0,0.0,0.0,0.0,0.0,0.0,NA,0.111,0.0,0.0                                                                                                  | 0.077 | -0.071 | RI |\n",
       "|  730 | ENSG00000136492 | BRIP1  | chr17 | - | 61776400 | 61781005 | 61776400 | 61776562 | 61780839 | ⋯ | 273 |   0 | 300 | 150 | 1.00000e+00 | 1.000000e+00 | 0.841,1.0,1.0,1.0,0.863,1.0,0.79,0.0,NA,1.0,1.0,1.0,1.0,0.826,1.0,1.0,1.0,1.0,0.66,1.0,1.0,0.361,1.0,0.969,1.0,NA,1.0,NA,NA,0.0,NA,1.0,1.0,0.215,1.0,1.0,1.0,NA,1.0,1.0,1.0,1.0,1.0,1.0,1.0,1.0,1.0,1.0,1.0,1.0,NA,NA,NA,NA,1.0,NA                                                                                                        | 1.000 | -0.099 | RI |\n",
       "|  846 | ENSG00000108298 | RPL19  | chr17 | + | 39202316 | 39203109 | 39202316 | 39202439 | 39202988 | ⋯ |   0 |   2 | 300 | 150 | 1.00000e+00 | 1.000000e+00 | 0.0,NA,NA,NA,NA,NA,0.04,0.0,0.061,0.0,0.093,0.048,NA,0.0,0.0,0.182,0.048,0.032,0.0,0.0,0.091,0.0,0.0,0.0,0.0,0.0,0.0,0.034,0.053,0.0,0.0,0.0,0.0,0.0,0.0,NA,0.046,0.143,0.091,0.0,0.0,0.05,0.2,0.0,0.0,0.077,0.0,0.0,0.0,0.0,0.048,0.333,0.0,0.0,0.0,0.167                                                                                | 0.000 |  0.037 | RI |\n",
       "| 1082 | ENSG00000118046 | STK11  | chr19 | + |  1220372 |  1220717 |  1220372 |  1220505 |  1220580 | ⋯ | 130 | 440 | 225 | 150 | 8.70963e-01 | 1.000000e+00 | 0.199,0.304,0.218,0.235,0.348,0.384,0.16,0.218,0.12,0.171,0.151,0.179,0.16,0.189,0.159,0.083,0.144,0.176,0.126,0.148,0.15,0.155,0.142,0.135,0.149,0.137,0.149,0.187,0.129,0.216,0.148,0.127,0.182,0.153,0.134,0.16,0.138,0.136,0.192,0.132,0.114,0.148,0.138,0.13,0.156,0.144,0.126,0.157,0.103,0.171,0.181,0.328,0.208,0.096,0.117,0.117 | 0.165 |  0.002 | RI |\n",
       "| 1083 | ENSG00000118046 | STK11  | chr19 | + |  1221212 |  1222006 |  1221212 |  1221340 |  1221948 | ⋯ |  64 | 760 | 300 | 150 | 9.63255e-09 | 9.592415e-08 | 0.053,0.056,0.063,0.061,0.104,0.151,0.14,0.148,0.084,0.1,0.132,0.099,0.104,0.11,0.187,0.103,0.152,0.074,0.068,0.122,0.07,0.085,0.082,0.097,0.116,0.08,0.087,0.098,0.059,0.138,0.039,0.11,0.1,0.085,0.12,0.093,0.113,0.09,0.086,0.095,0.103,0.092,0.117,0.071,0.154,0.092,0.085,0.072,0.075,0.085,0.095,0.155,0.052,0.106,0.062,0.059      | 0.040 |  0.057 | RI |\n",
       "\n"
      ],
      "text/plain": [
       "  ID...1 GeneID          geneSymbol chr   strand riExonStart_0base riExonEnd\n",
       "1  262   ENSG00000142541 RPL13A     chr19 +      49490778          49491099 \n",
       "2  264   ENSG00000142541 RPL13A     chr19 +      49490778          49491547 \n",
       "3  730   ENSG00000136492 BRIP1      chr17 -      61776400          61781005 \n",
       "4  846   ENSG00000108298 RPL19      chr17 +      39202316          39203109 \n",
       "5 1082   ENSG00000118046 STK11      chr19 +       1220372           1220717 \n",
       "6 1083   ENSG00000118046 STK11      chr19 +       1221212           1222006 \n",
       "  upstreamES upstreamEE downstreamES ⋯ IJC_SAMPLE_2 SJC_SAMPLE_2 IncFormLen\n",
       "1 49490778   49490864   49491039     ⋯   0            5          300       \n",
       "2 49490778   49491099   49491424     ⋯   2           12          300       \n",
       "3 61776400   61776562   61780839     ⋯ 273            0          300       \n",
       "4 39202316   39202439   39202988     ⋯   0            2          300       \n",
       "5  1220372    1220505    1220580     ⋯ 130          440          225       \n",
       "6  1221212    1221340    1221948     ⋯  64          760          300       \n",
       "  SkipFormLen PValue      FDR         \n",
       "1 150         1.00000e+00 1.000000e+00\n",
       "2 150         1.00000e+00 1.000000e+00\n",
       "3 150         1.00000e+00 1.000000e+00\n",
       "4 150         1.00000e+00 1.000000e+00\n",
       "5 150         8.70963e-01 1.000000e+00\n",
       "6 150         9.63255e-09 9.592415e-08\n",
       "  IncLevel1                                                                                                                                                                                                                                                                                                                                \n",
       "1 0.0,0.0,NA,0.6,0.0,1.0,0.0,0.083,0.105,0.04,0.058,0.067,0.057,0.143,0.111,0.0,0.111,0.048,0.0,0.053,0.0,0.043,0.0,0.0,0.0,0.143,0.043,0.04,1.0,0.143,0.0,0.0,0.067,0.0,0.0,0.0,0.102,NA,0.0,0.0,0.04,0.057,0.2,0.0,NA,0.0,0.0,0.091,0.091,0.111,0.082,0.0,NA,0.0,0.0,0.0                                                                 \n",
       "2 0.0,0.0,NA,0.0,0.0,0.0,0.0,0.059,0.0,0.0,0.021,0.0,0.0,0.0,0.0,0.0,0.037,0.0,0.0,0.0,0.0,0.0,0.0,0.0,0.0,0.0,0.0,0.048,0.0,0.0,0.0,NA,0.0,0.0,0.0,0.0,0.0,0.0,0.0,0.0,0.02,0.021,0.0,0.0,NA,0.0,0.0,0.0,0.0,0.0,0.0,0.0,NA,0.111,0.0,0.0                                                                                                 \n",
       "3 0.841,1.0,1.0,1.0,0.863,1.0,0.79,0.0,NA,1.0,1.0,1.0,1.0,0.826,1.0,1.0,1.0,1.0,0.66,1.0,1.0,0.361,1.0,0.969,1.0,NA,1.0,NA,NA,0.0,NA,1.0,1.0,0.215,1.0,1.0,1.0,NA,1.0,1.0,1.0,1.0,1.0,1.0,1.0,1.0,1.0,1.0,1.0,1.0,NA,NA,NA,NA,1.0,NA                                                                                                       \n",
       "4 0.0,NA,NA,NA,NA,NA,0.04,0.0,0.061,0.0,0.093,0.048,NA,0.0,0.0,0.182,0.048,0.032,0.0,0.0,0.091,0.0,0.0,0.0,0.0,0.0,0.0,0.034,0.053,0.0,0.0,0.0,0.0,0.0,0.0,NA,0.046,0.143,0.091,0.0,0.0,0.05,0.2,0.0,0.0,0.077,0.0,0.0,0.0,0.0,0.048,0.333,0.0,0.0,0.0,0.167                                                                               \n",
       "5 0.199,0.304,0.218,0.235,0.348,0.384,0.16,0.218,0.12,0.171,0.151,0.179,0.16,0.189,0.159,0.083,0.144,0.176,0.126,0.148,0.15,0.155,0.142,0.135,0.149,0.137,0.149,0.187,0.129,0.216,0.148,0.127,0.182,0.153,0.134,0.16,0.138,0.136,0.192,0.132,0.114,0.148,0.138,0.13,0.156,0.144,0.126,0.157,0.103,0.171,0.181,0.328,0.208,0.096,0.117,0.117\n",
       "6 0.053,0.056,0.063,0.061,0.104,0.151,0.14,0.148,0.084,0.1,0.132,0.099,0.104,0.11,0.187,0.103,0.152,0.074,0.068,0.122,0.07,0.085,0.082,0.097,0.116,0.08,0.087,0.098,0.059,0.138,0.039,0.11,0.1,0.085,0.12,0.093,0.113,0.09,0.086,0.095,0.103,0.092,0.117,0.071,0.154,0.092,0.085,0.072,0.075,0.085,0.095,0.155,0.052,0.106,0.062,0.059     \n",
       "  IncLevel2 IncLevelDifference Event\n",
       "1 0.000      0.091             RI   \n",
       "2 0.077     -0.071             RI   \n",
       "3 1.000     -0.099             RI   \n",
       "4 0.000      0.037             RI   \n",
       "5 0.165      0.002             RI   \n",
       "6 0.040      0.057             RI   "
      ]
     },
     "metadata": {},
     "output_type": "display_data"
    }
   ],
   "source": [
    "df_d <- read_tsv(fls[4])\n",
    "df_d$Event <- event4\n",
    "df_d %>% head"
   ]
  },
  {
   "cell_type": "code",
   "execution_count": 14,
   "id": "9c659c73-8034-48ee-bed8-47bfb2bd243c",
   "metadata": {
    "execution": {
     "iopub.execute_input": "2023-07-28T19:01:24.645912Z",
     "iopub.status.busy": "2023-07-28T19:01:24.643990Z",
     "iopub.status.idle": "2023-07-28T19:01:24.668603Z",
     "shell.execute_reply": "2023-07-28T19:01:24.666349Z"
    }
   },
   "outputs": [
    {
     "data": {
      "text/html": [
       "'SE'"
      ],
      "text/latex": [
       "'SE'"
      ],
      "text/markdown": [
       "'SE'"
      ],
      "text/plain": [
       "[1] \"SE\""
      ]
     },
     "metadata": {},
     "output_type": "display_data"
    }
   ],
   "source": [
    "e <- str_split(fls[5],pattern = \"/\",simplify = T)\n",
    "event5 <- str_split(e[ncol(e)],\"[.]\", simplify = T)[1]\n",
    "event5"
   ]
  },
  {
   "cell_type": "code",
   "execution_count": 15,
   "id": "8252d7bb-eecb-46d1-bb94-c3a69b9cb3c7",
   "metadata": {
    "execution": {
     "iopub.execute_input": "2023-07-28T19:01:24.673870Z",
     "iopub.status.busy": "2023-07-28T19:01:24.671998Z",
     "iopub.status.idle": "2023-07-28T19:01:25.144213Z",
     "shell.execute_reply": "2023-07-28T19:01:25.141597Z"
    }
   },
   "outputs": [
    {
     "name": "stderr",
     "output_type": "stream",
     "text": [
      "\u001b[1m\u001b[22mNew names:\n",
      "\u001b[36m•\u001b[39m `ID` -> `ID...1`\n",
      "\u001b[36m•\u001b[39m `ID` -> `ID...12`\n",
      "\u001b[1mRows: \u001b[22m\u001b[34m2456\u001b[39m \u001b[1mColumns: \u001b[22m\u001b[34m23\u001b[39m\n",
      "\u001b[36m──\u001b[39m \u001b[1mColumn specification\u001b[22m \u001b[36m────────────────────────────────────────────────────────\u001b[39m\n",
      "\u001b[1mDelimiter:\u001b[22m \"\\t\"\n",
      "\u001b[31mchr\u001b[39m  (7): GeneID, geneSymbol, chr, strand, IJC_SAMPLE_1, SJC_SAMPLE_1, IncLe...\n",
      "\u001b[32mdbl\u001b[39m (16): ID...1, exonStart_0base, exonEnd, upstreamES, upstreamEE, downstre...\n",
      "\n",
      "\u001b[36mℹ\u001b[39m Use `spec()` to retrieve the full column specification for this data.\n",
      "\u001b[36mℹ\u001b[39m Specify the column types or set `show_col_types = FALSE` to quiet this message.\n"
     ]
    },
    {
     "data": {
      "text/html": [
       "<table class=\"dataframe\">\n",
       "<caption>A tibble: 6 × 24</caption>\n",
       "<thead>\n",
       "\t<tr><th scope=col>ID...1</th><th scope=col>GeneID</th><th scope=col>geneSymbol</th><th scope=col>chr</th><th scope=col>strand</th><th scope=col>exonStart_0base</th><th scope=col>exonEnd</th><th scope=col>upstreamES</th><th scope=col>upstreamEE</th><th scope=col>downstreamES</th><th scope=col>⋯</th><th scope=col>IJC_SAMPLE_2</th><th scope=col>SJC_SAMPLE_2</th><th scope=col>IncFormLen</th><th scope=col>SkipFormLen</th><th scope=col>PValue</th><th scope=col>FDR</th><th scope=col>IncLevel1</th><th scope=col>IncLevel2</th><th scope=col>IncLevelDifference</th><th scope=col>Event</th></tr>\n",
       "\t<tr><th scope=col>&lt;dbl&gt;</th><th scope=col>&lt;chr&gt;</th><th scope=col>&lt;chr&gt;</th><th scope=col>&lt;chr&gt;</th><th scope=col>&lt;chr&gt;</th><th scope=col>&lt;dbl&gt;</th><th scope=col>&lt;dbl&gt;</th><th scope=col>&lt;dbl&gt;</th><th scope=col>&lt;dbl&gt;</th><th scope=col>&lt;dbl&gt;</th><th scope=col>⋯</th><th scope=col>&lt;dbl&gt;</th><th scope=col>&lt;dbl&gt;</th><th scope=col>&lt;dbl&gt;</th><th scope=col>&lt;dbl&gt;</th><th scope=col>&lt;dbl&gt;</th><th scope=col>&lt;dbl&gt;</th><th scope=col>&lt;chr&gt;</th><th scope=col>&lt;dbl&gt;</th><th scope=col>&lt;dbl&gt;</th><th scope=col>&lt;chr&gt;</th></tr>\n",
       "</thead>\n",
       "<tbody>\n",
       "\t<tr><td>479</td><td>ENSG00000183765</td><td>CHEK2</td><td>chr22</td><td>-</td><td>28695709</td><td>28695873</td><td>28695126</td><td>28695209</td><td>28696900</td><td>⋯</td><td> 265</td><td>0</td><td>300</td><td>150</td><td>1</td><td>1</td><td>1.0,1.0,1.0,0.925,1.0,0.801,1.0,1.0,1.0,1.0,1.0,1.0,1.0,1.0,1.0,1.0,1.0,1.0,1.0,1.0,1.0,1.0,1.0,1.0,1.0,1.0,1.0,1.0,NA,1.0,1.0,1.0,1.0,1.0,1.0,1.0,1.0,1.0,1.0,1.0,1.0,1.0,1.0,1.0,1.0,1.0,1.0,1.0,1.0,1.0,1.0,NA,1.0,1.0,1.0,1.0                              </td><td>1</td><td>-0.005</td><td>SE</td></tr>\n",
       "\t<tr><td>480</td><td>ENSG00000183765</td><td>CHEK2</td><td>chr22</td><td>-</td><td>28695709</td><td>28695873</td><td>28695126</td><td>28695242</td><td>28696900</td><td>⋯</td><td>1087</td><td>0</td><td>300</td><td>150</td><td>1</td><td>1</td><td>1.0,1.0,0.993,1.0,1.0,1.0,1.0,1.0,1.0,1.0,1.0,1.0,1.0,1.0,1.0,1.0,1.0,1.0,1.0,1.0,1.0,1.0,1.0,1.0,1.0,1.0,1.0,1.0,1.0,1.0,1.0,1.0,1.0,0.977,1.0,1.0,0.99,1.0,0.995,1.0,1.0,1.0,1.0,1.0,1.0,1.0,1.0,1.0,1.0,1.0,1.0,NA,1.0,1.0,1.0,1.0                          </td><td>1</td><td>-0.001</td><td>SE</td></tr>\n",
       "\t<tr><td>481</td><td>ENSG00000183765</td><td>CHEK2</td><td>chr22</td><td>-</td><td>28695709</td><td>28695873</td><td>28695126</td><td>28695242</td><td>28699837</td><td>⋯</td><td> 822</td><td>0</td><td>300</td><td>150</td><td>1</td><td>1</td><td>0.973,1.0,0.974,1.0,1.0,1.0,1.0,1.0,1.0,1.0,1.0,1.0,1.0,1.0,1.0,1.0,1.0,1.0,1.0,1.0,1.0,1.0,1.0,1.0,1.0,1.0,1.0,1.0,1.0,1.0,1.0,1.0,1.0,1.0,1.0,1.0,1.0,1.0,1.0,1.0,1.0,1.0,1.0,1.0,1.0,1.0,1.0,1.0,1.0,1.0,1.0,NA,1.0,1.0,1.0,1.0                             </td><td>1</td><td>-0.001</td><td>SE</td></tr>\n",
       "\t<tr><td>482</td><td>ENSG00000183765</td><td>CHEK2</td><td>chr22</td><td>-</td><td>28696900</td><td>28696987</td><td>28695126</td><td>28695242</td><td>28699837</td><td>⋯</td><td> 264</td><td>0</td><td>237</td><td>150</td><td>1</td><td>1</td><td>0.974,1.0,0.956,1.0,1.0,1.0,1.0,1.0,1.0,1.0,1.0,1.0,1.0,1.0,1.0,1.0,1.0,1.0,1.0,1.0,1.0,1.0,1.0,1.0,1.0,1.0,1.0,1.0,NA,1.0,1.0,1.0,1.0,1.0,NA,1.0,1.0,1.0,1.0,1.0,1.0,1.0,1.0,1.0,1.0,1.0,1.0,1.0,1.0,1.0,1.0,1.0,1.0,1.0,1.0,NA                               </td><td>1</td><td>-0.001</td><td>SE</td></tr>\n",
       "\t<tr><td>483</td><td>ENSG00000183765</td><td>CHEK2</td><td>chr22</td><td>-</td><td>28696900</td><td>28696987</td><td>28695709</td><td>28695873</td><td>28699837</td><td>⋯</td><td> 529</td><td>0</td><td>237</td><td>150</td><td>1</td><td>1</td><td>0.893,0.855,0.66,0.791,0.942,0.877,1.0,0.815,1.0,1.0,1.0,1.0,1.0,1.0,1.0,1.0,0.987,1.0,1.0,1.0,0.915,1.0,1.0,1.0,1.0,1.0,0.961,1.0,NA,1.0,1.0,0.886,1.0,0.94,NA,0.812,1.0,1.0,1.0,0.906,1.0,0.388,0.886,1.0,1.0,1.0,0.973,1.0,1.0,1.0,1.0,1.0,1.0,1.0,1.0,0.987</td><td>1</td><td>-0.047</td><td>SE</td></tr>\n",
       "\t<tr><td>484</td><td>ENSG00000183765</td><td>CHEK2</td><td>chr22</td><td>-</td><td>28699837</td><td>28699937</td><td>28696900</td><td>28696987</td><td>28703504</td><td>⋯</td><td> 821</td><td>0</td><td>250</td><td>150</td><td>1</td><td>1</td><td>1.0,1.0,1.0,1.0,1.0,1.0,1.0,1.0,1.0,1.0,1.0,1.0,1.0,1.0,1.0,0.75,1.0,1.0,1.0,1.0,1.0,1.0,1.0,1.0,1.0,1.0,1.0,1.0,NA,1.0,1.0,1.0,1.0,1.0,1.0,1.0,1.0,1.0,1.0,1.0,1.0,1.0,0.803,1.0,1.0,1.0,1.0,1.0,1.0,1.0,1.0,1.0,1.0,1.0,1.0,1.0                              </td><td>1</td><td>-0.008</td><td>SE</td></tr>\n",
       "</tbody>\n",
       "</table>\n"
      ],
      "text/latex": [
       "A tibble: 6 × 24\n",
       "\\begin{tabular}{lllllllllllllllllllll}\n",
       " ID...1 & GeneID & geneSymbol & chr & strand & exonStart\\_0base & exonEnd & upstreamES & upstreamEE & downstreamES & ⋯ & IJC\\_SAMPLE\\_2 & SJC\\_SAMPLE\\_2 & IncFormLen & SkipFormLen & PValue & FDR & IncLevel1 & IncLevel2 & IncLevelDifference & Event\\\\\n",
       " <dbl> & <chr> & <chr> & <chr> & <chr> & <dbl> & <dbl> & <dbl> & <dbl> & <dbl> & ⋯ & <dbl> & <dbl> & <dbl> & <dbl> & <dbl> & <dbl> & <chr> & <dbl> & <dbl> & <chr>\\\\\n",
       "\\hline\n",
       "\t 479 & ENSG00000183765 & CHEK2 & chr22 & - & 28695709 & 28695873 & 28695126 & 28695209 & 28696900 & ⋯ &  265 & 0 & 300 & 150 & 1 & 1 & 1.0,1.0,1.0,0.925,1.0,0.801,1.0,1.0,1.0,1.0,1.0,1.0,1.0,1.0,1.0,1.0,1.0,1.0,1.0,1.0,1.0,1.0,1.0,1.0,1.0,1.0,1.0,1.0,NA,1.0,1.0,1.0,1.0,1.0,1.0,1.0,1.0,1.0,1.0,1.0,1.0,1.0,1.0,1.0,1.0,1.0,1.0,1.0,1.0,1.0,1.0,NA,1.0,1.0,1.0,1.0                               & 1 & -0.005 & SE\\\\\n",
       "\t 480 & ENSG00000183765 & CHEK2 & chr22 & - & 28695709 & 28695873 & 28695126 & 28695242 & 28696900 & ⋯ & 1087 & 0 & 300 & 150 & 1 & 1 & 1.0,1.0,0.993,1.0,1.0,1.0,1.0,1.0,1.0,1.0,1.0,1.0,1.0,1.0,1.0,1.0,1.0,1.0,1.0,1.0,1.0,1.0,1.0,1.0,1.0,1.0,1.0,1.0,1.0,1.0,1.0,1.0,1.0,0.977,1.0,1.0,0.99,1.0,0.995,1.0,1.0,1.0,1.0,1.0,1.0,1.0,1.0,1.0,1.0,1.0,1.0,NA,1.0,1.0,1.0,1.0                           & 1 & -0.001 & SE\\\\\n",
       "\t 481 & ENSG00000183765 & CHEK2 & chr22 & - & 28695709 & 28695873 & 28695126 & 28695242 & 28699837 & ⋯ &  822 & 0 & 300 & 150 & 1 & 1 & 0.973,1.0,0.974,1.0,1.0,1.0,1.0,1.0,1.0,1.0,1.0,1.0,1.0,1.0,1.0,1.0,1.0,1.0,1.0,1.0,1.0,1.0,1.0,1.0,1.0,1.0,1.0,1.0,1.0,1.0,1.0,1.0,1.0,1.0,1.0,1.0,1.0,1.0,1.0,1.0,1.0,1.0,1.0,1.0,1.0,1.0,1.0,1.0,1.0,1.0,1.0,NA,1.0,1.0,1.0,1.0                              & 1 & -0.001 & SE\\\\\n",
       "\t 482 & ENSG00000183765 & CHEK2 & chr22 & - & 28696900 & 28696987 & 28695126 & 28695242 & 28699837 & ⋯ &  264 & 0 & 237 & 150 & 1 & 1 & 0.974,1.0,0.956,1.0,1.0,1.0,1.0,1.0,1.0,1.0,1.0,1.0,1.0,1.0,1.0,1.0,1.0,1.0,1.0,1.0,1.0,1.0,1.0,1.0,1.0,1.0,1.0,1.0,NA,1.0,1.0,1.0,1.0,1.0,NA,1.0,1.0,1.0,1.0,1.0,1.0,1.0,1.0,1.0,1.0,1.0,1.0,1.0,1.0,1.0,1.0,1.0,1.0,1.0,1.0,NA                                & 1 & -0.001 & SE\\\\\n",
       "\t 483 & ENSG00000183765 & CHEK2 & chr22 & - & 28696900 & 28696987 & 28695709 & 28695873 & 28699837 & ⋯ &  529 & 0 & 237 & 150 & 1 & 1 & 0.893,0.855,0.66,0.791,0.942,0.877,1.0,0.815,1.0,1.0,1.0,1.0,1.0,1.0,1.0,1.0,0.987,1.0,1.0,1.0,0.915,1.0,1.0,1.0,1.0,1.0,0.961,1.0,NA,1.0,1.0,0.886,1.0,0.94,NA,0.812,1.0,1.0,1.0,0.906,1.0,0.388,0.886,1.0,1.0,1.0,0.973,1.0,1.0,1.0,1.0,1.0,1.0,1.0,1.0,0.987 & 1 & -0.047 & SE\\\\\n",
       "\t 484 & ENSG00000183765 & CHEK2 & chr22 & - & 28699837 & 28699937 & 28696900 & 28696987 & 28703504 & ⋯ &  821 & 0 & 250 & 150 & 1 & 1 & 1.0,1.0,1.0,1.0,1.0,1.0,1.0,1.0,1.0,1.0,1.0,1.0,1.0,1.0,1.0,0.75,1.0,1.0,1.0,1.0,1.0,1.0,1.0,1.0,1.0,1.0,1.0,1.0,NA,1.0,1.0,1.0,1.0,1.0,1.0,1.0,1.0,1.0,1.0,1.0,1.0,1.0,0.803,1.0,1.0,1.0,1.0,1.0,1.0,1.0,1.0,1.0,1.0,1.0,1.0,1.0                               & 1 & -0.008 & SE\\\\\n",
       "\\end{tabular}\n"
      ],
      "text/markdown": [
       "\n",
       "A tibble: 6 × 24\n",
       "\n",
       "| ID...1 &lt;dbl&gt; | GeneID &lt;chr&gt; | geneSymbol &lt;chr&gt; | chr &lt;chr&gt; | strand &lt;chr&gt; | exonStart_0base &lt;dbl&gt; | exonEnd &lt;dbl&gt; | upstreamES &lt;dbl&gt; | upstreamEE &lt;dbl&gt; | downstreamES &lt;dbl&gt; | ⋯ ⋯ | IJC_SAMPLE_2 &lt;dbl&gt; | SJC_SAMPLE_2 &lt;dbl&gt; | IncFormLen &lt;dbl&gt; | SkipFormLen &lt;dbl&gt; | PValue &lt;dbl&gt; | FDR &lt;dbl&gt; | IncLevel1 &lt;chr&gt; | IncLevel2 &lt;dbl&gt; | IncLevelDifference &lt;dbl&gt; | Event &lt;chr&gt; |\n",
       "|---|---|---|---|---|---|---|---|---|---|---|---|---|---|---|---|---|---|---|---|---|\n",
       "| 479 | ENSG00000183765 | CHEK2 | chr22 | - | 28695709 | 28695873 | 28695126 | 28695209 | 28696900 | ⋯ |  265 | 0 | 300 | 150 | 1 | 1 | 1.0,1.0,1.0,0.925,1.0,0.801,1.0,1.0,1.0,1.0,1.0,1.0,1.0,1.0,1.0,1.0,1.0,1.0,1.0,1.0,1.0,1.0,1.0,1.0,1.0,1.0,1.0,1.0,NA,1.0,1.0,1.0,1.0,1.0,1.0,1.0,1.0,1.0,1.0,1.0,1.0,1.0,1.0,1.0,1.0,1.0,1.0,1.0,1.0,1.0,1.0,NA,1.0,1.0,1.0,1.0                               | 1 | -0.005 | SE |\n",
       "| 480 | ENSG00000183765 | CHEK2 | chr22 | - | 28695709 | 28695873 | 28695126 | 28695242 | 28696900 | ⋯ | 1087 | 0 | 300 | 150 | 1 | 1 | 1.0,1.0,0.993,1.0,1.0,1.0,1.0,1.0,1.0,1.0,1.0,1.0,1.0,1.0,1.0,1.0,1.0,1.0,1.0,1.0,1.0,1.0,1.0,1.0,1.0,1.0,1.0,1.0,1.0,1.0,1.0,1.0,1.0,0.977,1.0,1.0,0.99,1.0,0.995,1.0,1.0,1.0,1.0,1.0,1.0,1.0,1.0,1.0,1.0,1.0,1.0,NA,1.0,1.0,1.0,1.0                           | 1 | -0.001 | SE |\n",
       "| 481 | ENSG00000183765 | CHEK2 | chr22 | - | 28695709 | 28695873 | 28695126 | 28695242 | 28699837 | ⋯ |  822 | 0 | 300 | 150 | 1 | 1 | 0.973,1.0,0.974,1.0,1.0,1.0,1.0,1.0,1.0,1.0,1.0,1.0,1.0,1.0,1.0,1.0,1.0,1.0,1.0,1.0,1.0,1.0,1.0,1.0,1.0,1.0,1.0,1.0,1.0,1.0,1.0,1.0,1.0,1.0,1.0,1.0,1.0,1.0,1.0,1.0,1.0,1.0,1.0,1.0,1.0,1.0,1.0,1.0,1.0,1.0,1.0,NA,1.0,1.0,1.0,1.0                              | 1 | -0.001 | SE |\n",
       "| 482 | ENSG00000183765 | CHEK2 | chr22 | - | 28696900 | 28696987 | 28695126 | 28695242 | 28699837 | ⋯ |  264 | 0 | 237 | 150 | 1 | 1 | 0.974,1.0,0.956,1.0,1.0,1.0,1.0,1.0,1.0,1.0,1.0,1.0,1.0,1.0,1.0,1.0,1.0,1.0,1.0,1.0,1.0,1.0,1.0,1.0,1.0,1.0,1.0,1.0,NA,1.0,1.0,1.0,1.0,1.0,NA,1.0,1.0,1.0,1.0,1.0,1.0,1.0,1.0,1.0,1.0,1.0,1.0,1.0,1.0,1.0,1.0,1.0,1.0,1.0,1.0,NA                                | 1 | -0.001 | SE |\n",
       "| 483 | ENSG00000183765 | CHEK2 | chr22 | - | 28696900 | 28696987 | 28695709 | 28695873 | 28699837 | ⋯ |  529 | 0 | 237 | 150 | 1 | 1 | 0.893,0.855,0.66,0.791,0.942,0.877,1.0,0.815,1.0,1.0,1.0,1.0,1.0,1.0,1.0,1.0,0.987,1.0,1.0,1.0,0.915,1.0,1.0,1.0,1.0,1.0,0.961,1.0,NA,1.0,1.0,0.886,1.0,0.94,NA,0.812,1.0,1.0,1.0,0.906,1.0,0.388,0.886,1.0,1.0,1.0,0.973,1.0,1.0,1.0,1.0,1.0,1.0,1.0,1.0,0.987 | 1 | -0.047 | SE |\n",
       "| 484 | ENSG00000183765 | CHEK2 | chr22 | - | 28699837 | 28699937 | 28696900 | 28696987 | 28703504 | ⋯ |  821 | 0 | 250 | 150 | 1 | 1 | 1.0,1.0,1.0,1.0,1.0,1.0,1.0,1.0,1.0,1.0,1.0,1.0,1.0,1.0,1.0,0.75,1.0,1.0,1.0,1.0,1.0,1.0,1.0,1.0,1.0,1.0,1.0,1.0,NA,1.0,1.0,1.0,1.0,1.0,1.0,1.0,1.0,1.0,1.0,1.0,1.0,1.0,0.803,1.0,1.0,1.0,1.0,1.0,1.0,1.0,1.0,1.0,1.0,1.0,1.0,1.0                               | 1 | -0.008 | SE |\n",
       "\n"
      ],
      "text/plain": [
       "  ID...1 GeneID          geneSymbol chr   strand exonStart_0base exonEnd \n",
       "1 479    ENSG00000183765 CHEK2      chr22 -      28695709        28695873\n",
       "2 480    ENSG00000183765 CHEK2      chr22 -      28695709        28695873\n",
       "3 481    ENSG00000183765 CHEK2      chr22 -      28695709        28695873\n",
       "4 482    ENSG00000183765 CHEK2      chr22 -      28696900        28696987\n",
       "5 483    ENSG00000183765 CHEK2      chr22 -      28696900        28696987\n",
       "6 484    ENSG00000183765 CHEK2      chr22 -      28699837        28699937\n",
       "  upstreamES upstreamEE downstreamES ⋯ IJC_SAMPLE_2 SJC_SAMPLE_2 IncFormLen\n",
       "1 28695126   28695209   28696900     ⋯  265         0            300       \n",
       "2 28695126   28695242   28696900     ⋯ 1087         0            300       \n",
       "3 28695126   28695242   28699837     ⋯  822         0            300       \n",
       "4 28695126   28695242   28699837     ⋯  264         0            237       \n",
       "5 28695709   28695873   28699837     ⋯  529         0            237       \n",
       "6 28696900   28696987   28703504     ⋯  821         0            250       \n",
       "  SkipFormLen PValue FDR\n",
       "1 150         1      1  \n",
       "2 150         1      1  \n",
       "3 150         1      1  \n",
       "4 150         1      1  \n",
       "5 150         1      1  \n",
       "6 150         1      1  \n",
       "  IncLevel1                                                                                                                                                                                                                                                      \n",
       "1 1.0,1.0,1.0,0.925,1.0,0.801,1.0,1.0,1.0,1.0,1.0,1.0,1.0,1.0,1.0,1.0,1.0,1.0,1.0,1.0,1.0,1.0,1.0,1.0,1.0,1.0,1.0,1.0,NA,1.0,1.0,1.0,1.0,1.0,1.0,1.0,1.0,1.0,1.0,1.0,1.0,1.0,1.0,1.0,1.0,1.0,1.0,1.0,1.0,1.0,1.0,NA,1.0,1.0,1.0,1.0                              \n",
       "2 1.0,1.0,0.993,1.0,1.0,1.0,1.0,1.0,1.0,1.0,1.0,1.0,1.0,1.0,1.0,1.0,1.0,1.0,1.0,1.0,1.0,1.0,1.0,1.0,1.0,1.0,1.0,1.0,1.0,1.0,1.0,1.0,1.0,0.977,1.0,1.0,0.99,1.0,0.995,1.0,1.0,1.0,1.0,1.0,1.0,1.0,1.0,1.0,1.0,1.0,1.0,NA,1.0,1.0,1.0,1.0                          \n",
       "3 0.973,1.0,0.974,1.0,1.0,1.0,1.0,1.0,1.0,1.0,1.0,1.0,1.0,1.0,1.0,1.0,1.0,1.0,1.0,1.0,1.0,1.0,1.0,1.0,1.0,1.0,1.0,1.0,1.0,1.0,1.0,1.0,1.0,1.0,1.0,1.0,1.0,1.0,1.0,1.0,1.0,1.0,1.0,1.0,1.0,1.0,1.0,1.0,1.0,1.0,1.0,NA,1.0,1.0,1.0,1.0                             \n",
       "4 0.974,1.0,0.956,1.0,1.0,1.0,1.0,1.0,1.0,1.0,1.0,1.0,1.0,1.0,1.0,1.0,1.0,1.0,1.0,1.0,1.0,1.0,1.0,1.0,1.0,1.0,1.0,1.0,NA,1.0,1.0,1.0,1.0,1.0,NA,1.0,1.0,1.0,1.0,1.0,1.0,1.0,1.0,1.0,1.0,1.0,1.0,1.0,1.0,1.0,1.0,1.0,1.0,1.0,1.0,NA                               \n",
       "5 0.893,0.855,0.66,0.791,0.942,0.877,1.0,0.815,1.0,1.0,1.0,1.0,1.0,1.0,1.0,1.0,0.987,1.0,1.0,1.0,0.915,1.0,1.0,1.0,1.0,1.0,0.961,1.0,NA,1.0,1.0,0.886,1.0,0.94,NA,0.812,1.0,1.0,1.0,0.906,1.0,0.388,0.886,1.0,1.0,1.0,0.973,1.0,1.0,1.0,1.0,1.0,1.0,1.0,1.0,0.987\n",
       "6 1.0,1.0,1.0,1.0,1.0,1.0,1.0,1.0,1.0,1.0,1.0,1.0,1.0,1.0,1.0,0.75,1.0,1.0,1.0,1.0,1.0,1.0,1.0,1.0,1.0,1.0,1.0,1.0,NA,1.0,1.0,1.0,1.0,1.0,1.0,1.0,1.0,1.0,1.0,1.0,1.0,1.0,0.803,1.0,1.0,1.0,1.0,1.0,1.0,1.0,1.0,1.0,1.0,1.0,1.0,1.0                              \n",
       "  IncLevel2 IncLevelDifference Event\n",
       "1 1         -0.005             SE   \n",
       "2 1         -0.001             SE   \n",
       "3 1         -0.001             SE   \n",
       "4 1         -0.001             SE   \n",
       "5 1         -0.047             SE   \n",
       "6 1         -0.008             SE   "
      ]
     },
     "metadata": {},
     "output_type": "display_data"
    }
   ],
   "source": [
    "df_e <- read_tsv(fls[5])\n",
    "df_e$Event <- event5\n",
    "df_e %>% head"
   ]
  },
  {
   "cell_type": "code",
   "execution_count": 16,
   "id": "6dd55b56-f3d5-4aaf-b2d4-b1bbc276e6d8",
   "metadata": {
    "execution": {
     "iopub.execute_input": "2023-07-28T19:01:25.149558Z",
     "iopub.status.busy": "2023-07-28T19:01:25.147681Z",
     "iopub.status.idle": "2023-07-28T19:01:25.196055Z",
     "shell.execute_reply": "2023-07-28T19:01:25.192088Z"
    }
   },
   "outputs": [],
   "source": [
    "a1 <- list()\n",
    "b1 <- list()\n",
    "c1 <- list()\n",
    "d1 <- list()\n",
    "e1 <- list()\n",
    "\n",
    "a1[[1]] <- df_a #Colocando o dataframe no primeiro elemento da lista de cada variável\n",
    "b1[[1]] <- df_b\n",
    "c1[[1]] <- df_c\n",
    "d1[[1]] <- df_d\n",
    "e1[[1]] <- df_e"
   ]
  },
  {
   "cell_type": "code",
   "execution_count": 17,
   "id": "64a74098-e88e-4112-8d3b-83e8f54d1fe8",
   "metadata": {
    "execution": {
     "iopub.execute_input": "2023-07-28T19:01:25.202828Z",
     "iopub.status.busy": "2023-07-28T19:01:25.200553Z",
     "iopub.status.idle": "2023-07-28T19:01:25.284696Z",
     "shell.execute_reply": "2023-07-28T19:01:25.282094Z"
    }
   },
   "outputs": [
    {
     "name": "stderr",
     "output_type": "stream",
     "text": [
      "\u001b[1m\u001b[22mJoining with `by = join_by(ID...1, GeneID, geneSymbol, chr, strand,\n",
      "longExonStart_0base, longExonEnd, shortES, shortEE, flankingES, flankingEE,\n",
      "ID...12, IJC_SAMPLE_1, SJC_SAMPLE_1, IJC_SAMPLE_2, SJC_SAMPLE_2, IncFormLen,\n",
      "SkipFormLen, PValue, FDR, IncLevel1, IncLevel2, IncLevelDifference, Event)`\n"
     ]
    }
   ],
   "source": [
    "merged_1 <- map2(a1,b1,full_join) #Juntando df_a com df_b"
   ]
  },
  {
   "cell_type": "code",
   "execution_count": 18,
   "id": "2663d966-d8b0-4ae2-b059-8bfab552bb7c",
   "metadata": {
    "execution": {
     "iopub.execute_input": "2023-07-28T19:01:25.290674Z",
     "iopub.status.busy": "2023-07-28T19:01:25.288537Z",
     "iopub.status.idle": "2023-07-28T19:01:25.340593Z",
     "shell.execute_reply": "2023-07-28T19:01:25.338205Z"
    }
   },
   "outputs": [
    {
     "name": "stderr",
     "output_type": "stream",
     "text": [
      "\u001b[1m\u001b[22mJoining with `by = join_by(ID...1, GeneID, geneSymbol, chr, strand, upstreamES,\n",
      "upstreamEE, downstreamES, downstreamEE, IJC_SAMPLE_1, SJC_SAMPLE_1,\n",
      "IJC_SAMPLE_2, SJC_SAMPLE_2, IncFormLen, SkipFormLen, PValue, FDR, IncLevel1,\n",
      "IncLevel2, IncLevelDifference, Event)`\n"
     ]
    }
   ],
   "source": [
    "merged_2 <- map2(c1,d1,full_join) #Juntando df_c com df_d"
   ]
  },
  {
   "cell_type": "code",
   "execution_count": 19,
   "id": "ece8fcd2-4009-4b93-bcf0-173bfcedccd5",
   "metadata": {
    "execution": {
     "iopub.execute_input": "2023-07-28T19:01:25.352302Z",
     "iopub.status.busy": "2023-07-28T19:01:25.350132Z",
     "iopub.status.idle": "2023-07-28T19:01:25.403229Z",
     "shell.execute_reply": "2023-07-28T19:01:25.400802Z"
    }
   },
   "outputs": [
    {
     "name": "stderr",
     "output_type": "stream",
     "text": [
      "\u001b[1m\u001b[22mJoining with `by = join_by(ID...1, GeneID, geneSymbol, chr, strand, ID...12,\n",
      "IJC_SAMPLE_1, SJC_SAMPLE_1, IJC_SAMPLE_2, SJC_SAMPLE_2, IncFormLen,\n",
      "SkipFormLen, PValue, FDR, IncLevel1, IncLevel2, IncLevelDifference, Event)`\n"
     ]
    }
   ],
   "source": [
    "merged_3 <- map2(merged_1,merged_2,full_join) #Juntando os dfs a,b + c,d "
   ]
  },
  {
   "cell_type": "code",
   "execution_count": 20,
   "id": "e1ac1312-c18a-4124-9229-366f626a767d",
   "metadata": {
    "execution": {
     "iopub.execute_input": "2023-07-28T19:01:25.408570Z",
     "iopub.status.busy": "2023-07-28T19:01:25.406675Z",
     "iopub.status.idle": "2023-07-28T19:01:25.480478Z",
     "shell.execute_reply": "2023-07-28T19:01:25.477951Z"
    }
   },
   "outputs": [
    {
     "name": "stderr",
     "output_type": "stream",
     "text": [
      "\u001b[1m\u001b[22mJoining with `by = join_by(ID...1, GeneID, geneSymbol, chr, strand, ID...12,\n",
      "IJC_SAMPLE_1, SJC_SAMPLE_1, IJC_SAMPLE_2, SJC_SAMPLE_2, IncFormLen,\n",
      "SkipFormLen, PValue, FDR, IncLevel1, IncLevel2, IncLevelDifference, Event,\n",
      "upstreamES, upstreamEE, downstreamES, downstreamEE)`\n"
     ]
    }
   ],
   "source": [
    "merged_4 <- map2(merged_3,e1,full_join)[[1]] #Juntando todos os outros com o df_e e colocando como output um dataframe \n",
    "#Colocar [[1]] no final para o output sair como dataframe"
   ]
  },
  {
   "cell_type": "code",
   "execution_count": 21,
   "id": "22197142-163a-4642-9ccc-cab9a74528e1",
   "metadata": {
    "execution": {
     "iopub.execute_input": "2023-07-28T19:01:25.485824Z",
     "iopub.status.busy": "2023-07-28T19:01:25.483899Z",
     "iopub.status.idle": "2023-07-28T19:01:25.503705Z",
     "shell.execute_reply": "2023-07-28T19:01:25.501499Z"
    }
   },
   "outputs": [
    {
     "data": {
      "text/html": [
       "<style>\n",
       ".list-inline {list-style: none; margin:0; padding: 0}\n",
       ".list-inline>li {display: inline-block}\n",
       ".list-inline>li:not(:last-child)::after {content: \"\\00b7\"; padding: 0 .5ex}\n",
       "</style>\n",
       "<ol class=list-inline><li>'spec_tbl_df'</li><li>'tbl_df'</li><li>'tbl'</li><li>'data.frame'</li></ol>\n"
      ],
      "text/latex": [
       "\\begin{enumerate*}\n",
       "\\item 'spec\\_tbl\\_df'\n",
       "\\item 'tbl\\_df'\n",
       "\\item 'tbl'\n",
       "\\item 'data.frame'\n",
       "\\end{enumerate*}\n"
      ],
      "text/markdown": [
       "1. 'spec_tbl_df'\n",
       "2. 'tbl_df'\n",
       "3. 'tbl'\n",
       "4. 'data.frame'\n",
       "\n",
       "\n"
      ],
      "text/plain": [
       "[1] \"spec_tbl_df\" \"tbl_df\"      \"tbl\"         \"data.frame\" "
      ]
     },
     "metadata": {},
     "output_type": "display_data"
    }
   ],
   "source": [
    "class(merged_4)"
   ]
  },
  {
   "cell_type": "code",
   "execution_count": 22,
   "id": "99c56ac7-20c3-4418-afd4-477d2c25d568",
   "metadata": {
    "execution": {
     "iopub.execute_input": "2023-07-28T19:01:25.509028Z",
     "iopub.status.busy": "2023-07-28T19:01:25.507157Z",
     "iopub.status.idle": "2023-07-28T19:01:25.539843Z",
     "shell.execute_reply": "2023-07-28T19:01:25.537564Z"
    }
   },
   "outputs": [
    {
     "data": {
      "text/html": [
       "<style>\n",
       ".list-inline {list-style: none; margin:0; padding: 0}\n",
       ".list-inline>li {display: inline-block}\n",
       ".list-inline>li:not(:last-child)::after {content: \"\\00b7\"; padding: 0 .5ex}\n",
       "</style>\n",
       "<ol class=list-inline><li>'ID...1'</li><li>'GeneID'</li><li>'geneSymbol'</li><li>'chr'</li><li>'strand'</li><li>'longExonStart_0base'</li><li>'longExonEnd'</li><li>'shortES'</li><li>'shortEE'</li><li>'flankingES'</li><li>'flankingEE'</li><li>'ID...12'</li><li>'IJC_SAMPLE_1'</li><li>'SJC_SAMPLE_1'</li><li>'IJC_SAMPLE_2'</li><li>'SJC_SAMPLE_2'</li><li>'IncFormLen'</li><li>'SkipFormLen'</li><li>'PValue'</li><li>'FDR'</li><li>'IncLevel1'</li><li>'IncLevel2'</li><li>'IncLevelDifference'</li><li>'Event'</li><li>'1stExonStart_0base'</li><li>'1stExonEnd'</li><li>'2ndExonStart_0base'</li><li>'2ndExonEnd'</li><li>'upstreamES'</li><li>'upstreamEE'</li><li>'downstreamES'</li><li>'downstreamEE'</li><li>'ID...14'</li><li>'riExonStart_0base'</li><li>'riExonEnd'</li><li>'exonStart_0base'</li><li>'exonEnd'</li></ol>\n"
      ],
      "text/latex": [
       "\\begin{enumerate*}\n",
       "\\item 'ID...1'\n",
       "\\item 'GeneID'\n",
       "\\item 'geneSymbol'\n",
       "\\item 'chr'\n",
       "\\item 'strand'\n",
       "\\item 'longExonStart\\_0base'\n",
       "\\item 'longExonEnd'\n",
       "\\item 'shortES'\n",
       "\\item 'shortEE'\n",
       "\\item 'flankingES'\n",
       "\\item 'flankingEE'\n",
       "\\item 'ID...12'\n",
       "\\item 'IJC\\_SAMPLE\\_1'\n",
       "\\item 'SJC\\_SAMPLE\\_1'\n",
       "\\item 'IJC\\_SAMPLE\\_2'\n",
       "\\item 'SJC\\_SAMPLE\\_2'\n",
       "\\item 'IncFormLen'\n",
       "\\item 'SkipFormLen'\n",
       "\\item 'PValue'\n",
       "\\item 'FDR'\n",
       "\\item 'IncLevel1'\n",
       "\\item 'IncLevel2'\n",
       "\\item 'IncLevelDifference'\n",
       "\\item 'Event'\n",
       "\\item '1stExonStart\\_0base'\n",
       "\\item '1stExonEnd'\n",
       "\\item '2ndExonStart\\_0base'\n",
       "\\item '2ndExonEnd'\n",
       "\\item 'upstreamES'\n",
       "\\item 'upstreamEE'\n",
       "\\item 'downstreamES'\n",
       "\\item 'downstreamEE'\n",
       "\\item 'ID...14'\n",
       "\\item 'riExonStart\\_0base'\n",
       "\\item 'riExonEnd'\n",
       "\\item 'exonStart\\_0base'\n",
       "\\item 'exonEnd'\n",
       "\\end{enumerate*}\n"
      ],
      "text/markdown": [
       "1. 'ID...1'\n",
       "2. 'GeneID'\n",
       "3. 'geneSymbol'\n",
       "4. 'chr'\n",
       "5. 'strand'\n",
       "6. 'longExonStart_0base'\n",
       "7. 'longExonEnd'\n",
       "8. 'shortES'\n",
       "9. 'shortEE'\n",
       "10. 'flankingES'\n",
       "11. 'flankingEE'\n",
       "12. 'ID...12'\n",
       "13. 'IJC_SAMPLE_1'\n",
       "14. 'SJC_SAMPLE_1'\n",
       "15. 'IJC_SAMPLE_2'\n",
       "16. 'SJC_SAMPLE_2'\n",
       "17. 'IncFormLen'\n",
       "18. 'SkipFormLen'\n",
       "19. 'PValue'\n",
       "20. 'FDR'\n",
       "21. 'IncLevel1'\n",
       "22. 'IncLevel2'\n",
       "23. 'IncLevelDifference'\n",
       "24. 'Event'\n",
       "25. '1stExonStart_0base'\n",
       "26. '1stExonEnd'\n",
       "27. '2ndExonStart_0base'\n",
       "28. '2ndExonEnd'\n",
       "29. 'upstreamES'\n",
       "30. 'upstreamEE'\n",
       "31. 'downstreamES'\n",
       "32. 'downstreamEE'\n",
       "33. 'ID...14'\n",
       "34. 'riExonStart_0base'\n",
       "35. 'riExonEnd'\n",
       "36. 'exonStart_0base'\n",
       "37. 'exonEnd'\n",
       "\n",
       "\n"
      ],
      "text/plain": [
       " [1] \"ID...1\"              \"GeneID\"              \"geneSymbol\"         \n",
       " [4] \"chr\"                 \"strand\"              \"longExonStart_0base\"\n",
       " [7] \"longExonEnd\"         \"shortES\"             \"shortEE\"            \n",
       "[10] \"flankingES\"          \"flankingEE\"          \"ID...12\"            \n",
       "[13] \"IJC_SAMPLE_1\"        \"SJC_SAMPLE_1\"        \"IJC_SAMPLE_2\"       \n",
       "[16] \"SJC_SAMPLE_2\"        \"IncFormLen\"          \"SkipFormLen\"        \n",
       "[19] \"PValue\"              \"FDR\"                 \"IncLevel1\"          \n",
       "[22] \"IncLevel2\"           \"IncLevelDifference\"  \"Event\"              \n",
       "[25] \"1stExonStart_0base\"  \"1stExonEnd\"          \"2ndExonStart_0base\" \n",
       "[28] \"2ndExonEnd\"          \"upstreamES\"          \"upstreamEE\"         \n",
       "[31] \"downstreamES\"        \"downstreamEE\"        \"ID...14\"            \n",
       "[34] \"riExonStart_0base\"   \"riExonEnd\"           \"exonStart_0base\"    \n",
       "[37] \"exonEnd\"            "
      ]
     },
     "metadata": {},
     "output_type": "display_data"
    },
    {
     "data": {
      "text/html": [
       "37"
      ],
      "text/latex": [
       "37"
      ],
      "text/markdown": [
       "37"
      ],
      "text/plain": [
       "[1] 37"
      ]
     },
     "metadata": {},
     "output_type": "display_data"
    }
   ],
   "source": [
    "colnames(merged_4)\n",
    "length (colnames(merged_4)) #Tem que dar 37 colunas totais"
   ]
  },
  {
   "cell_type": "code",
   "execution_count": 23,
   "id": "210b7b72-368a-4d5c-9622-d3e58f0ecd66",
   "metadata": {
    "execution": {
     "iopub.execute_input": "2023-07-28T19:01:25.545179Z",
     "iopub.status.busy": "2023-07-28T19:01:25.543254Z",
     "iopub.status.idle": "2023-07-28T19:01:25.575420Z",
     "shell.execute_reply": "2023-07-28T19:01:25.573171Z"
    }
   },
   "outputs": [
    {
     "data": {
      "text/html": [
       "<style>\n",
       ".list-inline {list-style: none; margin:0; padding: 0}\n",
       ".list-inline>li {display: inline-block}\n",
       ".list-inline>li:not(:last-child)::after {content: \"\\00b7\"; padding: 0 .5ex}\n",
       "</style>\n",
       "<ol class=list-inline><li>'ID...1'</li><li>'GeneID'</li><li>'geneSymbol'</li><li>'chr'</li><li>'strand'</li><li>'longExonStart_0base'</li><li>'longExonEnd'</li><li>'shortES'</li><li>'shortEE'</li><li>'flankingES'</li><li>'flankingEE'</li><li>'IJC_SAMPLE_1'</li><li>'SJC_SAMPLE_1'</li><li>'IJC_SAMPLE_2'</li><li>'SJC_SAMPLE_2'</li><li>'IncFormLen'</li><li>'SkipFormLen'</li><li>'PValue'</li><li>'FDR'</li><li>'IncLevel1'</li><li>'IncLevel2'</li><li>'IncLevelDifference'</li><li>'Event'</li><li>'1stExonStart_0base'</li><li>'1stExonEnd'</li><li>'2ndExonStart_0base'</li><li>'2ndExonEnd'</li><li>'upstreamES'</li><li>'upstreamEE'</li><li>'downstreamES'</li><li>'downstreamEE'</li><li>'riExonStart_0base'</li><li>'riExonEnd'</li><li>'exonStart_0base'</li><li>'exonEnd'</li></ol>\n"
      ],
      "text/latex": [
       "\\begin{enumerate*}\n",
       "\\item 'ID...1'\n",
       "\\item 'GeneID'\n",
       "\\item 'geneSymbol'\n",
       "\\item 'chr'\n",
       "\\item 'strand'\n",
       "\\item 'longExonStart\\_0base'\n",
       "\\item 'longExonEnd'\n",
       "\\item 'shortES'\n",
       "\\item 'shortEE'\n",
       "\\item 'flankingES'\n",
       "\\item 'flankingEE'\n",
       "\\item 'IJC\\_SAMPLE\\_1'\n",
       "\\item 'SJC\\_SAMPLE\\_1'\n",
       "\\item 'IJC\\_SAMPLE\\_2'\n",
       "\\item 'SJC\\_SAMPLE\\_2'\n",
       "\\item 'IncFormLen'\n",
       "\\item 'SkipFormLen'\n",
       "\\item 'PValue'\n",
       "\\item 'FDR'\n",
       "\\item 'IncLevel1'\n",
       "\\item 'IncLevel2'\n",
       "\\item 'IncLevelDifference'\n",
       "\\item 'Event'\n",
       "\\item '1stExonStart\\_0base'\n",
       "\\item '1stExonEnd'\n",
       "\\item '2ndExonStart\\_0base'\n",
       "\\item '2ndExonEnd'\n",
       "\\item 'upstreamES'\n",
       "\\item 'upstreamEE'\n",
       "\\item 'downstreamES'\n",
       "\\item 'downstreamEE'\n",
       "\\item 'riExonStart\\_0base'\n",
       "\\item 'riExonEnd'\n",
       "\\item 'exonStart\\_0base'\n",
       "\\item 'exonEnd'\n",
       "\\end{enumerate*}\n"
      ],
      "text/markdown": [
       "1. 'ID...1'\n",
       "2. 'GeneID'\n",
       "3. 'geneSymbol'\n",
       "4. 'chr'\n",
       "5. 'strand'\n",
       "6. 'longExonStart_0base'\n",
       "7. 'longExonEnd'\n",
       "8. 'shortES'\n",
       "9. 'shortEE'\n",
       "10. 'flankingES'\n",
       "11. 'flankingEE'\n",
       "12. 'IJC_SAMPLE_1'\n",
       "13. 'SJC_SAMPLE_1'\n",
       "14. 'IJC_SAMPLE_2'\n",
       "15. 'SJC_SAMPLE_2'\n",
       "16. 'IncFormLen'\n",
       "17. 'SkipFormLen'\n",
       "18. 'PValue'\n",
       "19. 'FDR'\n",
       "20. 'IncLevel1'\n",
       "21. 'IncLevel2'\n",
       "22. 'IncLevelDifference'\n",
       "23. 'Event'\n",
       "24. '1stExonStart_0base'\n",
       "25. '1stExonEnd'\n",
       "26. '2ndExonStart_0base'\n",
       "27. '2ndExonEnd'\n",
       "28. 'upstreamES'\n",
       "29. 'upstreamEE'\n",
       "30. 'downstreamES'\n",
       "31. 'downstreamEE'\n",
       "32. 'riExonStart_0base'\n",
       "33. 'riExonEnd'\n",
       "34. 'exonStart_0base'\n",
       "35. 'exonEnd'\n",
       "\n",
       "\n"
      ],
      "text/plain": [
       " [1] \"ID...1\"              \"GeneID\"              \"geneSymbol\"         \n",
       " [4] \"chr\"                 \"strand\"              \"longExonStart_0base\"\n",
       " [7] \"longExonEnd\"         \"shortES\"             \"shortEE\"            \n",
       "[10] \"flankingES\"          \"flankingEE\"          \"IJC_SAMPLE_1\"       \n",
       "[13] \"SJC_SAMPLE_1\"        \"IJC_SAMPLE_2\"        \"SJC_SAMPLE_2\"       \n",
       "[16] \"IncFormLen\"          \"SkipFormLen\"         \"PValue\"             \n",
       "[19] \"FDR\"                 \"IncLevel1\"           \"IncLevel2\"          \n",
       "[22] \"IncLevelDifference\"  \"Event\"               \"1stExonStart_0base\" \n",
       "[25] \"1stExonEnd\"          \"2ndExonStart_0base\"  \"2ndExonEnd\"         \n",
       "[28] \"upstreamES\"          \"upstreamEE\"          \"downstreamES\"       \n",
       "[31] \"downstreamEE\"        \"riExonStart_0base\"   \"riExonEnd\"          \n",
       "[34] \"exonStart_0base\"     \"exonEnd\"            "
      ]
     },
     "metadata": {},
     "output_type": "display_data"
    },
    {
     "data": {
      "text/html": [
       "35"
      ],
      "text/latex": [
       "35"
      ],
      "text/markdown": [
       "35"
      ],
      "text/plain": [
       "[1] 35"
      ]
     },
     "metadata": {},
     "output_type": "display_data"
    }
   ],
   "source": [
    "#Excluindo os IDs que são repetidos\n",
    "merged_4$ID...12 <- NULL\n",
    "merged_4$ID...14 <- NULL\n",
    "colnames(merged_4)\n",
    "length (colnames(merged_4))"
   ]
  },
  {
   "cell_type": "code",
   "execution_count": 24,
   "id": "138111d9-57c7-4923-9a9d-0c2f380c0f05",
   "metadata": {
    "execution": {
     "iopub.execute_input": "2023-07-28T19:01:25.580691Z",
     "iopub.status.busy": "2023-07-28T19:01:25.578822Z",
     "iopub.status.idle": "2023-07-28T19:01:25.656092Z",
     "shell.execute_reply": "2023-07-28T19:01:25.653791Z"
    }
   },
   "outputs": [
    {
     "data": {
      "text/html": [
       "<style>\n",
       ".list-inline {list-style: none; margin:0; padding: 0}\n",
       ".list-inline>li {display: inline-block}\n",
       ".list-inline>li:not(:last-child)::after {content: \"\\00b7\"; padding: 0 .5ex}\n",
       "</style>\n",
       "<ol class=list-inline><li>'Event'</li><li>'ID...1'</li><li>'GeneID'</li><li>'geneSymbol'</li><li>'chr'</li><li>'strand'</li><li>'longExonStart_0base'</li><li>'longExonEnd'</li><li>'shortES'</li><li>'shortEE'</li><li>'flankingES'</li><li>'flankingEE'</li><li>'1stExonStart_0base'</li><li>'1stExonEnd'</li><li>'2ndExonStart_0base'</li><li>'2ndExonEnd'</li><li>'upstreamES'</li><li>'upstreamEE'</li><li>'downstreamES'</li><li>'downstreamEE'</li><li>'riExonStart_0base'</li><li>'riExonEnd'</li><li>'exonStart_0base'</li><li>'exonEnd'</li><li>'IJC_SAMPLE_1'</li><li>'SJC_SAMPLE_1'</li><li>'IJC_SAMPLE_2'</li><li>'SJC_SAMPLE_2'</li><li>'IncFormLen'</li><li>'SkipFormLen'</li><li>'PValue'</li><li>'FDR'</li><li>'IncLevel1'</li><li>'IncLevel2'</li><li>'IncLevelDifference'</li></ol>\n"
      ],
      "text/latex": [
       "\\begin{enumerate*}\n",
       "\\item 'Event'\n",
       "\\item 'ID...1'\n",
       "\\item 'GeneID'\n",
       "\\item 'geneSymbol'\n",
       "\\item 'chr'\n",
       "\\item 'strand'\n",
       "\\item 'longExonStart\\_0base'\n",
       "\\item 'longExonEnd'\n",
       "\\item 'shortES'\n",
       "\\item 'shortEE'\n",
       "\\item 'flankingES'\n",
       "\\item 'flankingEE'\n",
       "\\item '1stExonStart\\_0base'\n",
       "\\item '1stExonEnd'\n",
       "\\item '2ndExonStart\\_0base'\n",
       "\\item '2ndExonEnd'\n",
       "\\item 'upstreamES'\n",
       "\\item 'upstreamEE'\n",
       "\\item 'downstreamES'\n",
       "\\item 'downstreamEE'\n",
       "\\item 'riExonStart\\_0base'\n",
       "\\item 'riExonEnd'\n",
       "\\item 'exonStart\\_0base'\n",
       "\\item 'exonEnd'\n",
       "\\item 'IJC\\_SAMPLE\\_1'\n",
       "\\item 'SJC\\_SAMPLE\\_1'\n",
       "\\item 'IJC\\_SAMPLE\\_2'\n",
       "\\item 'SJC\\_SAMPLE\\_2'\n",
       "\\item 'IncFormLen'\n",
       "\\item 'SkipFormLen'\n",
       "\\item 'PValue'\n",
       "\\item 'FDR'\n",
       "\\item 'IncLevel1'\n",
       "\\item 'IncLevel2'\n",
       "\\item 'IncLevelDifference'\n",
       "\\end{enumerate*}\n"
      ],
      "text/markdown": [
       "1. 'Event'\n",
       "2. 'ID...1'\n",
       "3. 'GeneID'\n",
       "4. 'geneSymbol'\n",
       "5. 'chr'\n",
       "6. 'strand'\n",
       "7. 'longExonStart_0base'\n",
       "8. 'longExonEnd'\n",
       "9. 'shortES'\n",
       "10. 'shortEE'\n",
       "11. 'flankingES'\n",
       "12. 'flankingEE'\n",
       "13. '1stExonStart_0base'\n",
       "14. '1stExonEnd'\n",
       "15. '2ndExonStart_0base'\n",
       "16. '2ndExonEnd'\n",
       "17. 'upstreamES'\n",
       "18. 'upstreamEE'\n",
       "19. 'downstreamES'\n",
       "20. 'downstreamEE'\n",
       "21. 'riExonStart_0base'\n",
       "22. 'riExonEnd'\n",
       "23. 'exonStart_0base'\n",
       "24. 'exonEnd'\n",
       "25. 'IJC_SAMPLE_1'\n",
       "26. 'SJC_SAMPLE_1'\n",
       "27. 'IJC_SAMPLE_2'\n",
       "28. 'SJC_SAMPLE_2'\n",
       "29. 'IncFormLen'\n",
       "30. 'SkipFormLen'\n",
       "31. 'PValue'\n",
       "32. 'FDR'\n",
       "33. 'IncLevel1'\n",
       "34. 'IncLevel2'\n",
       "35. 'IncLevelDifference'\n",
       "\n",
       "\n"
      ],
      "text/plain": [
       " [1] \"Event\"               \"ID...1\"              \"GeneID\"             \n",
       " [4] \"geneSymbol\"          \"chr\"                 \"strand\"             \n",
       " [7] \"longExonStart_0base\" \"longExonEnd\"         \"shortES\"            \n",
       "[10] \"shortEE\"             \"flankingES\"          \"flankingEE\"         \n",
       "[13] \"1stExonStart_0base\"  \"1stExonEnd\"          \"2ndExonStart_0base\" \n",
       "[16] \"2ndExonEnd\"          \"upstreamES\"          \"upstreamEE\"         \n",
       "[19] \"downstreamES\"        \"downstreamEE\"        \"riExonStart_0base\"  \n",
       "[22] \"riExonEnd\"           \"exonStart_0base\"     \"exonEnd\"            \n",
       "[25] \"IJC_SAMPLE_1\"        \"SJC_SAMPLE_1\"        \"IJC_SAMPLE_2\"       \n",
       "[28] \"SJC_SAMPLE_2\"        \"IncFormLen\"          \"SkipFormLen\"        \n",
       "[31] \"PValue\"              \"FDR\"                 \"IncLevel1\"          \n",
       "[34] \"IncLevel2\"           \"IncLevelDifference\" "
      ]
     },
     "metadata": {},
     "output_type": "display_data"
    },
    {
     "data": {
      "text/html": [
       "35"
      ],
      "text/latex": [
       "35"
      ],
      "text/markdown": [
       "35"
      ],
      "text/plain": [
       "[1] 35"
      ]
     },
     "metadata": {},
     "output_type": "display_data"
    },
    {
     "name": "stdout",
     "output_type": "stream",
     "text": [
      "tibble [6,599 × 35] (S3: tbl_df/tbl/data.frame)\n",
      " $ Event              : chr [1:6599] \"A3SS\" \"A3SS\" \"A3SS\" \"A3SS\" ...\n",
      " $ ID...1             : num [1:6599] 89 90 196 198 199 200 201 202 203 204 ...\n",
      " $ GeneID             : chr [1:6599] \"ENSG00000183765\" \"ENSG00000183765\" \"ENSG00000127616\" \"ENSG00000127616\" ...\n",
      " $ geneSymbol         : chr [1:6599] \"CHEK2\" \"CHEK2\" \"SMARCA4\" \"SMARCA4\" ...\n",
      " $ chr                : chr [1:6599] \"chr22\" \"chr22\" \"chr19\" \"chr19\" ...\n",
      " $ strand             : chr [1:6599] \"-\" \"-\" \"+\" \"+\" ...\n",
      " $ longExonStart_0base: num [1:6599] 28695126 28695126 10984120 10984120 10984120 ...\n",
      " $ longExonEnd        : num [1:6599] 28695242 28695242 10984373 10984373 10984373 ...\n",
      " $ shortES            : num [1:6599] 28695126 28695126 10984123 10984123 10984123 ...\n",
      " $ shortEE            : num [1:6599] 28695209 28695209 10984373 10984373 10984373 ...\n",
      " $ flankingES         : num [1:6599] 28695709 28696900 10961029 10980776 10983479 ...\n",
      " $ flankingEE         : num [1:6599] 28695873 28696987 10961174 10980852 10983711 ...\n",
      " $ 1stExonStart_0base : num [1:6599] NA NA NA NA NA NA NA NA NA NA ...\n",
      " $ 1stExonEnd         : num [1:6599] NA NA NA NA NA NA NA NA NA NA ...\n",
      " $ 2ndExonStart_0base : num [1:6599] NA NA NA NA NA NA NA NA NA NA ...\n",
      " $ 2ndExonEnd         : num [1:6599] NA NA NA NA NA NA NA NA NA NA ...\n",
      " $ upstreamES         : num [1:6599] NA NA NA NA NA NA NA NA NA NA ...\n",
      " $ upstreamEE         : num [1:6599] NA NA NA NA NA NA NA NA NA NA ...\n",
      " $ downstreamES       : num [1:6599] NA NA NA NA NA NA NA NA NA NA ...\n",
      " $ downstreamEE       : num [1:6599] NA NA NA NA NA NA NA NA NA NA ...\n",
      " $ riExonStart_0base  : num [1:6599] NA NA NA NA NA NA NA NA NA NA ...\n",
      " $ riExonEnd          : num [1:6599] NA NA NA NA NA NA NA NA NA NA ...\n",
      " $ exonStart_0base    : num [1:6599] NA NA NA NA NA NA NA NA NA NA ...\n",
      " $ exonEnd            : num [1:6599] NA NA NA NA NA NA NA NA NA NA ...\n",
      " $ IJC_SAMPLE_1       : chr [1:6599] \"709,987,1078,771,584,397,389,185,227,548,217,173,565,418,168,190,412,470,161,277,314,317,141,300,36,338,338,313\"| __truncated__ \"184,283,290,160,81,150,7,24,38,112,25,0,70,15,25,65,71,107,15,53,30,60,10,110,0,71,40,112,0,86,0,79,90,5,6,16,3\"| __truncated__ \"873,1135,1469,1160,1137,1147,515,786,420,911,479,441,2986,549,485,421,599,1360,910,1640,1336,1341,990,1875,2038\"| __truncated__ \"179,163,300,216,209,306,25,50,13,42,69,0,210,0,0,0,86,39,36,75,19,58,28,122,153,69,87,140,0,141,191,34,0,165,63\"| __truncated__ ...\n",
      " $ SJC_SAMPLE_1       : chr [1:6599] \"27,0,44,27,19,0,0,0,0,0,0,0,0,0,0,0,0,19,0,0,0,3,0,0,0,0,19,0,0,0,0,0,0,0,21,0,0,0,0,0,0,0,0,30,0,21,0,25,2,0,0,0,0,118,24,0\" \"0,0,0,19,0,15,0,0,0,0,0,0,0,0,0,0,0,0,0,0,0,0,0,0,0,0,0,0,0,0,0,0,0,0,0,0,0,0,0,0,0,0,0,0,0,0,0,0,0,0,0,0,0,0,0,0\" \"429,626,671,521,712,648,232,560,363,457,98,275,778,253,226,355,240,337,708,740,490,772,387,692,659,764,559,965,\"| __truncated__ \"13,49,33,41,102,40,50,0,0,8,0,0,136,0,0,0,0,89,52,87,20,25,16,61,0,157,37,119,3,0,0,7,0,23,0,106,0,0,38,15,0,0,\"| __truncated__ ...\n",
      " $ IJC_SAMPLE_2       : num [1:6599] 1350 473 77 24 0 ...\n",
      " $ SJC_SAMPLE_2       : num [1:6599] 0 0 46 0 23 ...\n",
      " $ IncFormLen         : num [1:6599] 183 183 153 153 153 153 202 155 159 153 ...\n",
      " $ SkipFormLen        : num [1:6599] 150 150 150 150 150 150 150 150 150 150 ...\n",
      " $ PValue             : num [1:6599] 1 1 0.449 1 1 ...\n",
      " $ FDR                : num [1:6599] 1 1 1 1 1 ...\n",
      " $ IncLevel1          : chr [1:6599] \"0.956,1.0,0.953,0.959,0.962,1.0,1.0,1.0,1.0,1.0,1.0,1.0,1.0,1.0,1.0,1.0,1.0,0.953,1.0,1.0,1.0,0.989,1.0,1.0,1.0\"| __truncated__ \"1.0,1.0,1.0,0.873,1.0,0.891,1.0,1.0,1.0,1.0,1.0,NA,1.0,1.0,1.0,1.0,1.0,1.0,1.0,1.0,1.0,1.0,1.0,1.0,NA,1.0,1.0,1\"| __truncated__ \"0.666,0.64,0.682,0.686,0.61,0.634,0.685,0.579,0.531,0.662,0.827,0.611,0.79,0.68,0.678,0.538,0.71,0.798,0.558,0.\"| __truncated__ \"0.931,0.765,0.899,0.838,0.668,0.882,0.329,1.0,1.0,0.837,1.0,NA,0.602,NA,NA,NA,1.0,0.301,0.404,0.458,0.482,0.695\"| __truncated__ ...\n",
      " $ IncLevel2          : num [1:6599] 1 1 0.621 1 0 0.971 0 1 0.303 0.64 ...\n",
      " $ IncLevelDifference : num [1:6599] -0.037 -0.005 0.032 -0.292 0.948 0.007 0.035 -0.014 -0.023 0.297 ...\n"
     ]
    }
   ],
   "source": [
    "#Organizar a coluna 'Event' na 1a coluna e levando colunas em comum para as últimas posições\n",
    "df_final <- merged_4 [, c('Event','ID...1','GeneID','geneSymbol','chr','strand','longExonStart_0base','longExonEnd','shortES',\n",
    "                          'shortEE','flankingES','flankingEE','1stExonStart_0base','1stExonEnd','2ndExonStart_0base','2ndExonEnd',\n",
    "                          'upstreamES','upstreamEE','downstreamES','downstreamEE','riExonStart_0base','riExonEnd','exonStart_0base',\n",
    "                          'exonEnd','IJC_SAMPLE_1','SJC_SAMPLE_1','IJC_SAMPLE_2','SJC_SAMPLE_2','IncFormLen','SkipFormLen','PValue',\n",
    "                          'FDR','IncLevel1','IncLevel2','IncLevelDifference')]\n",
    "colnames(df_final)\n",
    "length (colnames(df_final))\n",
    "str (df_final) #Ver a estrutura do dataframe"
   ]
  },
  {
   "cell_type": "code",
   "execution_count": 25,
   "id": "e69b73ea-14a7-417d-8673-cf7077a73ca3",
   "metadata": {
    "collapsed": true,
    "execution": {
     "iopub.execute_input": "2023-07-28T19:01:25.661439Z",
     "iopub.status.busy": "2023-07-28T19:01:25.659505Z",
     "iopub.status.idle": "2023-07-28T19:01:25.721587Z",
     "shell.execute_reply": "2023-07-28T19:01:25.719320Z"
    },
    "jupyter": {
     "outputs_hidden": true
    },
    "scrolled": true
   },
   "outputs": [
    {
     "name": "stdout",
     "output_type": "stream",
     "text": [
      "tibble [456 × 35] (S3: tbl_df/tbl/data.frame)\n",
      " $ Event              : chr [1:456] \"A3SS\" \"A3SS\" \"A3SS\" \"A3SS\" ...\n",
      " $ ID...1             : num [1:456] 1273 5568 5570 5571 5572 ...\n",
      " $ GeneID             : chr [1:456] \"ENSG00000108384\" \"ENSG00000132781\" \"ENSG00000132781\" \"ENSG00000132781\" ...\n",
      " $ geneSymbol         : chr [1:456] \"RAD51C\" \"MUTYH\" \"MUTYH\" \"MUTYH\" ...\n",
      " $ chr                : chr [1:456] \"chr17\" \"chr1\" \"chr1\" \"chr1\" ...\n",
      " $ strand             : chr [1:456] \"+\" \"-\" \"-\" \"-\" ...\n",
      " $ longExonStart_0base: num [1:456] 58732480 45331660 45333412 45333412 45333412 ...\n",
      " $ longExonEnd        : num [1:456] 58732544 45331872 45333561 45333564 45333594 ...\n",
      " $ shortES            : num [1:456] 58732483 45331660 45333412 45333412 45333412 ...\n",
      " $ shortEE            : num [1:456] 58732544 45331849 45333497 45333497 45333497 ...\n",
      " $ flankingES         : num [1:456] 58724039 45332022 45334390 45334390 45334390 ...\n",
      " $ flankingEE         : num [1:456] 58724100 45332086 45334511 45334511 45334511 ...\n",
      " $ 1stExonStart_0base : num [1:456] NA NA NA NA NA NA NA NA NA NA ...\n",
      " $ 1stExonEnd         : num [1:456] NA NA NA NA NA NA NA NA NA NA ...\n",
      " $ 2ndExonStart_0base : num [1:456] NA NA NA NA NA NA NA NA NA NA ...\n",
      " $ 2ndExonEnd         : num [1:456] NA NA NA NA NA NA NA NA NA NA ...\n",
      " $ upstreamES         : num [1:456] NA NA NA NA NA NA NA NA NA NA ...\n",
      " $ upstreamEE         : num [1:456] NA NA NA NA NA NA NA NA NA NA ...\n",
      " $ downstreamES       : num [1:456] NA NA NA NA NA NA NA NA NA NA ...\n",
      " $ downstreamEE       : num [1:456] NA NA NA NA NA NA NA NA NA NA ...\n",
      " $ riExonStart_0base  : num [1:456] NA NA NA NA NA NA NA NA NA NA ...\n",
      " $ riExonEnd          : num [1:456] NA NA NA NA NA NA NA NA NA NA ...\n",
      " $ exonStart_0base    : num [1:456] NA NA NA NA NA NA NA NA NA NA ...\n",
      " $ exonEnd            : num [1:456] NA NA NA NA NA NA NA NA NA NA ...\n",
      " $ IJC_SAMPLE_1       : chr [1:456] \"786,864,653,881,165,95,13,28,8,94,0,17,19,0,0,0,0,19,0,0,4,5,20,0,0,0,13,0,77,0,13,6,0,0,9,1,0,0,0,3,0,4,2,2,9,\"| __truncated__ \"28,41,76,27,40,71,140,121,84,95,7,78,151,89,91,0,29,119,60,76,73,81,51,90,40,78,138,128,0,88,0,39,0,99,0,24,0,6\"| __truncated__ \"2546,4173,3991,4096,2186,2904,1021,597,934,1210,473,493,1814,761,589,545,672,1119,648,821,761,631,616,1262,595,\"| __truncated__ \"1519,2038,2532,2180,1825,2656,625,466,590,580,493,421,1410,475,248,391,730,788,538,687,580,341,561,844,369,488,\"| __truncated__ ...\n",
      " $ SJC_SAMPLE_1       : chr [1:456] \"1254,1417,859,1699,867,721,182,113,50,81,34,119,236,79,73,55,161,154,37,106,224,315,136,170,108,15,136,276,123,\"| __truncated__ \"265,343,404,145,127,202,575,412,319,640,295,190,1301,115,203,722,354,654,170,289,491,713,350,711,432,457,599,10\"| __truncated__ \"1160,2734,2956,2867,390,521,343,113,2,167,42,74,406,104,104,79,298,168,187,112,72,57,40,99,256,168,160,131,0,26\"| __truncated__ \"1160,2734,2956,2867,390,521,343,113,2,167,42,74,406,104,104,79,298,168,187,112,72,57,40,99,256,168,160,131,0,26\"| __truncated__ ...\n",
      " $ IJC_SAMPLE_2       : num [1:456] 537 17 830 414 543 501 109 196 128 158 ...\n",
      " $ SJC_SAMPLE_2       : num [1:456] 773 35 484 484 484 484 525 525 131 27 ...\n",
      " $ IncFormLen         : num [1:456] 153 173 214 217 247 256 153 192 153 174 ...\n",
      " $ SkipFormLen        : num [1:456] 150 150 150 150 150 150 150 150 150 150 ...\n",
      " $ PValue             : num [1:456] 0 0.00011 0 0 0 ...\n",
      " $ FDR                : num [1:456] 0 0.00148 0 0 0 ...\n",
      " $ IncLevel1          : chr [1:456] \"0.381,0.374,0.427,0.337,0.157,0.114,0.065,0.195,0.136,0.532,0.0,0.123,0.073,0.0,0.0,0.0,0.0,0.108,0.0,0.0,0.017\"| __truncated__ \"0.084,0.094,0.14,0.139,0.215,0.234,0.174,0.203,0.186,0.114,0.02,0.263,0.091,0.402,0.28,0.0,0.066,0.136,0.234,0.\"| __truncated__ \"0.606,0.517,0.486,0.5,0.797,0.796,0.676,0.787,0.997,0.835,0.888,0.824,0.758,0.837,0.799,0.829,0.612,0.824,0.708\"| __truncated__ \"0.475,0.34,0.372,0.345,0.764,0.779,0.557,0.74,0.995,0.706,0.89,0.797,0.706,0.759,0.622,0.774,0.629,0.764,0.665,\"| __truncated__ ...\n",
      " $ IncLevel2          : num [1:456] 0.405 0.296 0.546 0.372 0.405 0.378 0.169 0.226 0.489 0.835 ...\n",
      " $ IncLevelDifference : num [1:456] -0.32 -0.175 0.248 0.351 0.334 0.349 0.103 0.122 0.273 0.104 ...\n"
     ]
    }
   ],
   "source": [
    "## Aplicando filtro negativo para o 'IncLevelDifference' (com R nativo)\n",
    "df_final1 <- df_final [which(df_final$PValue <= 0.05 & df_final$FDR <= 0.05 \n",
    "                            & (df_final$IncLevelDifference >= 0.05 | df_final$IncLevelDifference <=-0.05)),]\n",
    "str (df_final1)"
   ]
  },
  {
   "cell_type": "code",
   "execution_count": 26,
   "id": "83b65f47-09da-459b-a087-78aa6e67049a",
   "metadata": {
    "collapsed": true,
    "execution": {
     "iopub.execute_input": "2023-07-28T19:01:25.726864Z",
     "iopub.status.busy": "2023-07-28T19:01:25.724984Z",
     "iopub.status.idle": "2023-07-28T19:01:25.780418Z",
     "shell.execute_reply": "2023-07-28T19:01:25.778123Z"
    },
    "jupyter": {
     "outputs_hidden": true
    },
    "scrolled": true
   },
   "outputs": [
    {
     "name": "stdout",
     "output_type": "stream",
     "text": [
      "tibble [1,543 × 35] (S3: tbl_df/tbl/data.frame)\n",
      " $ Event              : chr [1:1543] \"A3SS\" \"A3SS\" \"A3SS\" \"A3SS\" ...\n",
      " $ ID...1             : num [1:1543] 198 199 204 205 206 ...\n",
      " $ GeneID             : chr [1:1543] \"ENSG00000127616\" \"ENSG00000127616\" \"ENSG00000127616\" \"ENSG00000127616\" ...\n",
      " $ geneSymbol         : chr [1:1543] \"SMARCA4\" \"SMARCA4\" \"SMARCA4\" \"SMARCA4\" ...\n",
      " $ chr                : chr [1:1543] \"chr19\" \"chr19\" \"chr19\" \"chr19\" ...\n",
      " $ strand             : chr [1:1543] \"+\" \"+\" \"+\" \"+\" ...\n",
      " $ longExonStart_0base: num [1:1543] 10984120 10984120 11058254 11041297 11058254 ...\n",
      " $ longExonEnd        : num [1:1543] 10984373 10984373 11058363 11041560 11058363 ...\n",
      " $ shortES            : num [1:1543] 10984123 10984123 11058257 11041306 11058257 ...\n",
      " $ shortEE            : num [1:1543] 10984373 10984373 11058363 11041560 11058363 ...\n",
      " $ flankingES         : num [1:1543] 1.1e+07 1.1e+07 1.1e+07 1.1e+07 1.1e+07 ...\n",
      " $ flankingEE         : num [1:1543] 1.1e+07 1.1e+07 1.1e+07 1.1e+07 1.1e+07 ...\n",
      " $ 1stExonStart_0base : num [1:1543] NA NA NA NA NA NA NA NA NA NA ...\n",
      " $ 1stExonEnd         : num [1:1543] NA NA NA NA NA NA NA NA NA NA ...\n",
      " $ 2ndExonStart_0base : num [1:1543] NA NA NA NA NA NA NA NA NA NA ...\n",
      " $ 2ndExonEnd         : num [1:1543] NA NA NA NA NA NA NA NA NA NA ...\n",
      " $ upstreamES         : num [1:1543] NA NA NA NA NA NA NA NA NA NA ...\n",
      " $ upstreamEE         : num [1:1543] NA NA NA NA NA NA NA NA NA NA ...\n",
      " $ downstreamES       : num [1:1543] NA NA NA NA NA NA NA NA NA NA ...\n",
      " $ downstreamEE       : num [1:1543] NA NA NA NA NA NA NA NA NA NA ...\n",
      " $ riExonStart_0base  : num [1:1543] NA NA NA NA NA NA NA NA NA NA ...\n",
      " $ riExonEnd          : num [1:1543] NA NA NA NA NA NA NA NA NA NA ...\n",
      " $ exonStart_0base    : num [1:1543] NA NA NA NA NA NA NA NA NA NA ...\n",
      " $ exonEnd            : num [1:1543] NA NA NA NA NA NA NA NA NA NA ...\n",
      " $ IJC_SAMPLE_1       : chr [1:1543] \"179,163,300,216,209,306,25,50,13,42,69,0,210,0,0,0,86,39,36,75,19,58,28,122,153,69,87,140,0,141,191,34,0,165,63\"| __truncated__ \"159,135,291,204,209,295,25,24,0,36,69,0,210,0,0,0,86,9,0,21,6,58,28,116,101,28,87,140,0,0,191,0,0,165,1,30,45,1\"| __truncated__ \"503,620,863,992,464,418,24,0,0,44,0,0,11,0,0,60,2,16,18,0,15,5,19,40,90,0,26,0,0,58,0,28,0,10,99,7,4,0,7,6,61,0\"| __truncated__ \"2111,2003,2394,2960,2596,2782,198,138,79,202,256,164,741,108,71,102,70,161,264,149,219,264,202,273,174,183,462,\"| __truncated__ ...\n",
      " $ SJC_SAMPLE_1       : chr [1:1543] \"13,49,33,41,102,40,50,0,0,8,0,0,136,0,0,0,0,89,52,87,20,25,16,61,0,157,37,119,3,0,0,7,0,23,0,106,0,0,38,15,0,0,\"| __truncated__ \"4,7,3,1,10,14,0,1,0,0,0,0,0,0,0,0,0,0,0,0,9,0,8,0,0,0,0,0,0,0,54,0,0,34,0,0,0,0,15,0,0,0,0,0,18,0,0,0,0,0,0,0,0,0,0,0\" \"57,122,255,423,35,0,8,0,0,0,0,0,0,0,0,0,0,0,0,0,0,0,0,0,0,0,0,0,0,0,0,0,0,0,0,0,0,0,0,0,0,0,0,0,0,0,13,0,0,0,0,0,0,0,0,0\" \"1071,953,757,1522,961,788,104,47,146,136,210,30,447,240,0,146,7,125,68,139,128,190,125,275,201,71,266,213,0,190\"| __truncated__ ...\n",
      " $ IJC_SAMPLE_2       : num [1:1543] 24 0 145 386 1865 ...\n",
      " $ SJC_SAMPLE_2       : num [1:1543] 0 23 80 365 592 0 1 0 43 773 ...\n",
      " $ IncFormLen         : num [1:1543] 153 153 153 159 153 153 191 153 153 153 ...\n",
      " $ SkipFormLen        : num [1:1543] 150 150 150 150 150 150 150 150 150 150 ...\n",
      " $ PValue             : num [1:1543] 1 1 1 1 0.0153 ...\n",
      " $ FDR                : num [1:1543] 1 1 1 1 0.134 ...\n",
      " $ IncLevel1          : chr [1:1543] \"0.931,0.765,0.899,0.838,0.668,0.882,0.329,1.0,1.0,0.837,1.0,NA,0.602,NA,NA,NA,1.0,0.301,0.404,0.458,0.482,0.695\"| __truncated__ \"0.975,0.95,0.99,0.995,0.953,0.954,1.0,0.959,NA,1.0,1.0,NA,1.0,NA,NA,NA,1.0,1.0,NA,1.0,0.395,1.0,0.774,1.0,1.0,1\"| __truncated__ \"0.896,0.833,0.768,0.697,0.929,1.0,0.746,NA,NA,1.0,NA,NA,1.0,NA,NA,1.0,1.0,1.0,1.0,NA,1.0,1.0,1.0,1.0,1.0,NA,1.0\"| __truncated__ \"0.65,0.665,0.749,0.647,0.718,0.769,0.642,0.735,0.338,0.584,0.535,0.838,0.61,0.298,1.0,0.397,0.904,0.549,0.786,0\"| __truncated__ ...\n",
      " $ IncLevel2          : num [1:1543] 1 0 0.64 0.499 0.755 1 0 1 0.916 0.405 ...\n",
      " $ IncLevelDifference : num [1:1543] -0.292 0.948 0.297 0.065 -0.06 -0.166 0.143 -0.158 -0.378 -0.32 ...\n"
     ]
    }
   ],
   "source": [
    "## Aplicando filtro negativo para o 'IncLevelDifference' (com R nativo)\n",
    "df_final2 <- df_final [which(df_final$IncLevelDifference >= 0.05 | df_final$IncLevelDifference <=-0.05),]\n",
    "str (df_final2)"
   ]
  },
  {
   "cell_type": "code",
   "execution_count": 27,
   "id": "71b523ac-127d-44ac-a9b6-63ba318b7440",
   "metadata": {
    "collapsed": true,
    "execution": {
     "iopub.execute_input": "2023-07-28T19:01:25.791712Z",
     "iopub.status.busy": "2023-07-28T19:01:25.789499Z",
     "iopub.status.idle": "2023-07-28T19:01:25.855318Z",
     "shell.execute_reply": "2023-07-28T19:01:25.852965Z"
    },
    "jupyter": {
     "outputs_hidden": true
    },
    "scrolled": true
   },
   "outputs": [
    {
     "name": "stdout",
     "output_type": "stream",
     "text": [
      "tibble [456 × 35] (S3: tbl_df/tbl/data.frame)\n",
      " $ Event              : chr [1:456] \"A3SS\" \"A3SS\" \"A3SS\" \"A3SS\" ...\n",
      " $ ID...1             : num [1:456] 1273 5568 5570 5571 5572 ...\n",
      " $ GeneID             : chr [1:456] \"ENSG00000108384\" \"ENSG00000132781\" \"ENSG00000132781\" \"ENSG00000132781\" ...\n",
      " $ geneSymbol         : chr [1:456] \"RAD51C\" \"MUTYH\" \"MUTYH\" \"MUTYH\" ...\n",
      " $ chr                : chr [1:456] \"chr17\" \"chr1\" \"chr1\" \"chr1\" ...\n",
      " $ strand             : chr [1:456] \"+\" \"-\" \"-\" \"-\" ...\n",
      " $ longExonStart_0base: num [1:456] 58732480 45331660 45333412 45333412 45333412 ...\n",
      " $ longExonEnd        : num [1:456] 58732544 45331872 45333561 45333564 45333594 ...\n",
      " $ shortES            : num [1:456] 58732483 45331660 45333412 45333412 45333412 ...\n",
      " $ shortEE            : num [1:456] 58732544 45331849 45333497 45333497 45333497 ...\n",
      " $ flankingES         : num [1:456] 58724039 45332022 45334390 45334390 45334390 ...\n",
      " $ flankingEE         : num [1:456] 58724100 45332086 45334511 45334511 45334511 ...\n",
      " $ 1stExonStart_0base : num [1:456] NA NA NA NA NA NA NA NA NA NA ...\n",
      " $ 1stExonEnd         : num [1:456] NA NA NA NA NA NA NA NA NA NA ...\n",
      " $ 2ndExonStart_0base : num [1:456] NA NA NA NA NA NA NA NA NA NA ...\n",
      " $ 2ndExonEnd         : num [1:456] NA NA NA NA NA NA NA NA NA NA ...\n",
      " $ upstreamES         : num [1:456] NA NA NA NA NA NA NA NA NA NA ...\n",
      " $ upstreamEE         : num [1:456] NA NA NA NA NA NA NA NA NA NA ...\n",
      " $ downstreamES       : num [1:456] NA NA NA NA NA NA NA NA NA NA ...\n",
      " $ downstreamEE       : num [1:456] NA NA NA NA NA NA NA NA NA NA ...\n",
      " $ riExonStart_0base  : num [1:456] NA NA NA NA NA NA NA NA NA NA ...\n",
      " $ riExonEnd          : num [1:456] NA NA NA NA NA NA NA NA NA NA ...\n",
      " $ exonStart_0base    : num [1:456] NA NA NA NA NA NA NA NA NA NA ...\n",
      " $ exonEnd            : num [1:456] NA NA NA NA NA NA NA NA NA NA ...\n",
      " $ IJC_SAMPLE_1       : chr [1:456] \"786,864,653,881,165,95,13,28,8,94,0,17,19,0,0,0,0,19,0,0,4,5,20,0,0,0,13,0,77,0,13,6,0,0,9,1,0,0,0,3,0,4,2,2,9,\"| __truncated__ \"28,41,76,27,40,71,140,121,84,95,7,78,151,89,91,0,29,119,60,76,73,81,51,90,40,78,138,128,0,88,0,39,0,99,0,24,0,6\"| __truncated__ \"2546,4173,3991,4096,2186,2904,1021,597,934,1210,473,493,1814,761,589,545,672,1119,648,821,761,631,616,1262,595,\"| __truncated__ \"1519,2038,2532,2180,1825,2656,625,466,590,580,493,421,1410,475,248,391,730,788,538,687,580,341,561,844,369,488,\"| __truncated__ ...\n",
      " $ SJC_SAMPLE_1       : chr [1:456] \"1254,1417,859,1699,867,721,182,113,50,81,34,119,236,79,73,55,161,154,37,106,224,315,136,170,108,15,136,276,123,\"| __truncated__ \"265,343,404,145,127,202,575,412,319,640,295,190,1301,115,203,722,354,654,170,289,491,713,350,711,432,457,599,10\"| __truncated__ \"1160,2734,2956,2867,390,521,343,113,2,167,42,74,406,104,104,79,298,168,187,112,72,57,40,99,256,168,160,131,0,26\"| __truncated__ \"1160,2734,2956,2867,390,521,343,113,2,167,42,74,406,104,104,79,298,168,187,112,72,57,40,99,256,168,160,131,0,26\"| __truncated__ ...\n",
      " $ IJC_SAMPLE_2       : num [1:456] 537 17 830 414 543 501 109 196 128 158 ...\n",
      " $ SJC_SAMPLE_2       : num [1:456] 773 35 484 484 484 484 525 525 131 27 ...\n",
      " $ IncFormLen         : num [1:456] 153 173 214 217 247 256 153 192 153 174 ...\n",
      " $ SkipFormLen        : num [1:456] 150 150 150 150 150 150 150 150 150 150 ...\n",
      " $ PValue             : num [1:456] 0 0.00011 0 0 0 ...\n",
      " $ FDR                : num [1:456] 0 0.00148 0 0 0 ...\n",
      " $ IncLevel1          : chr [1:456] \"0.381,0.374,0.427,0.337,0.157,0.114,0.065,0.195,0.136,0.532,0.0,0.123,0.073,0.0,0.0,0.0,0.0,0.108,0.0,0.0,0.017\"| __truncated__ \"0.084,0.094,0.14,0.139,0.215,0.234,0.174,0.203,0.186,0.114,0.02,0.263,0.091,0.402,0.28,0.0,0.066,0.136,0.234,0.\"| __truncated__ \"0.606,0.517,0.486,0.5,0.797,0.796,0.676,0.787,0.997,0.835,0.888,0.824,0.758,0.837,0.799,0.829,0.612,0.824,0.708\"| __truncated__ \"0.475,0.34,0.372,0.345,0.764,0.779,0.557,0.74,0.995,0.706,0.89,0.797,0.706,0.759,0.622,0.774,0.629,0.764,0.665,\"| __truncated__ ...\n",
      " $ IncLevel2          : num [1:456] 0.405 0.296 0.546 0.372 0.405 0.378 0.169 0.226 0.489 0.835 ...\n",
      " $ IncLevelDifference : num [1:456] -0.32 -0.175 0.248 0.351 0.334 0.349 0.103 0.122 0.273 0.104 ...\n"
     ]
    }
   ],
   "source": [
    "## Aplicando filtro negativo para o 'IncLevelDifference' (com Tidyverse)\n",
    "df_final3 <- df_final %>% filter(PValue <= 0.05, FDR <= 0.05, IncLevelDifference >= 0.05 | df_final$IncLevelDifference <=-0.05)\n",
    "str (df_final3) "
   ]
  },
  {
   "cell_type": "code",
   "execution_count": 28,
   "id": "e9df2fb1-7396-48a4-b9b1-87d465a3707b",
   "metadata": {
    "collapsed": true,
    "execution": {
     "iopub.execute_input": "2023-07-28T19:01:25.860750Z",
     "iopub.status.busy": "2023-07-28T19:01:25.858769Z",
     "iopub.status.idle": "2023-07-28T19:01:25.932080Z",
     "shell.execute_reply": "2023-07-28T19:01:25.929770Z"
    },
    "jupyter": {
     "outputs_hidden": true
    },
    "scrolled": true
   },
   "outputs": [
    {
     "name": "stdout",
     "output_type": "stream",
     "text": [
      "tibble [1,543 × 35] (S3: tbl_df/tbl/data.frame)\n",
      " $ Event              : chr [1:1543] \"A3SS\" \"A3SS\" \"A3SS\" \"A3SS\" ...\n",
      " $ ID...1             : num [1:1543] 198 199 204 205 206 ...\n",
      " $ GeneID             : chr [1:1543] \"ENSG00000127616\" \"ENSG00000127616\" \"ENSG00000127616\" \"ENSG00000127616\" ...\n",
      " $ geneSymbol         : chr [1:1543] \"SMARCA4\" \"SMARCA4\" \"SMARCA4\" \"SMARCA4\" ...\n",
      " $ chr                : chr [1:1543] \"chr19\" \"chr19\" \"chr19\" \"chr19\" ...\n",
      " $ strand             : chr [1:1543] \"+\" \"+\" \"+\" \"+\" ...\n",
      " $ longExonStart_0base: num [1:1543] 10984120 10984120 11058254 11041297 11058254 ...\n",
      " $ longExonEnd        : num [1:1543] 10984373 10984373 11058363 11041560 11058363 ...\n",
      " $ shortES            : num [1:1543] 10984123 10984123 11058257 11041306 11058257 ...\n",
      " $ shortEE            : num [1:1543] 10984373 10984373 11058363 11041560 11058363 ...\n",
      " $ flankingES         : num [1:1543] 1.1e+07 1.1e+07 1.1e+07 1.1e+07 1.1e+07 ...\n",
      " $ flankingEE         : num [1:1543] 1.1e+07 1.1e+07 1.1e+07 1.1e+07 1.1e+07 ...\n",
      " $ 1stExonStart_0base : num [1:1543] NA NA NA NA NA NA NA NA NA NA ...\n",
      " $ 1stExonEnd         : num [1:1543] NA NA NA NA NA NA NA NA NA NA ...\n",
      " $ 2ndExonStart_0base : num [1:1543] NA NA NA NA NA NA NA NA NA NA ...\n",
      " $ 2ndExonEnd         : num [1:1543] NA NA NA NA NA NA NA NA NA NA ...\n",
      " $ upstreamES         : num [1:1543] NA NA NA NA NA NA NA NA NA NA ...\n",
      " $ upstreamEE         : num [1:1543] NA NA NA NA NA NA NA NA NA NA ...\n",
      " $ downstreamES       : num [1:1543] NA NA NA NA NA NA NA NA NA NA ...\n",
      " $ downstreamEE       : num [1:1543] NA NA NA NA NA NA NA NA NA NA ...\n",
      " $ riExonStart_0base  : num [1:1543] NA NA NA NA NA NA NA NA NA NA ...\n",
      " $ riExonEnd          : num [1:1543] NA NA NA NA NA NA NA NA NA NA ...\n",
      " $ exonStart_0base    : num [1:1543] NA NA NA NA NA NA NA NA NA NA ...\n",
      " $ exonEnd            : num [1:1543] NA NA NA NA NA NA NA NA NA NA ...\n",
      " $ IJC_SAMPLE_1       : chr [1:1543] \"179,163,300,216,209,306,25,50,13,42,69,0,210,0,0,0,86,39,36,75,19,58,28,122,153,69,87,140,0,141,191,34,0,165,63\"| __truncated__ \"159,135,291,204,209,295,25,24,0,36,69,0,210,0,0,0,86,9,0,21,6,58,28,116,101,28,87,140,0,0,191,0,0,165,1,30,45,1\"| __truncated__ \"503,620,863,992,464,418,24,0,0,44,0,0,11,0,0,60,2,16,18,0,15,5,19,40,90,0,26,0,0,58,0,28,0,10,99,7,4,0,7,6,61,0\"| __truncated__ \"2111,2003,2394,2960,2596,2782,198,138,79,202,256,164,741,108,71,102,70,161,264,149,219,264,202,273,174,183,462,\"| __truncated__ ...\n",
      " $ SJC_SAMPLE_1       : chr [1:1543] \"13,49,33,41,102,40,50,0,0,8,0,0,136,0,0,0,0,89,52,87,20,25,16,61,0,157,37,119,3,0,0,7,0,23,0,106,0,0,38,15,0,0,\"| __truncated__ \"4,7,3,1,10,14,0,1,0,0,0,0,0,0,0,0,0,0,0,0,9,0,8,0,0,0,0,0,0,0,54,0,0,34,0,0,0,0,15,0,0,0,0,0,18,0,0,0,0,0,0,0,0,0,0,0\" \"57,122,255,423,35,0,8,0,0,0,0,0,0,0,0,0,0,0,0,0,0,0,0,0,0,0,0,0,0,0,0,0,0,0,0,0,0,0,0,0,0,0,0,0,0,0,13,0,0,0,0,0,0,0,0,0\" \"1071,953,757,1522,961,788,104,47,146,136,210,30,447,240,0,146,7,125,68,139,128,190,125,275,201,71,266,213,0,190\"| __truncated__ ...\n",
      " $ IJC_SAMPLE_2       : num [1:1543] 24 0 145 386 1865 ...\n",
      " $ SJC_SAMPLE_2       : num [1:1543] 0 23 80 365 592 0 1 0 43 773 ...\n",
      " $ IncFormLen         : num [1:1543] 153 153 153 159 153 153 191 153 153 153 ...\n",
      " $ SkipFormLen        : num [1:1543] 150 150 150 150 150 150 150 150 150 150 ...\n",
      " $ PValue             : num [1:1543] 1 1 1 1 0.0153 ...\n",
      " $ FDR                : num [1:1543] 1 1 1 1 0.134 ...\n",
      " $ IncLevel1          : chr [1:1543] \"0.931,0.765,0.899,0.838,0.668,0.882,0.329,1.0,1.0,0.837,1.0,NA,0.602,NA,NA,NA,1.0,0.301,0.404,0.458,0.482,0.695\"| __truncated__ \"0.975,0.95,0.99,0.995,0.953,0.954,1.0,0.959,NA,1.0,1.0,NA,1.0,NA,NA,NA,1.0,1.0,NA,1.0,0.395,1.0,0.774,1.0,1.0,1\"| __truncated__ \"0.896,0.833,0.768,0.697,0.929,1.0,0.746,NA,NA,1.0,NA,NA,1.0,NA,NA,1.0,1.0,1.0,1.0,NA,1.0,1.0,1.0,1.0,1.0,NA,1.0\"| __truncated__ \"0.65,0.665,0.749,0.647,0.718,0.769,0.642,0.735,0.338,0.584,0.535,0.838,0.61,0.298,1.0,0.397,0.904,0.549,0.786,0\"| __truncated__ ...\n",
      " $ IncLevel2          : num [1:1543] 1 0 0.64 0.499 0.755 1 0 1 0.916 0.405 ...\n",
      " $ IncLevelDifference : num [1:1543] -0.292 0.948 0.297 0.065 -0.06 -0.166 0.143 -0.158 -0.378 -0.32 ...\n"
     ]
    }
   ],
   "source": [
    "## Aplicando filtro negativo para o 'IncLevelDifference' (com Tidyverse)\n",
    "df_final4 <- df_final %>% filter(IncLevelDifference >= 0.05 | df_final$IncLevelDifference <=-0.05)\n",
    "str (df_final4) "
   ]
  },
  {
   "cell_type": "code",
   "execution_count": 29,
   "id": "fc811d37-5282-4c41-9729-8e5e675aebea",
   "metadata": {
    "execution": {
     "iopub.execute_input": "2023-07-28T19:01:25.937371Z",
     "iopub.status.busy": "2023-07-28T19:01:25.935483Z",
     "iopub.status.idle": "2023-07-28T19:01:26.320598Z",
     "shell.execute_reply": "2023-07-28T19:01:26.318195Z"
    }
   },
   "outputs": [],
   "source": [
    "library(openxlsx)"
   ]
  },
  {
   "cell_type": "code",
   "execution_count": 30,
   "id": "d24c466d-5f71-4e99-892c-8a370695fb78",
   "metadata": {
    "execution": {
     "iopub.execute_input": "2023-07-28T19:01:26.326147Z",
     "iopub.status.busy": "2023-07-28T19:01:26.323895Z",
     "iopub.status.idle": "2023-07-28T19:01:26.615198Z",
     "shell.execute_reply": "2023-07-28T19:01:26.611923Z"
    }
   },
   "outputs": [],
   "source": [
    "#Mudar aqui o nome da amostra\n",
    "write.xlsx (df_final1, \"../merged-rmats-tables/RNAP-105/RNAP-105_AS-significativos.xlsx\")"
   ]
  },
  {
   "cell_type": "code",
   "execution_count": 31,
   "id": "4ec1b94e-c307-4fa9-a57b-4b3126a6418f",
   "metadata": {
    "execution": {
     "iopub.execute_input": "2023-07-28T19:01:26.622788Z",
     "iopub.status.busy": "2023-07-28T19:01:26.620002Z",
     "iopub.status.idle": "2023-07-28T19:01:27.114237Z",
     "shell.execute_reply": "2023-07-28T19:01:27.111474Z"
    }
   },
   "outputs": [],
   "source": [
    "#Mudar aqui o nome da amostra\n",
    "write.xlsx (df_final2, \"../merged-rmats-tables/RNAP-105/RNAP-105_noFDRPvalue.xlsx\")"
   ]
  },
  {
   "cell_type": "code",
   "execution_count": 32,
   "id": "a165b156-1b69-45cd-9945-071cdedb7556",
   "metadata": {
    "execution": {
     "iopub.execute_input": "2023-07-28T19:01:27.120470Z",
     "iopub.status.busy": "2023-07-28T19:01:27.118175Z",
     "iopub.status.idle": "2023-07-28T19:01:27.134254Z",
     "shell.execute_reply": "2023-07-28T19:01:27.131751Z"
    }
   },
   "outputs": [],
   "source": [
    "#write.xlsx (df_final3, \"../merged-rmats-tables/RNAP-108/RNAP-108_AS-significativos3.xlsx\")"
   ]
  }
 ],
 "metadata": {
  "kernelspec": {
   "display_name": "R [conda env:bioc-3.16]",
   "language": "R",
   "name": "conda-env-bioc-3.16-r"
  },
  "language_info": {
   "codemirror_mode": "r",
   "file_extension": ".r",
   "mimetype": "text/x-r-source",
   "name": "R",
   "pygments_lexer": "r",
   "version": "4.2.2"
  }
 },
 "nbformat": 4,
 "nbformat_minor": 5
}
