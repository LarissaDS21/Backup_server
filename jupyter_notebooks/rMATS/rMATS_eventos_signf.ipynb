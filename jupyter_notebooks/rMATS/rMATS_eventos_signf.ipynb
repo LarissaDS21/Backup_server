{
 "cells": [
  {
   "cell_type": "code",
   "execution_count": 1,
   "id": "dd9fde36-3a0e-4e71-b6ad-ee6e2b8e15ca",
   "metadata": {
    "execution": {
     "iopub.execute_input": "2023-08-03T20:43:52.828347Z",
     "iopub.status.busy": "2023-08-03T20:43:52.822999Z",
     "iopub.status.idle": "2023-08-03T20:43:54.967119Z",
     "shell.execute_reply": "2023-08-03T20:43:54.964305Z"
    },
    "tags": []
   },
   "outputs": [
    {
     "name": "stderr",
     "output_type": "stream",
     "text": [
      "Warning message:\n",
      "“package ‘tibble’ was built under R version 4.2.3”\n",
      "Warning message:\n",
      "“package ‘dplyr’ was built under R version 4.2.3”\n",
      "── \u001b[1mAttaching core tidyverse packages\u001b[22m ──────────────────────── tidyverse 2.0.0 ──\n",
      "\u001b[32m✔\u001b[39m \u001b[34mdplyr    \u001b[39m 1.1.1     \u001b[32m✔\u001b[39m \u001b[34mreadr    \u001b[39m 2.1.4\n",
      "\u001b[32m✔\u001b[39m \u001b[34mforcats  \u001b[39m 1.0.0     \u001b[32m✔\u001b[39m \u001b[34mstringr  \u001b[39m 1.5.0\n",
      "\u001b[32m✔\u001b[39m \u001b[34mggplot2  \u001b[39m 3.4.1     \u001b[32m✔\u001b[39m \u001b[34mtibble   \u001b[39m 3.2.1\n",
      "\u001b[32m✔\u001b[39m \u001b[34mlubridate\u001b[39m 1.9.2     \u001b[32m✔\u001b[39m \u001b[34mtidyr    \u001b[39m 1.3.0\n",
      "\u001b[32m✔\u001b[39m \u001b[34mpurrr    \u001b[39m 1.0.1     \n",
      "── \u001b[1mConflicts\u001b[22m ────────────────────────────────────────── tidyverse_conflicts() ──\n",
      "\u001b[31m✖\u001b[39m \u001b[34mdplyr\u001b[39m::\u001b[32mfilter()\u001b[39m masks \u001b[34mstats\u001b[39m::filter()\n",
      "\u001b[31m✖\u001b[39m \u001b[34mdplyr\u001b[39m::\u001b[32mlag()\u001b[39m    masks \u001b[34mstats\u001b[39m::lag()\n",
      "\u001b[36mℹ\u001b[39m Use the conflicted package (\u001b[3m\u001b[34m<http://conflicted.r-lib.org/>\u001b[39m\u001b[23m) to force all conflicts to become errors\n"
     ]
    }
   ],
   "source": [
    "library(tidyverse)"
   ]
  },
  {
   "cell_type": "code",
   "execution_count": 2,
   "id": "90c28414-8580-47ac-9740-15dd723439ab",
   "metadata": {
    "execution": {
     "iopub.execute_input": "2023-08-03T20:44:07.389003Z",
     "iopub.status.busy": "2023-08-03T20:44:07.332923Z",
     "iopub.status.idle": "2023-08-03T20:44:08.599298Z",
     "shell.execute_reply": "2023-08-03T20:44:08.596812Z"
    },
    "tags": []
   },
   "outputs": [
    {
     "name": "stderr",
     "output_type": "stream",
     "text": [
      "\u001b[1m\u001b[22mNew names:\n",
      "\u001b[36m•\u001b[39m `ID` -> `ID...1`\n",
      "\u001b[36m•\u001b[39m `ID` -> `ID...12`\n",
      "\u001b[1mRows: \u001b[22m\u001b[34m2028\u001b[39m \u001b[1mColumns: \u001b[22m\u001b[34m23\u001b[39m\n",
      "\u001b[36m──\u001b[39m \u001b[1mColumn specification\u001b[22m \u001b[36m────────────────────────────────────────────────────────\u001b[39m\n",
      "\u001b[1mDelimiter:\u001b[22m \"\\t\"\n",
      "\u001b[31mchr\u001b[39m  (7): GeneID, geneSymbol, chr, strand, IJC_SAMPLE_1, SJC_SAMPLE_1, IncLe...\n",
      "\u001b[32mdbl\u001b[39m (16): ID...1, exonStart_0base, exonEnd, upstreamES, upstreamEE, downstre...\n",
      "\n",
      "\u001b[36mℹ\u001b[39m Use `spec()` to retrieve the full column specification for this data.\n",
      "\u001b[36mℹ\u001b[39m Specify the column types or set `show_col_types = FALSE` to quiet this message.\n"
     ]
    }
   ],
   "source": [
    "SE_RNAP112 <- read_tsv (\"../../RNAP-112/SE.MATS.JC.txt\")"
   ]
  },
  {
   "cell_type": "code",
   "execution_count": 3,
   "id": "1b3303a7-9e5e-4529-b562-0860df9a86f7",
   "metadata": {
    "collapsed": true,
    "execution": {
     "iopub.execute_input": "2023-08-03T20:44:15.053713Z",
     "iopub.status.busy": "2023-08-03T20:44:15.051525Z",
     "iopub.status.idle": "2023-08-03T20:44:15.119021Z",
     "shell.execute_reply": "2023-08-03T20:44:15.116324Z"
    },
    "jupyter": {
     "outputs_hidden": true
    },
    "tags": []
   },
   "outputs": [
    {
     "name": "stdout",
     "output_type": "stream",
     "text": [
      "spc_tbl_ [2,028 × 23] (S3: spec_tbl_df/tbl_df/tbl/data.frame)\n",
      " $ ID...1            : num [1:2028] 479 480 481 482 483 484 485 486 487 488 ...\n",
      " $ GeneID            : chr [1:2028] \"ENSG00000183765\" \"ENSG00000183765\" \"ENSG00000183765\" \"ENSG00000183765\" ...\n",
      " $ geneSymbol        : chr [1:2028] \"CHEK2\" \"CHEK2\" \"CHEK2\" \"CHEK2\" ...\n",
      " $ chr               : chr [1:2028] \"chr22\" \"chr22\" \"chr22\" \"chr22\" ...\n",
      " $ strand            : chr [1:2028] \"-\" \"-\" \"-\" \"-\" ...\n",
      " $ exonStart_0base   : num [1:2028] 28695709 28695709 28695709 28696900 28696900 ...\n",
      " $ exonEnd           : num [1:2028] 28695873 28695873 28695873 28696987 28696987 ...\n",
      " $ upstreamES        : num [1:2028] 28695126 28695126 28695126 28695126 28695709 ...\n",
      " $ upstreamEE        : num [1:2028] 28695209 28695242 28695242 28695242 28695873 ...\n",
      " $ downstreamES      : num [1:2028] 28696900 28696900 28699837 28699837 28699837 ...\n",
      " $ downstreamEE      : num [1:2028] 28696987 28696987 28699937 28699937 28699937 ...\n",
      " $ ID...12           : num [1:2028] 479 480 481 482 483 484 485 486 487 488 ...\n",
      " $ IJC_SAMPLE_1      : chr [1:2028] \"431,433,445,471,294,121,208,214,266,263,101,140,358,248,23,67,205,460,120,117,316,131,140,259,40,227,344,303,0,\"| __truncated__ \"925,1088,1183,1045,778,368,590,375,455,699,293,313,853,651,166,192,546,804,266,341,600,385,271,449,76,494,623,5\"| __truncated__ \"584,777,1064,787,525,284,382,195,189,436,192,173,495,403,143,125,343,363,146,224,308,257,131,190,36,267,308,201\"| __truncated__ \"465,719,483,684,294,295,20,22,18,59,5,50,152,17,37,2,103,141,46,12,105,115,77,106,50,30,79,68,0,117,181,73,42,3\"| __truncated__ ...\n",
      " $ SJC_SAMPLE_1      : chr [1:2028] \"0,0,0,19,0,15,0,0,0,0,0,0,0,0,0,0,0,0,0,0,0,0,0,0,0,0,0,0,0,0,0,0,0,0,0,0,0,0,0,0,0,0,0,0,0,0,0,0,0,0,0,0,0,0,0,0\" \"0,0,4,0,0,0,0,0,0,0,0,0,0,0,0,0,0,0,0,0,0,0,0,0,0,0,0,0,0,0,0,0,0,3,0,0,2,0,1,0,0,0,0,0,0,0,0,0,0,0,0,0,0,0,0,0\" \"8,0,14,0,0,0,0,0,0,0,0,0,0,0,0,0,0,0,0,0,0,0,0,0,0,0,0,0,0,0,0,0,0,0,0,0,0,0,0,0,0,0,0,0,0,0,0,0,0,0,0,0,0,0,0,0\" \"8,0,14,0,0,0,0,0,0,0,0,0,0,0,0,0,0,0,0,0,0,0,0,0,0,0,0,0,0,0,0,0,0,0,0,0,0,0,0,0,0,0,0,0,0,0,0,0,0,0,0,0,0,0,0,0\" ...\n",
      " $ IJC_SAMPLE_2      : num [1:2028] 283 429 146 103 386 435 140 388 716 148 ...\n",
      " $ SJC_SAMPLE_2      : num [1:2028] 0 0 0 0 0 0 0 0 66 0 ...\n",
      " $ IncFormLen        : num [1:2028] 300 300 300 237 237 250 250 212 212 204 ...\n",
      " $ SkipFormLen       : num [1:2028] 150 150 150 150 150 150 150 150 150 150 ...\n",
      " $ PValue            : num [1:2028] 1 1 1 1 1 ...\n",
      " $ FDR               : num [1:2028] 1 1 1 1 1 ...\n",
      " $ IncLevel1         : chr [1:2028] \"1.0,1.0,1.0,0.925,1.0,0.801,1.0,1.0,1.0,1.0,1.0,1.0,1.0,1.0,1.0,1.0,1.0,1.0,1.0,1.0,1.0,1.0,1.0,1.0,1.0,1.0,1.0\"| __truncated__ \"1.0,1.0,0.993,1.0,1.0,1.0,1.0,1.0,1.0,1.0,1.0,1.0,1.0,1.0,1.0,1.0,1.0,1.0,1.0,1.0,1.0,1.0,1.0,1.0,1.0,1.0,1.0,1\"| __truncated__ \"0.973,1.0,0.974,1.0,1.0,1.0,1.0,1.0,1.0,1.0,1.0,1.0,1.0,1.0,1.0,1.0,1.0,1.0,1.0,1.0,1.0,1.0,1.0,1.0,1.0,1.0,1.0\"| __truncated__ \"0.974,1.0,0.956,1.0,1.0,1.0,1.0,1.0,1.0,1.0,1.0,1.0,1.0,1.0,1.0,1.0,1.0,1.0,1.0,1.0,1.0,1.0,1.0,1.0,1.0,1.0,1.0\"| __truncated__ ...\n",
      " $ IncLevel2         : num [1:2028] 1 1 1 1 1 1 1 1 0.885 1 ...\n",
      " $ IncLevelDifference: num [1:2028] -0.005 -0.001 -0.001 -0.001 -0.047 -0.008 -0.007 -0.027 -0.189 -0.002 ...\n",
      " - attr(*, \"spec\")=\n",
      "  .. cols(\n",
      "  ..   ID...1 = \u001b[32mcol_double()\u001b[39m,\n",
      "  ..   GeneID = \u001b[31mcol_character()\u001b[39m,\n",
      "  ..   geneSymbol = \u001b[31mcol_character()\u001b[39m,\n",
      "  ..   chr = \u001b[31mcol_character()\u001b[39m,\n",
      "  ..   strand = \u001b[31mcol_character()\u001b[39m,\n",
      "  ..   exonStart_0base = \u001b[32mcol_double()\u001b[39m,\n",
      "  ..   exonEnd = \u001b[32mcol_double()\u001b[39m,\n",
      "  ..   upstreamES = \u001b[32mcol_double()\u001b[39m,\n",
      "  ..   upstreamEE = \u001b[32mcol_double()\u001b[39m,\n",
      "  ..   downstreamES = \u001b[32mcol_double()\u001b[39m,\n",
      "  ..   downstreamEE = \u001b[32mcol_double()\u001b[39m,\n",
      "  ..   ID...12 = \u001b[32mcol_double()\u001b[39m,\n",
      "  ..   IJC_SAMPLE_1 = \u001b[31mcol_character()\u001b[39m,\n",
      "  ..   SJC_SAMPLE_1 = \u001b[31mcol_character()\u001b[39m,\n",
      "  ..   IJC_SAMPLE_2 = \u001b[32mcol_double()\u001b[39m,\n",
      "  ..   SJC_SAMPLE_2 = \u001b[32mcol_double()\u001b[39m,\n",
      "  ..   IncFormLen = \u001b[32mcol_double()\u001b[39m,\n",
      "  ..   SkipFormLen = \u001b[32mcol_double()\u001b[39m,\n",
      "  ..   PValue = \u001b[32mcol_double()\u001b[39m,\n",
      "  ..   FDR = \u001b[32mcol_double()\u001b[39m,\n",
      "  ..   IncLevel1 = \u001b[31mcol_character()\u001b[39m,\n",
      "  ..   IncLevel2 = \u001b[32mcol_double()\u001b[39m,\n",
      "  ..   IncLevelDifference = \u001b[32mcol_double()\u001b[39m\n",
      "  .. )\n",
      " - attr(*, \"problems\")=<externalptr> \n"
     ]
    }
   ],
   "source": [
    "str (SE_RNAP112)"
   ]
  },
  {
   "cell_type": "code",
   "execution_count": 5,
   "id": "d8b0d4d0-c216-4e07-bd42-e02402f0f6c1",
   "metadata": {
    "execution": {
     "iopub.execute_input": "2023-08-03T20:44:48.230912Z",
     "iopub.status.busy": "2023-08-03T20:44:48.228605Z",
     "iopub.status.idle": "2023-08-03T20:44:48.341407Z",
     "shell.execute_reply": "2023-08-03T20:44:48.336667Z"
    },
    "tags": []
   },
   "outputs": [
    {
     "data": {
      "text/html": [
       "<table class=\"dataframe\">\n",
       "<caption>A spec_tbl_df: 1 × 23</caption>\n",
       "<thead>\n",
       "\t<tr><th scope=col>ID...1</th><th scope=col>GeneID</th><th scope=col>geneSymbol</th><th scope=col>chr</th><th scope=col>strand</th><th scope=col>exonStart_0base</th><th scope=col>exonEnd</th><th scope=col>upstreamES</th><th scope=col>upstreamEE</th><th scope=col>downstreamES</th><th scope=col>⋯</th><th scope=col>SJC_SAMPLE_1</th><th scope=col>IJC_SAMPLE_2</th><th scope=col>SJC_SAMPLE_2</th><th scope=col>IncFormLen</th><th scope=col>SkipFormLen</th><th scope=col>PValue</th><th scope=col>FDR</th><th scope=col>IncLevel1</th><th scope=col>IncLevel2</th><th scope=col>IncLevelDifference</th></tr>\n",
       "\t<tr><th scope=col>&lt;dbl&gt;</th><th scope=col>&lt;chr&gt;</th><th scope=col>&lt;chr&gt;</th><th scope=col>&lt;chr&gt;</th><th scope=col>&lt;chr&gt;</th><th scope=col>&lt;dbl&gt;</th><th scope=col>&lt;dbl&gt;</th><th scope=col>&lt;dbl&gt;</th><th scope=col>&lt;dbl&gt;</th><th scope=col>&lt;dbl&gt;</th><th scope=col>⋯</th><th scope=col>&lt;chr&gt;</th><th scope=col>&lt;dbl&gt;</th><th scope=col>&lt;dbl&gt;</th><th scope=col>&lt;dbl&gt;</th><th scope=col>&lt;dbl&gt;</th><th scope=col>&lt;dbl&gt;</th><th scope=col>&lt;dbl&gt;</th><th scope=col>&lt;chr&gt;</th><th scope=col>&lt;dbl&gt;</th><th scope=col>&lt;dbl&gt;</th></tr>\n",
       "</thead>\n",
       "<tbody>\n",
       "\t<tr><td>59897</td><td>ENSG00000076242</td><td>MLH1</td><td>chr3</td><td>+</td><td>37012011</td><td>37012099</td><td>37011819</td><td>37011862</td><td>37014431</td><td>⋯</td><td>0,0,0,0,0,0,0,0,0,0,0,0,0,0,0,0,0,0,0,0,0,0,0,0,0,0,0,0,0,0,0,0,0,0,0,0,0,0,0,0,0,0,0,0,0,0,0,0,0,0,0,0,0,0,0,0</td><td>255</td><td>64</td><td>238</td><td>150</td><td>0</td><td>0</td><td>1.0,1.0,1.0,1.0,1.0,1.0,1.0,1.0,1.0,1.0,1.0,1.0,1.0,1.0,1.0,1.0,1.0,1.0,1.0,1.0,1.0,1.0,1.0,1.0,1.0,1.0,1.0,1.0,1.0,1.0,1.0,1.0,1.0,1.0,1.0,1.0,1.0,1.0,1.0,1.0,1.0,1.0,1.0,1.0,1.0,1.0,1.0,1.0,1.0,1.0,1.0,1.0,1.0,1.0,1.0,1.0</td><td>0.715</td><td>0.285</td></tr>\n",
       "</tbody>\n",
       "</table>\n"
      ],
      "text/latex": [
       "A spec\\_tbl\\_df: 1 × 23\n",
       "\\begin{tabular}{lllllllllllllllllllll}\n",
       " ID...1 & GeneID & geneSymbol & chr & strand & exonStart\\_0base & exonEnd & upstreamES & upstreamEE & downstreamES & ⋯ & SJC\\_SAMPLE\\_1 & IJC\\_SAMPLE\\_2 & SJC\\_SAMPLE\\_2 & IncFormLen & SkipFormLen & PValue & FDR & IncLevel1 & IncLevel2 & IncLevelDifference\\\\\n",
       " <dbl> & <chr> & <chr> & <chr> & <chr> & <dbl> & <dbl> & <dbl> & <dbl> & <dbl> & ⋯ & <chr> & <dbl> & <dbl> & <dbl> & <dbl> & <dbl> & <dbl> & <chr> & <dbl> & <dbl>\\\\\n",
       "\\hline\n",
       "\t 59897 & ENSG00000076242 & MLH1 & chr3 & + & 37012011 & 37012099 & 37011819 & 37011862 & 37014431 & ⋯ & 0,0,0,0,0,0,0,0,0,0,0,0,0,0,0,0,0,0,0,0,0,0,0,0,0,0,0,0,0,0,0,0,0,0,0,0,0,0,0,0,0,0,0,0,0,0,0,0,0,0,0,0,0,0,0,0 & 255 & 64 & 238 & 150 & 0 & 0 & 1.0,1.0,1.0,1.0,1.0,1.0,1.0,1.0,1.0,1.0,1.0,1.0,1.0,1.0,1.0,1.0,1.0,1.0,1.0,1.0,1.0,1.0,1.0,1.0,1.0,1.0,1.0,1.0,1.0,1.0,1.0,1.0,1.0,1.0,1.0,1.0,1.0,1.0,1.0,1.0,1.0,1.0,1.0,1.0,1.0,1.0,1.0,1.0,1.0,1.0,1.0,1.0,1.0,1.0,1.0,1.0 & 0.715 & 0.285\\\\\n",
       "\\end{tabular}\n"
      ],
      "text/markdown": [
       "\n",
       "A spec_tbl_df: 1 × 23\n",
       "\n",
       "| ID...1 &lt;dbl&gt; | GeneID &lt;chr&gt; | geneSymbol &lt;chr&gt; | chr &lt;chr&gt; | strand &lt;chr&gt; | exonStart_0base &lt;dbl&gt; | exonEnd &lt;dbl&gt; | upstreamES &lt;dbl&gt; | upstreamEE &lt;dbl&gt; | downstreamES &lt;dbl&gt; | ⋯ ⋯ | SJC_SAMPLE_1 &lt;chr&gt; | IJC_SAMPLE_2 &lt;dbl&gt; | SJC_SAMPLE_2 &lt;dbl&gt; | IncFormLen &lt;dbl&gt; | SkipFormLen &lt;dbl&gt; | PValue &lt;dbl&gt; | FDR &lt;dbl&gt; | IncLevel1 &lt;chr&gt; | IncLevel2 &lt;dbl&gt; | IncLevelDifference &lt;dbl&gt; |\n",
       "|---|---|---|---|---|---|---|---|---|---|---|---|---|---|---|---|---|---|---|---|---|\n",
       "| 59897 | ENSG00000076242 | MLH1 | chr3 | + | 37012011 | 37012099 | 37011819 | 37011862 | 37014431 | ⋯ | 0,0,0,0,0,0,0,0,0,0,0,0,0,0,0,0,0,0,0,0,0,0,0,0,0,0,0,0,0,0,0,0,0,0,0,0,0,0,0,0,0,0,0,0,0,0,0,0,0,0,0,0,0,0,0,0 | 255 | 64 | 238 | 150 | 0 | 0 | 1.0,1.0,1.0,1.0,1.0,1.0,1.0,1.0,1.0,1.0,1.0,1.0,1.0,1.0,1.0,1.0,1.0,1.0,1.0,1.0,1.0,1.0,1.0,1.0,1.0,1.0,1.0,1.0,1.0,1.0,1.0,1.0,1.0,1.0,1.0,1.0,1.0,1.0,1.0,1.0,1.0,1.0,1.0,1.0,1.0,1.0,1.0,1.0,1.0,1.0,1.0,1.0,1.0,1.0,1.0,1.0 | 0.715 | 0.285 |\n",
       "\n"
      ],
      "text/plain": [
       "  ID...1 GeneID          geneSymbol chr  strand exonStart_0base exonEnd \n",
       "1 59897  ENSG00000076242 MLH1       chr3 +      37012011        37012099\n",
       "  upstreamES upstreamEE downstreamES ⋯\n",
       "1 37011819   37011862   37014431     ⋯\n",
       "  SJC_SAMPLE_1                                                                                                   \n",
       "1 0,0,0,0,0,0,0,0,0,0,0,0,0,0,0,0,0,0,0,0,0,0,0,0,0,0,0,0,0,0,0,0,0,0,0,0,0,0,0,0,0,0,0,0,0,0,0,0,0,0,0,0,0,0,0,0\n",
       "  IJC_SAMPLE_2 SJC_SAMPLE_2 IncFormLen SkipFormLen PValue FDR\n",
       "1 255          64           238        150         0      0  \n",
       "  IncLevel1                                                                                                                                                                                                                      \n",
       "1 1.0,1.0,1.0,1.0,1.0,1.0,1.0,1.0,1.0,1.0,1.0,1.0,1.0,1.0,1.0,1.0,1.0,1.0,1.0,1.0,1.0,1.0,1.0,1.0,1.0,1.0,1.0,1.0,1.0,1.0,1.0,1.0,1.0,1.0,1.0,1.0,1.0,1.0,1.0,1.0,1.0,1.0,1.0,1.0,1.0,1.0,1.0,1.0,1.0,1.0,1.0,1.0,1.0,1.0,1.0,1.0\n",
       "  IncLevel2 IncLevelDifference\n",
       "1 0.715     0.285             "
      ]
     },
     "metadata": {},
     "output_type": "display_data"
    }
   ],
   "source": [
    "filter_SE <- SE_RNAP112 %>% filter (ID...1 == 59897)\n",
    "filter_SE"
   ]
  },
  {
   "cell_type": "code",
   "execution_count": 6,
   "id": "95d59b31-7098-440d-a6ba-dd83c8146ad6",
   "metadata": {
    "execution": {
     "iopub.execute_input": "2023-08-03T20:44:56.855658Z",
     "iopub.status.busy": "2023-08-03T20:44:56.853083Z",
     "iopub.status.idle": "2023-08-03T20:44:56.940963Z",
     "shell.execute_reply": "2023-08-03T20:44:56.935446Z"
    },
    "tags": []
   },
   "outputs": [],
   "source": [
    "write_tsv(filter_SE, \"SE_SashimiPlot_RNAP112.txt\")"
   ]
  }
 ],
 "metadata": {
  "kernelspec": {
   "display_name": "R [conda env:bioc-3.16]",
   "language": "R",
   "name": "conda-env-bioc-3.16-r"
  },
  "language_info": {
   "codemirror_mode": "r",
   "file_extension": ".r",
   "mimetype": "text/x-r-source",
   "name": "R",
   "pygments_lexer": "r",
   "version": "4.2.2"
  }
 },
 "nbformat": 4,
 "nbformat_minor": 5
}
